{
 "cells": [
  {
   "cell_type": "markdown",
   "id": "25b39340",
   "metadata": {},
   "source": [
    "# <font color=\"red\">Hackday - Dados Inglórios</font>"
   ]
  },
  {
   "cell_type": "markdown",
   "id": "494e5b2f",
   "metadata": {},
   "source": [
    "## Planejamento da Solução"
   ]
  },
  {
   "cell_type": "markdown",
   "id": "5c6c98f1",
   "metadata": {},
   "source": [
    "### Input"
   ]
  },
  {
   "cell_type": "markdown",
   "id": "839f0e29",
   "metadata": {},
   "source": [
    "**Problema de Negócio**"
   ]
  },
  {
   "cell_type": "markdown",
   "id": "fd883f40",
   "metadata": {},
   "source": [
    "A inclusão financeira continua a ser um dos principais obstáculos ao desenvolvimento econômico e humano na África. Por exemplo, no Quênia, Ruanda, Tanzânia e Uganda, apenas 9,1 milhões de adultos (14% dos adultos), têm acesso ou usam uma conta bancária comercial.\n",
    "\n",
    "Em 2008, o nível de inclusão financeira na África Subsaariana era de pouco mais de 23%. Em 2018, esse número quase dobrou. No Togo, Mazamesso Assih, ministro de finanças, coordena uma estratégia de inclusão financeira com bancos parceiros. Ele afirma que garantir acesso a serviços financeiros básicos para a população, é fundamental para impulsionar a economia Africana.\n",
    "\n",
    "Em 2022, conforme destacado no último relatório do Banco Central da África Ocidental, atingiu-se uma das mais altas taxas de inclusão financeira da região, próxima de 82%. Uma parcela significativa desse aumento veio do aumento dos serviços financeiros digitais.\n",
    "\n",
    "Assih afirma também, que existem três razões principais pelas quais as nações africanas devem apostar na inclusão financeira:\n",
    "\n",
    " 1. Tornar os serviços financeiros mais acessíveis promove o empoderamento das pessoas mais vulneráveis, especialmente as mulheres.\n",
    " 2. Combater redes criminosas, passar de uma economia exclusivamente monetária para uma infraestrutura financeira digital torna mais fácil para as autoridades rastrear transações e lidar com contrabandistas e traficantes.\n",
    " 3. impulsionará a conectividade dos setores público e privado para um crescimento sustentável, apoiando as start-ups africanas.\n",
    " \n",
    "O objetivo desta competição é criar um modelo de aprendizado de máquina para prever quais indivíduos vão ou não utilizar uma conta bancária. Os modelos e soluções desenvolvidos devem fornecer uma indicação do estado da inclusão financeira no Quênia, Ruanda, Tanzânia e Uganda.\n",
    "\n"
   ]
  },
  {
   "cell_type": "markdown",
   "id": "8fd40c76",
   "metadata": {},
   "source": [
    "**Dados**"
   ]
  },
  {
   "cell_type": "markdown",
   "id": "a79b7594",
   "metadata": {},
   "source": [
    "Os dados necessários podem ser encontrados no [repositório da atividade](https://www.kaggle.com/c/inclusao-financeira-na-africa). No arquivo train.csv você encontrará:\n",
    "\n",
    "|Feature|Descrição|\n",
    "|:------|:--------|\n",
    "|country| Pais de Origem.\n",
    "|year| Ano da Inclusão\n",
    "|uniqueid| Id do Usuário.\n",
    "|bank_account| Possui ou Não a Conta no Banco.\n",
    "|location_type| Tipo de Localidade (Rural...)\n",
    "|cellphone_access| Possui ou Não Celular.\n",
    "|household_size| Tamanho da Casa.\n",
    "|age_of_respondent| Idade do Usuário.\n",
    "|gender_of_respondent| Gênero do Usuário.\n",
    "|relationship_with_head| Status com o Dono da Conta.\n",
    "|marital_status| Situação Civil.\n",
    "|education_level| Nível de Educação.\n",
    "|job_type| Tipo de Trabalho."
   ]
  },
  {
   "cell_type": "markdown",
   "id": "ff1e9f2a",
   "metadata": {},
   "source": [
    "### Output"
   ]
  },
  {
   "cell_type": "markdown",
   "id": "fa286382",
   "metadata": {},
   "source": [
    "Um arquivo CSV com a previsão do modelo dizendo quais clientes abrirão uma conta digital em duas colunas:  \n",
    "\n",
    "|uid|\tbank_account|\n",
    "|:--|:--------------|\n",
    "|Rwanda_uniqueid_625|\tNo|\n",
    "|Rwanda_uniqueid_1561|\tNo|\n",
    "|Rwanda_uniqueid_4806|\tNo|\n",
    "|Tanzania_uniqueid_4902|\tYes|\n",
    "|Rwanda_uniqueid_980|\tNo|\n",
    "|Rwanda_uniqueid_7043|\tNo|"
   ]
  },
  {
   "cell_type": "markdown",
   "id": "a5a567b8",
   "metadata": {},
   "source": [
    "### Tasks"
   ]
  },
  {
   "cell_type": "markdown",
   "id": "49f9b728",
   "metadata": {},
   "source": [
    "- Descrição dos Dados\n",
    "    - Renomear colunas\n",
    "    - Checar dimenões\n",
    "    - Checar tipos\n",
    "    - Alterar tipos\n",
    "    - Checar vazios\n",
    "    - Preencher os vazios\n",
    "    - Descrições Estatísticas\n",
    "\n",
    "- Feature Engineering\n",
    "    - Mapa de hipóteses\n",
    "    - Criação de hipóteses\n",
    "- Seleção de features (Filtro)\n",
    "- EDA\n",
    "    - Univariada\n",
    "    - Bivariada (teste de hipóteses)\n",
    "    - Multivariadas\n",
    "- Preparação dos dados\n",
    "    - Rescala das features\n",
    "- Seleção de features\n",
    "- Construção do modelo\n",
    "    - modelos de classificação\n",
    "    - guideline\n",
    "- Avaliação do modelo\n",
    "- Fine Tuning\n",
    "- CSV Final"
   ]
  },
  {
   "cell_type": "markdown",
   "id": "054d62ec",
   "metadata": {},
   "source": [
    "## 0. Settings"
   ]
  },
  {
   "cell_type": "markdown",
   "id": "4f046d4a",
   "metadata": {},
   "source": [
    "### 0.1. Imports"
   ]
  },
  {
   "cell_type": "code",
   "execution_count": 1,
   "id": "ebb8fc54",
   "metadata": {
    "ExecuteTime": {
     "end_time": "2022-05-28T16:33:44.864248Z",
     "start_time": "2022-05-28T16:33:44.856705Z"
    }
   },
   "outputs": [],
   "source": [
    "# manipulação de dados\n",
    "import pandas as pd\n",
    "import numpy as np\n",
    "\n",
    "# visualização de dados\n",
    "import matplotlib.pyplot as plt\n",
    "import seaborn as sns\n",
    "\n",
    "from IPython.display import HTML\n",
    "\n",
    "# scikit-learn\n",
    "from sklearn import model_selection as ms\n",
    "from sklearn import ensemble\n",
    "from sklearn import metrics"
   ]
  },
  {
   "cell_type": "markdown",
   "id": "e5ff7771",
   "metadata": {},
   "source": [
    "### 0.2. Helper Functions"
   ]
  },
  {
   "cell_type": "code",
   "execution_count": 2,
   "id": "a1f79abd",
   "metadata": {
    "ExecuteTime": {
     "end_time": "2022-05-28T15:43:17.681754Z",
     "start_time": "2022-05-28T15:43:17.653107Z"
    }
   },
   "outputs": [
    {
     "name": "stdout",
     "output_type": "stream",
     "text": [
      "%pylab is deprecated, use %matplotlib inline and import the required libraries.\n",
      "Populating the interactive namespace from numpy and matplotlib\n"
     ]
    },
    {
     "data": {
      "text/html": [
       "<style>.container {width:100% !important;}</style>"
      ],
      "text/plain": [
       "<IPython.core.display.HTML object>"
      ]
     },
     "metadata": {},
     "output_type": "display_data"
    }
   ],
   "source": [
    "def jupyter_settings():\n",
    "    %matplotlib inline\n",
    "    %pylab inline\n",
    "    \n",
    "    plt.style.use('bmh')\n",
    "    plt.rcParams['figure.figsize'] = [25, 12]\n",
    "    plt.rcParams['font.size'] = 24\n",
    "    \n",
    "    display(HTML('<style>.container {width:100% !important;}</style>'))\n",
    "    pd.options.display.max_columns = None\n",
    "    pd.options.display.max_rows = None\n",
    "    pd.set_option('display.expand_frame_repr', False)\n",
    "    \n",
    "    sns.set()\n",
    "\n",
    "jupyter_settings()"
   ]
  },
  {
   "cell_type": "markdown",
   "id": "c1424f31",
   "metadata": {},
   "source": [
    "### 0.3. Data Loading"
   ]
  },
  {
   "cell_type": "code",
   "execution_count": 3,
   "id": "01cb76bb",
   "metadata": {
    "ExecuteTime": {
     "end_time": "2022-05-28T15:46:40.988120Z",
     "start_time": "2022-05-28T15:46:40.939256Z"
    }
   },
   "outputs": [
    {
     "data": {
      "text/html": [
       "<div>\n",
       "<style scoped>\n",
       "    .dataframe tbody tr th:only-of-type {\n",
       "        vertical-align: middle;\n",
       "    }\n",
       "\n",
       "    .dataframe tbody tr th {\n",
       "        vertical-align: top;\n",
       "    }\n",
       "\n",
       "    .dataframe thead th {\n",
       "        text-align: right;\n",
       "    }\n",
       "</style>\n",
       "<table border=\"1\" class=\"dataframe\">\n",
       "  <thead>\n",
       "    <tr style=\"text-align: right;\">\n",
       "      <th></th>\n",
       "      <th>country</th>\n",
       "      <th>year</th>\n",
       "      <th>uniqueid</th>\n",
       "      <th>location_type</th>\n",
       "      <th>cellphone_access</th>\n",
       "      <th>household_size</th>\n",
       "      <th>age_of_respondent</th>\n",
       "      <th>gender_of_respondent</th>\n",
       "      <th>relationship_with_head</th>\n",
       "      <th>marital_status</th>\n",
       "      <th>education_level</th>\n",
       "      <th>job_type</th>\n",
       "      <th>uid</th>\n",
       "      <th>bank_account</th>\n",
       "    </tr>\n",
       "  </thead>\n",
       "  <tbody>\n",
       "    <tr>\n",
       "      <th>0</th>\n",
       "      <td>Rwanda</td>\n",
       "      <td>2016</td>\n",
       "      <td>uniqueid_4858</td>\n",
       "      <td>Rural</td>\n",
       "      <td>Yes</td>\n",
       "      <td>6</td>\n",
       "      <td>45</td>\n",
       "      <td>Male</td>\n",
       "      <td>Head of Household</td>\n",
       "      <td>Divorced/Seperated</td>\n",
       "      <td>Primary education</td>\n",
       "      <td>Farming and Fishing</td>\n",
       "      <td>Rwanda_uniqueid_4858</td>\n",
       "      <td>No</td>\n",
       "    </tr>\n",
       "    <tr>\n",
       "      <th>1</th>\n",
       "      <td>Tanzania</td>\n",
       "      <td>2017</td>\n",
       "      <td>uniqueid_3015</td>\n",
       "      <td>Urban</td>\n",
       "      <td>No</td>\n",
       "      <td>4</td>\n",
       "      <td>33</td>\n",
       "      <td>Female</td>\n",
       "      <td>Head of Household</td>\n",
       "      <td>Single/Never Married</td>\n",
       "      <td>Primary education</td>\n",
       "      <td>Self employed</td>\n",
       "      <td>Tanzania_uniqueid_3015</td>\n",
       "      <td>No</td>\n",
       "    </tr>\n",
       "    <tr>\n",
       "      <th>2</th>\n",
       "      <td>Rwanda</td>\n",
       "      <td>2016</td>\n",
       "      <td>uniqueid_103</td>\n",
       "      <td>Rural</td>\n",
       "      <td>Yes</td>\n",
       "      <td>7</td>\n",
       "      <td>43</td>\n",
       "      <td>Male</td>\n",
       "      <td>Head of Household</td>\n",
       "      <td>Married/Living together</td>\n",
       "      <td>Secondary education</td>\n",
       "      <td>Farming and Fishing</td>\n",
       "      <td>Rwanda_uniqueid_103</td>\n",
       "      <td>No</td>\n",
       "    </tr>\n",
       "    <tr>\n",
       "      <th>3</th>\n",
       "      <td>Rwanda</td>\n",
       "      <td>2016</td>\n",
       "      <td>uniqueid_4582</td>\n",
       "      <td>Rural</td>\n",
       "      <td>No</td>\n",
       "      <td>6</td>\n",
       "      <td>35</td>\n",
       "      <td>Female</td>\n",
       "      <td>Head of Household</td>\n",
       "      <td>Married/Living together</td>\n",
       "      <td>Primary education</td>\n",
       "      <td>Farming and Fishing</td>\n",
       "      <td>Rwanda_uniqueid_4582</td>\n",
       "      <td>No</td>\n",
       "    </tr>\n",
       "    <tr>\n",
       "      <th>4</th>\n",
       "      <td>Tanzania</td>\n",
       "      <td>2017</td>\n",
       "      <td>uniqueid_2854</td>\n",
       "      <td>Urban</td>\n",
       "      <td>Yes</td>\n",
       "      <td>2</td>\n",
       "      <td>30</td>\n",
       "      <td>Male</td>\n",
       "      <td>Head of Household</td>\n",
       "      <td>Single/Never Married</td>\n",
       "      <td>Primary education</td>\n",
       "      <td>Informally employed</td>\n",
       "      <td>Tanzania_uniqueid_2854</td>\n",
       "      <td>No</td>\n",
       "    </tr>\n",
       "  </tbody>\n",
       "</table>\n",
       "</div>"
      ],
      "text/plain": [
       "    country  year       uniqueid location_type cellphone_access  household_size  age_of_respondent gender_of_respondent relationship_with_head           marital_status      education_level             job_type                     uid bank_account\n",
       "0    Rwanda  2016  uniqueid_4858         Rural              Yes               6                 45                 Male      Head of Household       Divorced/Seperated    Primary education  Farming and Fishing    Rwanda_uniqueid_4858           No\n",
       "1  Tanzania  2017  uniqueid_3015         Urban               No               4                 33               Female      Head of Household     Single/Never Married    Primary education        Self employed  Tanzania_uniqueid_3015           No\n",
       "2    Rwanda  2016   uniqueid_103         Rural              Yes               7                 43                 Male      Head of Household  Married/Living together  Secondary education  Farming and Fishing     Rwanda_uniqueid_103           No\n",
       "3    Rwanda  2016  uniqueid_4582         Rural               No               6                 35               Female      Head of Household  Married/Living together    Primary education  Farming and Fishing    Rwanda_uniqueid_4582           No\n",
       "4  Tanzania  2017  uniqueid_2854         Urban              Yes               2                 30                 Male      Head of Household     Single/Never Married    Primary education  Informally employed  Tanzania_uniqueid_2854           No"
      ]
     },
     "execution_count": 3,
     "metadata": {},
     "output_type": "execute_result"
    }
   ],
   "source": [
    "train_file = './data/train.csv'\n",
    "\n",
    "df_raw = pd.read_csv(train_file)\n",
    "df_raw.head()"
   ]
  },
  {
   "cell_type": "markdown",
   "id": "aad2260b",
   "metadata": {},
   "source": [
    "## 1. Descrição dos Dados"
   ]
  },
  {
   "cell_type": "code",
   "execution_count": 4,
   "id": "f508a3ce",
   "metadata": {
    "ExecuteTime": {
     "end_time": "2022-05-28T15:47:48.366165Z",
     "start_time": "2022-05-28T15:47:48.361497Z"
    }
   },
   "outputs": [],
   "source": [
    "df1 = df_raw.copy()"
   ]
  },
  {
<<<<<<< Updated upstream
   "cell_type": "markdown",
   "id": "d3da856c",
   "metadata": {},
=======
   "cell_type": "code",
   "execution_count": 5,
   "id": "486022ee-17eb-45d7-a3d4-d0e1945c20d1",
   "metadata": {
    "ExecuteTime": {
     "end_time": "2022-05-28T18:31:45.243624Z",
     "start_time": "2022-05-28T18:31:45.236197Z"
    }
   },
   "outputs": [
    {
     "data": {
      "text/plain": [
       "array(['Rwanda', 'Tanzania', 'Kenya', 'Uganda'], dtype=object)"
      ]
     },
     "execution_count": 5,
     "metadata": {},
     "output_type": "execute_result"
    }
   ],
>>>>>>> Stashed changes
   "source": [
    "### 1.1. Renomear features"
   ]
  },
  {
   "cell_type": "code",
<<<<<<< Updated upstream
   "execution_count": 5,
   "id": "08d7ef6e",
   "metadata": {},
   "outputs": [],
=======
   "execution_count": 6,
   "id": "90c6ffae-571b-4449-b761-555a9f169fde",
   "metadata": {
    "ExecuteTime": {
     "end_time": "2022-05-28T18:31:45.256225Z",
     "start_time": "2022-05-28T18:31:45.246659Z"
    }
   },
   "outputs": [
    {
     "data": {
      "text/plain": [
       "array(['Rural', 'Urban'], dtype=object)"
      ]
     },
     "execution_count": 6,
     "metadata": {},
     "output_type": "execute_result"
    }
   ],
>>>>>>> Stashed changes
   "source": [
    "df1 = df1.drop(columns='uid')\n",
    "df1['bank_account'] = df1['bank_account'].apply(lambda x: 1 if x == 'Yes' else 0)\n",
    "df1['cellphone_access'] = df1['cellphone_access'].apply(lambda x: 1 if x == 'Yes' else 0)\n",
    "df1['gender_of_respondent'] = df1['gender_of_respondent'].apply(lambda x: 1 if x == 'Male' else 0)\n",
    "df1['location_type'] = df1['location_type'].apply(lambda x: 1 if x == 'Urban' else 0)"
   ]
  },
  {
<<<<<<< Updated upstream
   "cell_type": "markdown",
   "id": "77b33cf9",
   "metadata": {},
=======
   "cell_type": "code",
   "execution_count": 7,
   "id": "530e1719-96e7-4d65-9f59-271d794c11d6",
   "metadata": {
    "ExecuteTime": {
     "end_time": "2022-05-28T18:31:45.264999Z",
     "start_time": "2022-05-28T18:31:45.258682Z"
    }
   },
   "outputs": [
    {
     "data": {
      "text/plain": [
       "array(['Head of Household', 'Spouse', 'Child', 'Parent', 'Other relative',\n",
       "       'Other non-relatives'], dtype=object)"
      ]
     },
     "execution_count": 7,
     "metadata": {},
     "output_type": "execute_result"
    }
   ],
>>>>>>> Stashed changes
   "source": [
    "### 1.2. Checar Dimensões"
   ]
  },
  {
   "cell_type": "code",
<<<<<<< Updated upstream
   "execution_count": 6,
   "id": "3b3971e8",
   "metadata": {},
=======
   "execution_count": 8,
   "id": "db41946d-c6e9-418e-8645-44e9d066d306",
   "metadata": {
    "ExecuteTime": {
     "end_time": "2022-05-28T18:31:45.277198Z",
     "start_time": "2022-05-28T18:31:45.267964Z"
    }
   },
>>>>>>> Stashed changes
   "outputs": [
    {
     "data": {
      "text/plain": [
       "(11762, 13)"
      ]
     },
<<<<<<< Updated upstream
     "execution_count": 6,
=======
     "execution_count": 8,
>>>>>>> Stashed changes
     "metadata": {},
     "output_type": "execute_result"
    }
   ],
   "source": [
    "df1.shape"
   ]
  },
  {
   "cell_type": "markdown",
   "id": "ce43b50d",
   "metadata": {},
   "source": [
    "### 1.3. Checar Tipos"
   ]
  },
  {
   "cell_type": "code",
<<<<<<< Updated upstream
   "execution_count": 7,
   "id": "8e7ca16e",
   "metadata": {},
=======
   "execution_count": 9,
   "id": "a0df47ae-0491-471c-a9f2-5557d38c1659",
   "metadata": {
    "ExecuteTime": {
     "end_time": "2022-05-28T18:31:45.292866Z",
     "start_time": "2022-05-28T18:31:45.284552Z"
    }
   },
>>>>>>> Stashed changes
   "outputs": [
    {
     "data": {
      "text/plain": [
       "country                   object\n",
       "year                       int64\n",
       "uniqueid                  object\n",
       "location_type              int64\n",
       "cellphone_access           int64\n",
       "household_size             int64\n",
       "age_of_respondent          int64\n",
       "gender_of_respondent       int64\n",
       "relationship_with_head    object\n",
       "marital_status            object\n",
       "education_level           object\n",
       "job_type                  object\n",
       "bank_account               int64\n",
       "dtype: object"
      ]
     },
<<<<<<< Updated upstream
     "execution_count": 7,
=======
     "execution_count": 9,
>>>>>>> Stashed changes
     "metadata": {},
     "output_type": "execute_result"
    }
   ],
   "source": [
    "df1.dtypes"
   ]
  },
  {
   "cell_type": "markdown",
   "id": "c7a3b928",
   "metadata": {},
   "source": [
    "### 1.4. Alterar Tipos"
   ]
  },
  {
   "cell_type": "code",
   "execution_count": 8,
   "id": "e681eb8f",
   "metadata": {},
   "outputs": [],
   "source": [
    "df1['uniqueid'] = df1['uniqueid'].astype('str').str.extractall('(\\d+)').unstack().fillna('').sum(axis=1).astype('int64')\n",
    "\n"
   ]
  },
  {
   "cell_type": "markdown",
   "id": "f2a2415c",
   "metadata": {},
   "source": [
    "### 1.5. Checa NaN"
   ]
  },
  {
   "cell_type": "code",
<<<<<<< Updated upstream
   "execution_count": 9,
=======
   "execution_count": 10,
>>>>>>> Stashed changes
   "id": "5512f338",
   "metadata": {
    "ExecuteTime": {
     "end_time": "2022-05-28T15:47:59.924199Z",
     "start_time": "2022-05-28T15:47:59.892740Z"
    }
   },
   "outputs": [
    {
     "data": {
      "text/plain": [
       "country                   0\n",
       "year                      0\n",
       "uniqueid                  0\n",
       "location_type             0\n",
       "cellphone_access          0\n",
       "household_size            0\n",
       "age_of_respondent         0\n",
       "gender_of_respondent      0\n",
       "relationship_with_head    0\n",
       "marital_status            0\n",
       "education_level           0\n",
       "job_type                  0\n",
       "bank_account              0\n",
       "dtype: int64"
      ]
     },
<<<<<<< Updated upstream
     "execution_count": 9,
=======
     "execution_count": 10,
>>>>>>> Stashed changes
     "metadata": {},
     "output_type": "execute_result"
    }
   ],
   "source": [
    "df1.isna().sum()"
   ]
  },
  {
   "cell_type": "markdown",
   "id": "5a526c9e",
   "metadata": {},
   "source": [
    "### 1.6. Preenche NaN"
   ]
  },
  {
   "cell_type": "markdown",
   "id": "ab0335ee",
   "metadata": {},
   "source": []
  },
  {
   "cell_type": "markdown",
   "id": "34775d08",
   "metadata": {},
   "source": [
    "### 1.7. Estatística Descritiva"
   ]
  },
  {
   "cell_type": "code",
<<<<<<< Updated upstream
   "execution_count": 29,
   "id": "0b40ccf8",
   "metadata": {},
   "outputs": [
    {
     "name": "stderr",
     "output_type": "stream",
     "text": [
      "C:\\Users\\User\\AppData\\Local\\Temp\\ipykernel_11092\\1114445315.py:2: UserWarning: To output multiple subplots, the figure containing the passed axes is being cleared.\n",
      "  numeric_attributes.hist(ax = ax, bins = 25);\n"
     ]
=======
   "execution_count": 11,
   "id": "0ef8e10d",
   "metadata": {
    "ExecuteTime": {
     "end_time": "2022-05-28T18:31:45.341311Z",
     "start_time": "2022-05-28T18:31:45.334871Z"
>>>>>>> Stashed changes
    }
   ],
   "source": [
    "numeric_attributes = df1.select_dtypes(include = ['int64', 'float64'])\n",
    "fig = plt.figure(figsize=(22,17))\n",
    "ax = fig.gca()\n",
    "numeric_attributes.hist(ax = ax, bins = 25);"
   ]
  },
  {
   "cell_type": "code",
<<<<<<< Updated upstream
   "execution_count": 11,
   "id": "b6cbb52e",
   "metadata": {},
=======
   "execution_count": 12,
   "id": "4020c745-0670-4933-8ecf-136642b9a4c9",
   "metadata": {
    "ExecuteTime": {
     "end_time": "2022-05-28T18:31:45.353251Z",
     "start_time": "2022-05-28T18:31:45.344438Z"
    }
   },
>>>>>>> Stashed changes
   "outputs": [
    {
     "data": {
      "text/html": [
       "<div>\n",
       "<style scoped>\n",
       "    .dataframe tbody tr th:only-of-type {\n",
       "        vertical-align: middle;\n",
       "    }\n",
       "\n",
       "    .dataframe tbody tr th {\n",
       "        vertical-align: top;\n",
       "    }\n",
       "\n",
       "    .dataframe thead th {\n",
       "        text-align: right;\n",
       "    }\n",
       "</style>\n",
       "<table border=\"1\" class=\"dataframe\">\n",
       "  <thead>\n",
       "    <tr style=\"text-align: right;\">\n",
       "      <th></th>\n",
       "      <th>count</th>\n",
       "      <th>mean</th>\n",
       "      <th>std</th>\n",
       "      <th>min</th>\n",
       "      <th>25%</th>\n",
       "      <th>50%</th>\n",
       "      <th>75%</th>\n",
       "      <th>max</th>\n",
       "    </tr>\n",
       "  </thead>\n",
       "  <tbody>\n",
       "    <tr>\n",
       "      <th>year</th>\n",
       "      <td>11762.0</td>\n",
       "      <td>2016.983336</td>\n",
       "      <td>0.848669</td>\n",
       "      <td>2016.0</td>\n",
       "      <td>2016.0</td>\n",
       "      <td>2017.0</td>\n",
       "      <td>2018.0</td>\n",
       "      <td>2018.0</td>\n",
       "    </tr>\n",
       "    <tr>\n",
       "      <th>uniqueid</th>\n",
       "      <td>11762.0</td>\n",
       "      <td>3438.185088</td>\n",
       "      <td>2265.873567</td>\n",
       "      <td>2.0</td>\n",
       "      <td>1450.0</td>\n",
       "      <td>3232.0</td>\n",
       "      <td>5209.0</td>\n",
       "      <td>8756.0</td>\n",
       "    </tr>\n",
       "    <tr>\n",
       "      <th>location_type</th>\n",
       "      <td>11762.0</td>\n",
       "      <td>0.396361</td>\n",
       "      <td>0.489162</td>\n",
       "      <td>0.0</td>\n",
       "      <td>0.0</td>\n",
       "      <td>0.0</td>\n",
       "      <td>1.0</td>\n",
       "      <td>1.0</td>\n",
       "    </tr>\n",
       "    <tr>\n",
       "      <th>cellphone_access</th>\n",
       "      <td>11762.0</td>\n",
       "      <td>0.746982</td>\n",
       "      <td>0.434760</td>\n",
       "      <td>0.0</td>\n",
       "      <td>0.0</td>\n",
       "      <td>1.0</td>\n",
       "      <td>1.0</td>\n",
       "      <td>1.0</td>\n",
       "    </tr>\n",
       "    <tr>\n",
       "      <th>household_size</th>\n",
       "      <td>11762.0</td>\n",
       "      <td>3.793913</td>\n",
       "      <td>2.225423</td>\n",
       "      <td>1.0</td>\n",
       "      <td>2.0</td>\n",
       "      <td>3.0</td>\n",
       "      <td>5.0</td>\n",
       "      <td>21.0</td>\n",
       "    </tr>\n",
       "    <tr>\n",
       "      <th>age_of_respondent</th>\n",
       "      <td>11762.0</td>\n",
       "      <td>38.602364</td>\n",
       "      <td>16.334624</td>\n",
       "      <td>16.0</td>\n",
       "      <td>26.0</td>\n",
       "      <td>35.0</td>\n",
       "      <td>48.0</td>\n",
       "      <td>100.0</td>\n",
       "    </tr>\n",
       "    <tr>\n",
       "      <th>gender_of_respondent</th>\n",
       "      <td>11762.0</td>\n",
       "      <td>0.413195</td>\n",
       "      <td>0.492428</td>\n",
       "      <td>0.0</td>\n",
       "      <td>0.0</td>\n",
       "      <td>0.0</td>\n",
       "      <td>1.0</td>\n",
       "      <td>1.0</td>\n",
       "    </tr>\n",
       "    <tr>\n",
       "      <th>bank_account</th>\n",
       "      <td>11762.0</td>\n",
       "      <td>0.143258</td>\n",
       "      <td>0.350351</td>\n",
       "      <td>0.0</td>\n",
       "      <td>0.0</td>\n",
       "      <td>0.0</td>\n",
       "      <td>0.0</td>\n",
       "      <td>1.0</td>\n",
       "    </tr>\n",
       "  </tbody>\n",
       "</table>\n",
       "</div>"
      ],
      "text/plain": [
       "                        count         mean          std     min     25%     50%     75%     max\n",
       "year                  11762.0  2016.983336     0.848669  2016.0  2016.0  2017.0  2018.0  2018.0\n",
       "uniqueid              11762.0  3438.185088  2265.873567     2.0  1450.0  3232.0  5209.0  8756.0\n",
       "location_type         11762.0     0.396361     0.489162     0.0     0.0     0.0     1.0     1.0\n",
       "cellphone_access      11762.0     0.746982     0.434760     0.0     0.0     1.0     1.0     1.0\n",
       "household_size        11762.0     3.793913     2.225423     1.0     2.0     3.0     5.0    21.0\n",
       "age_of_respondent     11762.0    38.602364    16.334624    16.0    26.0    35.0    48.0   100.0\n",
       "gender_of_respondent  11762.0     0.413195     0.492428     0.0     0.0     0.0     1.0     1.0\n",
       "bank_account          11762.0     0.143258     0.350351     0.0     0.0     0.0     0.0     1.0"
      ]
     },
<<<<<<< Updated upstream
     "execution_count": 11,
=======
     "execution_count": 12,
>>>>>>> Stashed changes
     "metadata": {},
     "output_type": "execute_result"
    }
   ],
   "source": [
<<<<<<< Updated upstream
    "df1.describe().T"
=======
    "df2.dtypes"
   ]
  },
  {
   "cell_type": "code",
   "execution_count": 13,
   "id": "f6b40c68-4765-4c4a-ab8c-37e5cfb9c12d",
   "metadata": {
    "ExecuteTime": {
     "end_time": "2022-05-28T18:31:45.368003Z",
     "start_time": "2022-05-28T18:31:45.355908Z"
    }
   },
   "outputs": [
    {
     "name": "stdout",
     "output_type": "stream",
     "text": [
      "{'Rwanda': 4335, 'Tanzania': 3288, 'Kenya': 3052, 'Uganda': 1087}\n"
     ]
    }
   ],
   "source": [
    "count = df2['country'].value_counts()\n",
    "mapper = dict()\n",
    "for ind in count.index:\n",
    "    mapper[ind] = count[ind]\n",
    "    \n",
    "df2['country'] = df2['country'].map(mapper)\n",
    "print(mapper)"
>>>>>>> Stashed changes
   ]
  },
  {
   "cell_type": "code",
<<<<<<< Updated upstream
   "execution_count": 12,
   "id": "f1aadae7",
   "metadata": {},
   "outputs": [
    {
     "data": {
      "text/html": [
       "<div>\n",
       "<style scoped>\n",
       "    .dataframe tbody tr th:only-of-type {\n",
       "        vertical-align: middle;\n",
       "    }\n",
       "\n",
       "    .dataframe tbody tr th {\n",
       "        vertical-align: top;\n",
       "    }\n",
       "\n",
       "    .dataframe thead th {\n",
       "        text-align: right;\n",
       "    }\n",
       "</style>\n",
       "<table border=\"1\" class=\"dataframe\">\n",
       "  <thead>\n",
       "    <tr style=\"text-align: right;\">\n",
       "      <th></th>\n",
       "      <th>bank_account</th>\n",
       "      <th>uniqueid</th>\n",
       "    </tr>\n",
       "  </thead>\n",
       "  <tbody>\n",
       "    <tr>\n",
       "      <th>0</th>\n",
       "      <td>0</td>\n",
       "      <td>10077</td>\n",
       "    </tr>\n",
       "    <tr>\n",
       "      <th>1</th>\n",
       "      <td>1</td>\n",
       "      <td>1685</td>\n",
       "    </tr>\n",
       "  </tbody>\n",
       "</table>\n",
       "</div>"
      ],
      "text/plain": [
       "   bank_account  uniqueid\n",
       "0             0     10077\n",
       "1             1      1685"
      ]
     },
     "execution_count": 12,
     "metadata": {},
     "output_type": "execute_result"
    }
   ],
   "source": [
    "df1[['uniqueid','bank_account']].groupby('bank_account').count().reset_index()"
=======
   "execution_count": 14,
   "id": "f6b18d64-cf68-471f-9670-9fcc440cbff8",
   "metadata": {
    "ExecuteTime": {
     "end_time": "2022-05-28T18:31:45.382745Z",
     "start_time": "2022-05-28T18:31:45.371786Z"
    }
   },
   "outputs": [
    {
     "name": "stdout",
     "output_type": "stream",
     "text": [
      "{'Rural': 7100, 'Urban': 4662}\n"
     ]
    }
   ],
   "source": [
    "count = df2['location_type'].value_counts()\n",
    "mapper = dict()\n",
    "for ind in count.index:\n",
    "    mapper[ind] = count[ind]\n",
    "    \n",
    "df2['location_type'] = df2['location_type'].map(mapper)\n",
    "print(mapper)"
>>>>>>> Stashed changes
   ]
  },
  {
   "cell_type": "code",
<<<<<<< Updated upstream
   "execution_count": 13,
   "id": "b3fec4c1",
   "metadata": {},
   "outputs": [
    {
     "data": {
      "text/html": [
       "<div>\n",
       "<style scoped>\n",
       "    .dataframe tbody tr th:only-of-type {\n",
       "        vertical-align: middle;\n",
       "    }\n",
       "\n",
       "    .dataframe tbody tr th {\n",
       "        vertical-align: top;\n",
       "    }\n",
       "\n",
       "    .dataframe thead th {\n",
       "        text-align: right;\n",
       "    }\n",
       "</style>\n",
       "<table border=\"1\" class=\"dataframe\">\n",
       "  <thead>\n",
       "    <tr style=\"text-align: right;\">\n",
       "      <th></th>\n",
       "      <th>gender_of_respondent</th>\n",
       "      <th>bank_account</th>\n",
       "    </tr>\n",
       "  </thead>\n",
       "  <tbody>\n",
       "    <tr>\n",
       "      <th>0</th>\n",
       "      <td>0</td>\n",
       "      <td>6902</td>\n",
       "    </tr>\n",
       "    <tr>\n",
       "      <th>1</th>\n",
       "      <td>1</td>\n",
       "      <td>4860</td>\n",
       "    </tr>\n",
       "  </tbody>\n",
       "</table>\n",
       "</div>"
      ],
      "text/plain": [
       "   gender_of_respondent  bank_account\n",
       "0                     0          6902\n",
       "1                     1          4860"
      ]
     },
     "execution_count": 13,
     "metadata": {},
     "output_type": "execute_result"
    }
   ],
   "source": [
    "df1[['gender_of_respondent', 'bank_account']].groupby('gender_of_respondent').count().reset_index()"
=======
   "execution_count": 15,
   "id": "ffab360b-baea-4a32-b82d-706f0c8a482e",
   "metadata": {
    "ExecuteTime": {
     "end_time": "2022-05-28T18:31:45.398655Z",
     "start_time": "2022-05-28T18:31:45.386304Z"
    }
   },
   "outputs": [
    {
     "name": "stdout",
     "output_type": "stream",
     "text": [
      "{'Yes': 8786, 'No': 2976}\n"
     ]
    }
   ],
   "source": [
    "count = df2['cellphone_access'].value_counts()\n",
    "mapper = dict()\n",
    "for ind in count.index:\n",
    "    mapper[ind] = count[ind]\n",
    "    \n",
    "df2['cellphone_access'] = df2['cellphone_access'].map(mapper)\n",
    "print(mapper)"
>>>>>>> Stashed changes
   ]
  },
  {
   "cell_type": "code",
<<<<<<< Updated upstream
   "execution_count": null,
   "id": "43d1aafa",
   "metadata": {},
   "outputs": [],
   "source": []
  },
  {
   "cell_type": "code",
   "execution_count": 14,
   "id": "8a543ebe",
=======
   "execution_count": 16,
   "id": "93cf82af-02ab-4d96-abdf-6c15ff67e80c",
   "metadata": {
    "ExecuteTime": {
     "end_time": "2022-05-28T18:31:45.411432Z",
     "start_time": "2022-05-28T18:31:45.401668Z"
    }
   },
   "outputs": [
    {
     "name": "stdout",
     "output_type": "stream",
     "text": [
      "{'Female': 6902, 'Male': 4860}\n"
     ]
    }
   ],
   "source": [
    "count = df2['gender_of_respondent'].value_counts()\n",
    "mapper = dict()\n",
    "for ind in count.index:\n",
    "    mapper[ind] = count[ind]\n",
    "    \n",
    "df2['gender_of_respondent'] = df2['gender_of_respondent'].map(mapper)\n",
    "print(mapper)"
   ]
  },
  {
   "cell_type": "code",
   "execution_count": 17,
   "id": "51862719-aba1-4bdf-be22-1146a99f4598",
>>>>>>> Stashed changes
   "metadata": {
    "scrolled": true
   },
   "outputs": [
    {
<<<<<<< Updated upstream
     "name": "stderr",
     "output_type": "stream",
     "text": [
      "C:\\Users\\User\\AppData\\Local\\Temp\\ipykernel_11092\\2837848677.py:4: UserWarning: To output multiple subplots, the figure containing the passed axes is being cleared.\n",
      "  with_account.hist(ax = ax, bins = 25);\n"
     ]
    },
    {
     "data": {
      "image/png": "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\n",
      "text/plain": [
       "<Figure size 1584x1224 with 9 Axes>"
      ]
     },
     "metadata": {},
     "output_type": "display_data"
    }
   ],
   "source": [
    "with_account = df1[df1['bank_account'] == 1]\n",
    "fig = plt.figure(figsize=(22,17))\n",
    "ax = fig.gca()\n",
    "with_account.hist(ax = ax, bins = 25);"
=======
     "name": "stdout",
     "output_type": "stream",
     "text": [
      "{'Head of Household': 6358, 'Spouse': 3287, 'Child': 1099, 'Parent': 560, 'Other relative': 368, 'Other non-relatives': 90}\n"
     ]
    }
   ],
   "source": [
    "count = df2['relationship_with_head'].value_counts()\n",
    "mapper = dict()\n",
    "for ind in count.index:\n",
    "    mapper[ind] = count[ind]\n",
    "    \n",
    "df2['relationship_with_head'] = df2['relationship_with_head'].map(mapper)\n",
    "print(mapper)"
   ]
  },
  {
   "cell_type": "code",
   "execution_count": 18,
   "id": "b6093925-686d-42e8-913d-c3d5b22ec434",
   "metadata": {
    "ExecuteTime": {
     "end_time": "2022-05-28T18:31:45.468191Z",
     "start_time": "2022-05-28T18:31:45.457638Z"
    }
   },
   "outputs": [
    {
     "name": "stdout",
     "output_type": "stream",
     "text": [
      "{'Married/Living together': 5433, 'Single/Never Married': 3970, 'Widowed': 1321, 'Divorced/Seperated': 1034, 'Dont know': 4}\n"
     ]
    }
   ],
   "source": [
    "count = df2['marital_status'].value_counts()\n",
    "mapper = dict()\n",
    "for ind in count.index:\n",
    "    mapper[ind] = count[ind]\n",
    "    \n",
    "df2['marital_status'] = df2['marital_status'].map(mapper)\n",
    "print(mapper)"
>>>>>>> Stashed changes
   ]
  },
  {
   "cell_type": "code",
<<<<<<< Updated upstream
   "execution_count": 15,
   "id": "16d21285",
   "metadata": {},
   "outputs": [
    {
     "data": {
      "text/html": [
       "<div>\n",
       "<style scoped>\n",
       "    .dataframe tbody tr th:only-of-type {\n",
       "        vertical-align: middle;\n",
       "    }\n",
       "\n",
       "    .dataframe tbody tr th {\n",
       "        vertical-align: top;\n",
       "    }\n",
       "\n",
       "    .dataframe thead th {\n",
       "        text-align: right;\n",
       "    }\n",
       "</style>\n",
       "<table border=\"1\" class=\"dataframe\">\n",
       "  <thead>\n",
       "    <tr style=\"text-align: right;\">\n",
       "      <th></th>\n",
       "      <th>gender_of_respondent</th>\n",
       "      <th>bank_account</th>\n",
       "    </tr>\n",
       "  </thead>\n",
       "  <tbody>\n",
       "    <tr>\n",
       "      <th>0</th>\n",
       "      <td>0</td>\n",
       "      <td>765</td>\n",
       "    </tr>\n",
       "    <tr>\n",
       "      <th>1</th>\n",
       "      <td>1</td>\n",
       "      <td>920</td>\n",
       "    </tr>\n",
       "  </tbody>\n",
       "</table>\n",
       "</div>"
      ],
      "text/plain": [
       "   gender_of_respondent  bank_account\n",
       "0                     0           765\n",
       "1                     1           920"
      ]
     },
     "execution_count": 15,
     "metadata": {},
     "output_type": "execute_result"
    }
   ],
   "source": [
    "with_account[['gender_of_respondent', 'bank_account']].groupby('gender_of_respondent').count().reset_index()"
=======
   "execution_count": 19,
   "id": "06106564-e8c3-4876-b0dd-5071740bec72",
   "metadata": {
    "ExecuteTime": {
     "end_time": "2022-05-28T18:31:45.481994Z",
     "start_time": "2022-05-28T18:31:45.471654Z"
    }
   },
   "outputs": [
    {
     "name": "stdout",
     "output_type": "stream",
     "text": [
      "{'Primary education': 6408, 'No formal education': 2240, 'Secondary education': 2129, 'Tertiary education': 566, 'Vocational/Specialised training': 399, 'Other/Dont know/RTA': 20}\n"
     ]
    }
   ],
   "source": [
    "count = df2['education_level'].value_counts()\n",
    "mapper = dict()\n",
    "for ind in count.index:\n",
    "    mapper[ind] = count[ind]\n",
    "    \n",
    "df2['education_level'] = df2['education_level'].map(mapper)\n",
    "print(mapper)"
>>>>>>> Stashed changes
   ]
  },
  {
   "cell_type": "code",
<<<<<<< Updated upstream
   "execution_count": 16,
   "id": "735bb403",
   "metadata": {},
   "outputs": [
    {
     "data": {
      "text/html": [
       "<div>\n",
       "<style scoped>\n",
       "    .dataframe tbody tr th:only-of-type {\n",
       "        vertical-align: middle;\n",
       "    }\n",
       "\n",
       "    .dataframe tbody tr th {\n",
       "        vertical-align: top;\n",
       "    }\n",
       "\n",
       "    .dataframe thead th {\n",
       "        text-align: right;\n",
       "    }\n",
       "</style>\n",
       "<table border=\"1\" class=\"dataframe\">\n",
       "  <thead>\n",
       "    <tr style=\"text-align: right;\">\n",
       "      <th></th>\n",
       "      <th>cellphone_access</th>\n",
       "      <th>bank_account</th>\n",
       "    </tr>\n",
       "  </thead>\n",
       "  <tbody>\n",
       "    <tr>\n",
       "      <th>0</th>\n",
       "      <td>0</td>\n",
       "      <td>53</td>\n",
       "    </tr>\n",
       "    <tr>\n",
       "      <th>1</th>\n",
       "      <td>1</td>\n",
       "      <td>1632</td>\n",
       "    </tr>\n",
       "  </tbody>\n",
       "</table>\n",
       "</div>"
      ],
      "text/plain": [
       "   cellphone_access  bank_account\n",
       "0                 0            53\n",
       "1                 1          1632"
      ]
     },
     "execution_count": 16,
     "metadata": {},
     "output_type": "execute_result"
    }
   ],
   "source": [
    "with_account[['cellphone_access', 'bank_account']].groupby('cellphone_access').count().reset_index()"
=======
   "execution_count": 20,
   "id": "0f40e4c3-7ff7-4add-be83-ba347e17b031",
   "metadata": {
    "ExecuteTime": {
     "end_time": "2022-05-28T18:31:45.495157Z",
     "start_time": "2022-05-28T18:31:45.484734Z"
    }
   },
   "outputs": [
    {
     "name": "stdout",
     "output_type": "stream",
     "text": [
      "{'Self employed': 3207, 'Informally employed': 2788, 'Farming and Fishing': 2732, 'Remittance Dependent': 1252, 'Other Income': 569, 'Formally employed Private': 514, 'No Income': 310, 'Formally employed Government': 206, 'Government Dependent': 125, 'Dont Know/Refuse to answer': 59}\n"
     ]
    }
   ],
   "source": [
    "count = df2['job_type'].value_counts()\n",
    "mapper = dict()\n",
    "for ind in count.index:\n",
    "    mapper[ind] = count[ind]\n",
    "    \n",
    "df2['job_type'] = df2['job_type'].map(mapper)\n",
    "print(mapper)"
>>>>>>> Stashed changes
   ]
  },
  {
   "cell_type": "code",
<<<<<<< Updated upstream
   "execution_count": 17,
   "id": "cf9cc3f8",
   "metadata": {},
   "outputs": [
    {
     "data": {
      "text/html": [
       "<div>\n",
       "<style scoped>\n",
       "    .dataframe tbody tr th:only-of-type {\n",
       "        vertical-align: middle;\n",
       "    }\n",
       "\n",
       "    .dataframe tbody tr th {\n",
       "        vertical-align: top;\n",
       "    }\n",
       "\n",
       "    .dataframe thead th {\n",
       "        text-align: right;\n",
       "    }\n",
       "</style>\n",
       "<table border=\"1\" class=\"dataframe\">\n",
       "  <thead>\n",
       "    <tr style=\"text-align: right;\">\n",
       "      <th></th>\n",
       "      <th>relationship_with_head</th>\n",
       "      <th>bank_account</th>\n",
       "    </tr>\n",
       "  </thead>\n",
       "  <tbody>\n",
       "    <tr>\n",
       "      <th>0</th>\n",
       "      <td>Child</td>\n",
       "      <td>90</td>\n",
       "    </tr>\n",
       "    <tr>\n",
       "      <th>1</th>\n",
       "      <td>Head of Household</td>\n",
       "      <td>1143</td>\n",
       "    </tr>\n",
       "    <tr>\n",
       "      <th>2</th>\n",
       "      <td>Other non-relatives</td>\n",
       "      <td>12</td>\n",
       "    </tr>\n",
       "    <tr>\n",
       "      <th>3</th>\n",
       "      <td>Other relative</td>\n",
       "      <td>37</td>\n",
       "    </tr>\n",
       "    <tr>\n",
       "      <th>4</th>\n",
       "      <td>Parent</td>\n",
       "      <td>30</td>\n",
       "    </tr>\n",
       "    <tr>\n",
       "      <th>5</th>\n",
       "      <td>Spouse</td>\n",
       "      <td>373</td>\n",
       "    </tr>\n",
       "  </tbody>\n",
       "</table>\n",
       "</div>"
      ],
      "text/plain": [
       "  relationship_with_head  bank_account\n",
       "0                  Child            90\n",
       "1      Head of Household          1143\n",
       "2    Other non-relatives            12\n",
       "3         Other relative            37\n",
       "4                 Parent            30\n",
       "5                 Spouse           373"
      ]
     },
     "execution_count": 17,
     "metadata": {},
     "output_type": "execute_result"
=======
   "execution_count": 21,
   "id": "344555a6-ee42-4223-8140-e9f3c0b91d8f",
   "metadata": {
    "ExecuteTime": {
     "end_time": "2022-05-28T18:31:45.509332Z",
     "start_time": "2022-05-28T18:31:45.498068Z"
>>>>>>> Stashed changes
    }
   ],
   "source": [
    "with_account[['relationship_with_head', 'bank_account']].groupby('relationship_with_head').count().reset_index()"
   ]
  },
  {
   "cell_type": "code",
<<<<<<< Updated upstream
   "execution_count": 18,
   "id": "f770016a",
   "metadata": {},
=======
   "execution_count": 22,
   "id": "973e21ed",
   "metadata": {
    "ExecuteTime": {
     "end_time": "2022-05-28T18:31:47.522535Z",
     "start_time": "2022-05-28T18:31:47.505854Z"
    }
   },
>>>>>>> Stashed changes
   "outputs": [
    {
     "data": {
      "text/html": [
       "<div>\n",
       "<style scoped>\n",
       "    .dataframe tbody tr th:only-of-type {\n",
       "        vertical-align: middle;\n",
       "    }\n",
       "\n",
       "    .dataframe tbody tr th {\n",
       "        vertical-align: top;\n",
       "    }\n",
       "\n",
       "    .dataframe thead th {\n",
       "        text-align: right;\n",
       "    }\n",
       "</style>\n",
       "<table border=\"1\" class=\"dataframe\">\n",
       "  <thead>\n",
       "    <tr style=\"text-align: right;\">\n",
       "      <th></th>\n",
       "      <th>job_type</th>\n",
       "      <th>bank_account</th>\n",
       "    </tr>\n",
       "  </thead>\n",
       "  <tbody>\n",
       "    <tr>\n",
       "      <th>0</th>\n",
       "      <td>Dont Know/Refuse to answer</td>\n",
       "      <td>10</td>\n",
       "    </tr>\n",
       "    <tr>\n",
       "      <th>1</th>\n",
       "      <td>Farming and Fishing</td>\n",
       "      <td>345</td>\n",
       "    </tr>\n",
       "    <tr>\n",
       "      <th>2</th>\n",
       "      <td>Formally employed Government</td>\n",
       "      <td>154</td>\n",
       "    </tr>\n",
       "    <tr>\n",
       "      <th>3</th>\n",
       "      <td>Formally employed Private</td>\n",
       "      <td>280</td>\n",
       "    </tr>\n",
       "    <tr>\n",
       "      <th>4</th>\n",
       "      <td>Government Dependent</td>\n",
       "      <td>24</td>\n",
       "    </tr>\n",
       "    <tr>\n",
       "      <th>5</th>\n",
       "      <td>Informally employed</td>\n",
       "      <td>208</td>\n",
       "    </tr>\n",
       "    <tr>\n",
       "      <th>6</th>\n",
       "      <td>No Income</td>\n",
       "      <td>5</td>\n",
       "    </tr>\n",
       "    <tr>\n",
       "      <th>7</th>\n",
       "      <td>Other Income</td>\n",
       "      <td>105</td>\n",
       "    </tr>\n",
       "    <tr>\n",
       "      <th>8</th>\n",
       "      <td>Remittance Dependent</td>\n",
       "      <td>118</td>\n",
       "    </tr>\n",
       "    <tr>\n",
       "      <th>9</th>\n",
       "      <td>Self employed</td>\n",
       "      <td>436</td>\n",
       "    </tr>\n",
       "  </tbody>\n",
       "</table>\n",
       "</div>"
      ],
      "text/plain": [
       "                       job_type  bank_account\n",
       "0    Dont Know/Refuse to answer            10\n",
       "1           Farming and Fishing           345\n",
       "2  Formally employed Government           154\n",
       "3     Formally employed Private           280\n",
       "4          Government Dependent            24\n",
       "5           Informally employed           208\n",
       "6                     No Income             5\n",
       "7                  Other Income           105\n",
       "8          Remittance Dependent           118\n",
       "9                 Self employed           436"
      ]
     },
<<<<<<< Updated upstream
     "execution_count": 18,
=======
     "execution_count": 22,
>>>>>>> Stashed changes
     "metadata": {},
     "output_type": "execute_result"
    }
   ],
   "source": [
    "with_account[['job_type', 'bank_account']].groupby('job_type').count().reset_index()"
   ]
  },
  {
   "cell_type": "markdown",
   "id": "e7f66d38",
   "metadata": {},
   "source": [
    "## 2. Feature Engineering"
   ]
  },
  {
   "cell_type": "code",
   "execution_count": 19,
   "id": "0ef8e10d",
   "metadata": {
    "ExecuteTime": {
     "end_time": "2022-05-28T15:49:06.487597Z",
     "start_time": "2022-05-28T15:49:06.480843Z"
    }
   },
   "outputs": [],
   "source": [
    "df2 = df1.copy()"
   ]
  },
  {
   "cell_type": "markdown",
   "id": "b8673e18",
   "metadata": {},
   "source": [
    "### 2.1. Mapa de Hipóteses"
   ]
  },
  {
   "cell_type": "markdown",
   "id": "c58557e7",
   "metadata": {},
   "source": [
    "### 2.2. Criação de Hipóteses"
   ]
  },
  {
   "cell_type": "markdown",
   "id": "46e033de",
   "metadata": {},
   "source": [
    "## 3. Seleção de Features"
   ]
  },
  {
   "cell_type": "code",
<<<<<<< Updated upstream
   "execution_count": 20,
=======
   "execution_count": 23,
>>>>>>> Stashed changes
   "id": "b60808b2",
   "metadata": {
    "ExecuteTime": {
     "end_time": "2022-05-28T15:49:16.731951Z",
     "start_time": "2022-05-28T15:49:16.724759Z"
    }
   },
   "outputs": [],
   "source": [
    "df3 = df2.copy()"
   ]
  },
  {
   "cell_type": "markdown",
   "id": "9a682c0b",
   "metadata": {},
   "source": [
    "## 4. EDA"
   ]
  },
  {
   "cell_type": "code",
<<<<<<< Updated upstream
   "execution_count": 21,
=======
   "execution_count": 24,
>>>>>>> Stashed changes
   "id": "00784e93",
   "metadata": {
    "ExecuteTime": {
     "end_time": "2022-05-28T15:49:26.562335Z",
     "start_time": "2022-05-28T15:49:26.555672Z"
    }
   },
   "outputs": [],
   "source": [
    "df4 = df3.copy()"
   ]
  },
  {
   "cell_type": "markdown",
   "id": "f809a85c",
   "metadata": {},
   "source": [
    "### 4.1. Univariada"
   ]
  },
  {
   "cell_type": "code",
   "execution_count": 25,
   "id": "f5d07706",
   "metadata": {},
   "outputs": [
    {
     "data": {
      "text/plain": [
       "<AxesSubplot:>"
      ]
     },
     "execution_count": 25,
     "metadata": {},
     "output_type": "execute_result"
    },
    {
     "data": {
      "image/png": "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\n",
      "text/plain": [
       "<Figure size 1800x864 with 1 Axes>"
      ]
     },
     "metadata": {},
     "output_type": "display_data"
    }
   ],
   "source": [
    "df4['bank_account'].hist()"
   ]
  },
  {
   "cell_type": "markdown",
   "id": "8f3427ae",
   "metadata": {},
   "source": [
    "### 4.2. Bivariadas"
   ]
  },
  {
   "cell_type": "markdown",
   "id": "71a57357",
   "metadata": {},
   "source": [
    "H1. Os países desenvolvidos tem 10% a mais de contas digitais  \n",
    "Sem dados para concluir o teste"
   ]
  },
  {
   "cell_type": "code",
   "execution_count": 26,
   "id": "62309b61",
   "metadata": {},
   "outputs": [
    {
     "data": {
      "text/plain": [
       "<AxesSubplot:xlabel='location_type', ylabel='uniqueid'>"
      ]
     },
     "execution_count": 26,
     "metadata": {},
     "output_type": "execute_result"
    },
    {
     "data": {
      "image/png": "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\n",
      "text/plain": [
       "<Figure size 1800x864 with 1 Axes>"
      ]
     },
     "metadata": {},
     "output_type": "display_data"
    }
   ],
   "source": [
    "# H2. Zonas urbanas tem 50% a mais de contas digitais do que zonas rurais  \n",
    "\n",
    "graph = df1[df1['bank_account']=='Yes'][['uniqueid','location_type']].groupby('location_type').count().reset_index()\n",
    "sns.barplot( data = graph, x= 'location_type', y= 'uniqueid')\n",
    "\n",
    "# Falso"
   ]
  },
  {
   "cell_type": "code",
   "execution_count": 125,
   "id": "82336210",
   "metadata": {},
   "outputs": [
    {
     "name": "stdout",
     "output_type": "stream",
     "text": [
      "Falso. Apenas 18.58% das pessoas que possuem celular, tabém possuem conta digital\n",
      "96.85% das pessoas que possuem conta também possuem celular\n"
     ]
    }
   ],
   "source": [
    "# H3. 80% das pessoas que possuem celular e internet tem conta digital  \n",
    "\n",
    "h3 = df1[df1['cellphone_access']=='Yes'][['bank_account','uniqueid']].groupby('bank_account').count().reset_index()\n",
    "yes = float(h3[h3['bank_account']== 'Yes']['uniqueid'])\n",
    "percent = yes/total*100\n",
    "print(f'Falso. Apenas {percent:.2f}% das pessoas que possuem celular, tabém possuem conta digital')\n",
    "account = df1[df1['bank_account'] == 'Yes']['uniqueid'].count()\n",
    "account_cell = df1[(df1['bank_account'] == 'Yes') & (df1['cellphone_access']=='Yes')]['uniqueid'].count()\n",
    "percent_ = account_cell/account*100\n",
    "print(f'{percent_:.2f}% das pessoas que possuem conta também possuem celular')"
   ]
  },
  {
   "cell_type": "code",
   "execution_count": 33,
   "id": "14341e31",
   "metadata": {},
   "outputs": [
    {
     "data": {
      "text/plain": [
       "<AxesSubplot:xlabel='education_level', ylabel='uniqueid'>"
      ]
     },
     "execution_count": 33,
     "metadata": {},
     "output_type": "execute_result"
    },
    {
     "data": {
      "image/png": "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\n",
      "text/plain": [
       "<Figure size 1800x864 with 1 Axes>"
      ]
     },
     "metadata": {},
     "output_type": "display_data"
    }
   ],
   "source": [
    "# H4. A quantidade de contas de pessoas com ensino superior é maior em média do que as demais  \n",
    "#Falso\n",
    "h4 = df1[df1['bank_account']=='Yes'][['education_level','uniqueid']].groupby('education_level').count().reset_index()\n",
    "sns.barplot(data = h4, x = 'education_level', y = 'uniqueid')"
   ]
  },
  {
   "cell_type": "code",
   "execution_count": 71,
   "id": "72758e26",
   "metadata": {},
   "outputs": [
    {
     "name": "stdout",
     "output_type": "stream",
     "text": [
      "FALSO. A quantidade de pessoas entre 18 e 40 anos que possuem conta representam 85.34%\n"
     ]
    }
   ],
   "source": [
    "# H5. Pessoas entre 18 e 40 anos constituem 85% da base de contas digitais  \n",
    "total_ = df1[df1['bank_account']=='Yes']['uniqueid'].count()\n",
    "age = df1[(df1['bank_account']=='Yes') & ((df1['age_of_respondent'] >= 18 ) & (df1['age_of_respondent'] <= 55))]['uniqueid'].count()\n",
    "percent = age/total_*100\n",
    "print(f'FALSO. A quantidade de pessoas entre 18 e 40 anos que possuem conta representam {percent:.2f}%')"
   ]
  },
  {
   "cell_type": "code",
   "execution_count": 139,
   "id": "8a35ef9a",
   "metadata": {},
   "outputs": [
    {
     "name": "stdout",
     "output_type": "stream",
     "text": [
      "Falso. De um total de 1685, 54.60% são de homens\n"
     ]
    }
   ],
   "source": [
    "# H6. Mulheres são a maioria entre conta digitais abertas\n",
    "#Falso\n",
    "account = df1[df1['bank_account'] == 'Yes'][['uniqueid','gender_of_respondent' ]].groupby('gender_of_respondent').count().reset_index()\n",
    "male = int(account[account['gender_of_respondent']=='Male']['uniqueid'])\n",
    "female = int(account[account['gender_of_respondent']=='Female']['uniqueid'])\n",
    "print(f'Falso. De um total de {male+female}, {male/(male+female)*100:.2f}% são de homens')"
   ]
  },
  {
   "cell_type": "code",
   "execution_count": null,
   "id": "76ce099a",
   "metadata": {},
   "outputs": [],
   "source": [
    "H7. Pessoas acima dos 60 anos mesmo com acesso ao celular não possuem conta digital  \n"
   ]
  },
  {
   "cell_type": "code",
   "execution_count": null,
   "id": "b2ac1a78",
   "metadata": {},
   "outputs": [],
   "source": [
    "H8. 95% das pessoas sem trabalho não possuem conta digital  "
   ]
  },
  {
   "cell_type": "markdown",
   "id": "38fc6f63",
   "metadata": {},
   "source": [
    "### 4.3. Multivariadas"
   ]
  },
  {
   "cell_type": "markdown",
   "id": "ef9dd422",
   "metadata": {},
   "source": [
    "## 5. Preparação dos Dados"
   ]
  },
  {
   "cell_type": "code",
<<<<<<< Updated upstream
   "execution_count": 22,
=======
   "execution_count": null,
>>>>>>> Stashed changes
   "id": "8d0a0f61",
   "metadata": {
    "ExecuteTime": {
     "end_time": "2022-05-28T16:01:26.071677Z",
     "start_time": "2022-05-28T16:01:26.064030Z"
    }
   },
   "outputs": [],
   "source": [
    "df5 = df4.copy()"
   ]
  },
  {
   "cell_type": "markdown",
   "id": "6ea4a32c",
   "metadata": {},
   "source": [
    "### 5.1. Reescala dos Dados"
   ]
  },
  {
   "cell_type": "markdown",
   "id": "ce70d8f1",
   "metadata": {},
   "source": [
    "## 6. Seleção de Features"
   ]
  },
  {
   "cell_type": "code",
<<<<<<< Updated upstream
   "execution_count": 23,
=======
   "execution_count": null,
>>>>>>> Stashed changes
   "id": "5cbb50da",
   "metadata": {
    "ExecuteTime": {
     "end_time": "2022-05-28T16:01:28.524119Z",
     "start_time": "2022-05-28T16:01:28.517769Z"
    }
   },
   "outputs": [],
   "source": [
    "df6 = df5.copy()"
   ]
  },
  {
   "cell_type": "markdown",
   "id": "9c9d749c",
   "metadata": {},
   "source": [
    "### 6.1. Separação de Treino e Teste"
   ]
  },
  {
   "cell_type": "code",
<<<<<<< Updated upstream
   "execution_count": 24,
=======
   "execution_count": null,
>>>>>>> Stashed changes
   "id": "68026fbc",
   "metadata": {
    "ExecuteTime": {
     "end_time": "2022-05-28T16:01:37.502162Z",
     "start_time": "2022-05-28T16:01:37.479348Z"
    }
   },
<<<<<<< Updated upstream
   "outputs": [
    {
     "data": {
      "text/html": [
       "<div>\n",
       "<style scoped>\n",
       "    .dataframe tbody tr th:only-of-type {\n",
       "        vertical-align: middle;\n",
       "    }\n",
       "\n",
       "    .dataframe tbody tr th {\n",
       "        vertical-align: top;\n",
       "    }\n",
       "\n",
       "    .dataframe thead th {\n",
       "        text-align: right;\n",
       "    }\n",
       "</style>\n",
       "<table border=\"1\" class=\"dataframe\">\n",
       "  <thead>\n",
       "    <tr style=\"text-align: right;\">\n",
       "      <th></th>\n",
       "      <th>country</th>\n",
       "      <th>year</th>\n",
       "      <th>uniqueid</th>\n",
       "      <th>location_type</th>\n",
       "      <th>cellphone_access</th>\n",
       "      <th>household_size</th>\n",
       "      <th>age_of_respondent</th>\n",
       "      <th>gender_of_respondent</th>\n",
       "      <th>relationship_with_head</th>\n",
       "      <th>marital_status</th>\n",
       "      <th>education_level</th>\n",
       "      <th>job_type</th>\n",
       "      <th>bank_account</th>\n",
       "    </tr>\n",
       "  </thead>\n",
       "  <tbody>\n",
       "    <tr>\n",
       "      <th>0</th>\n",
       "      <td>Rwanda</td>\n",
       "      <td>2016</td>\n",
       "      <td>4858</td>\n",
       "      <td>0</td>\n",
       "      <td>1</td>\n",
       "      <td>6</td>\n",
       "      <td>45</td>\n",
       "      <td>1</td>\n",
       "      <td>Head of Household</td>\n",
       "      <td>Divorced/Seperated</td>\n",
       "      <td>Primary education</td>\n",
       "      <td>Farming and Fishing</td>\n",
       "      <td>0</td>\n",
       "    </tr>\n",
       "    <tr>\n",
       "      <th>1</th>\n",
       "      <td>Tanzania</td>\n",
       "      <td>2017</td>\n",
       "      <td>3015</td>\n",
       "      <td>1</td>\n",
       "      <td>0</td>\n",
       "      <td>4</td>\n",
       "      <td>33</td>\n",
       "      <td>0</td>\n",
       "      <td>Head of Household</td>\n",
       "      <td>Single/Never Married</td>\n",
       "      <td>Primary education</td>\n",
       "      <td>Self employed</td>\n",
       "      <td>0</td>\n",
       "    </tr>\n",
       "    <tr>\n",
       "      <th>2</th>\n",
       "      <td>Rwanda</td>\n",
       "      <td>2016</td>\n",
       "      <td>103</td>\n",
       "      <td>0</td>\n",
       "      <td>1</td>\n",
       "      <td>7</td>\n",
       "      <td>43</td>\n",
       "      <td>1</td>\n",
       "      <td>Head of Household</td>\n",
       "      <td>Married/Living together</td>\n",
       "      <td>Secondary education</td>\n",
       "      <td>Farming and Fishing</td>\n",
       "      <td>0</td>\n",
       "    </tr>\n",
       "    <tr>\n",
       "      <th>3</th>\n",
       "      <td>Rwanda</td>\n",
       "      <td>2016</td>\n",
       "      <td>4582</td>\n",
       "      <td>0</td>\n",
       "      <td>0</td>\n",
       "      <td>6</td>\n",
       "      <td>35</td>\n",
       "      <td>0</td>\n",
       "      <td>Head of Household</td>\n",
       "      <td>Married/Living together</td>\n",
       "      <td>Primary education</td>\n",
       "      <td>Farming and Fishing</td>\n",
       "      <td>0</td>\n",
       "    </tr>\n",
       "    <tr>\n",
       "      <th>4</th>\n",
       "      <td>Tanzania</td>\n",
       "      <td>2017</td>\n",
       "      <td>2854</td>\n",
       "      <td>1</td>\n",
       "      <td>1</td>\n",
       "      <td>2</td>\n",
       "      <td>30</td>\n",
       "      <td>1</td>\n",
       "      <td>Head of Household</td>\n",
       "      <td>Single/Never Married</td>\n",
       "      <td>Primary education</td>\n",
       "      <td>Informally employed</td>\n",
       "      <td>0</td>\n",
       "    </tr>\n",
       "  </tbody>\n",
       "</table>\n",
       "</div>"
      ],
      "text/plain": [
       "    country  year  uniqueid  location_type  cellphone_access  household_size  age_of_respondent  gender_of_respondent relationship_with_head           marital_status      education_level             job_type  bank_account\n",
       "0    Rwanda  2016      4858              0                 1               6                 45                     1      Head of Household       Divorced/Seperated    Primary education  Farming and Fishing             0\n",
       "1  Tanzania  2017      3015              1                 0               4                 33                     0      Head of Household     Single/Never Married    Primary education        Self employed             0\n",
       "2    Rwanda  2016       103              0                 1               7                 43                     1      Head of Household  Married/Living together  Secondary education  Farming and Fishing             0\n",
       "3    Rwanda  2016      4582              0                 0               6                 35                     0      Head of Household  Married/Living together    Primary education  Farming and Fishing             0\n",
       "4  Tanzania  2017      2854              1                 1               2                 30                     1      Head of Household     Single/Never Married    Primary education  Informally employed             0"
      ]
     },
     "execution_count": 24,
     "metadata": {},
     "output_type": "execute_result"
    }
   ],
=======
   "outputs": [],
>>>>>>> Stashed changes
   "source": [
    "df6.head()"
   ]
  },
  {
   "cell_type": "code",
<<<<<<< Updated upstream
   "execution_count": 25,
=======
   "execution_count": null,
>>>>>>> Stashed changes
   "id": "31a51331",
   "metadata": {
    "ExecuteTime": {
     "end_time": "2022-05-28T16:31:11.625670Z",
     "start_time": "2022-05-28T16:31:11.605001Z"
    }
   },
   "outputs": [],
   "source": [
    "X = df6.select_dtypes(include=['int64', 'float64'])\n",
    "y = df6['bank_account'].apply(lambda x: 1 if x == 'Yes' else 0)\n",
    "\n",
    "x_train, x_test, y_train, y_test = ms.train_test_split(X, y, test_size=0.3, random_state=42)"
   ]
  },
  {
   "cell_type": "markdown",
   "id": "7132a5b0",
   "metadata": {},
   "source": [
    "## 7. Construção do Modelo"
   ]
  },
  {
   "cell_type": "markdown",
   "id": "78377f4a",
   "metadata": {
    "ExecuteTime": {
     "end_time": "2022-05-28T16:11:32.634627Z",
     "start_time": "2022-05-28T16:11:32.611107Z"
    }
   },
   "source": [
    "### 7.1. Random Forest Classifier"
   ]
  },
  {
   "cell_type": "code",
<<<<<<< Updated upstream
   "execution_count": 26,
=======
   "execution_count": null,
>>>>>>> Stashed changes
   "id": "074beb9b",
   "metadata": {
    "ExecuteTime": {
     "end_time": "2022-05-28T16:34:56.085664Z",
     "start_time": "2022-05-28T16:34:55.482612Z"
    }
   },
<<<<<<< Updated upstream
   "outputs": [
    {
     "name": "stderr",
     "output_type": "stream",
     "text": [
      "C:\\Users\\User\\AppData\\Local\\Programs\\Python\\Python310\\lib\\site-packages\\sklearn\\metrics\\_classification.py:1592: UndefinedMetricWarning: F-score is ill-defined and being set to 0.0 due to no true nor predicted samples. Use `zero_division` parameter to control this behavior.\n",
      "  _warn_prf(average, \"true nor predicted\", \"F-score is\", len(true_sum))\n"
     ]
    },
    {
     "data": {
      "text/plain": [
       "0.0"
      ]
     },
     "execution_count": 26,
     "metadata": {},
     "output_type": "execute_result"
    }
   ],
=======
   "outputs": [],
>>>>>>> Stashed changes
   "source": [
    "# criar o modelo\n",
    "rfc_model = ensemble.RandomForestClassifier(random_state=42)\n",
    "\n",
    "# treinar o modelo\n",
    "rfc_model.fit(x_train, y_train)\n",
    "\n",
    "# fazer a predição\n",
    "yhat_rfc = rfc_model.predict(x_test)\n",
    "\n",
    "# calcula a performance\n",
    "metrics.f1_score(y_test, yhat_rfc)"
   ]
  },
  {
   "cell_type": "markdown",
   "id": "023f8190",
   "metadata": {},
   "source": [
    "## 8. Avaliação do Modelo"
   ]
  },
  {
   "cell_type": "code",
   "execution_count": null,
   "id": "eb4cd941",
   "metadata": {},
   "outputs": [],
   "source": [
    "models_f1"
   ]
  },
  {
   "cell_type": "markdown",
   "id": "987f37f4",
   "metadata": {},
   "source": [
    "## 9. Fine Tunning"
   ]
  },
  {
   "cell_type": "markdown",
   "id": "be53c79e",
   "metadata": {},
   "source": [
    "## 10. Output da Submissão"
   ]
  },
  {
   "cell_type": "code",
<<<<<<< Updated upstream
   "execution_count": 27,
=======
   "execution_count": null,
>>>>>>> Stashed changes
   "id": "31f79ff2",
   "metadata": {
    "ExecuteTime": {
     "end_time": "2022-05-28T16:39:42.726234Z",
     "start_time": "2022-05-28T16:39:42.714534Z"
    }
   },
<<<<<<< Updated upstream
   "outputs": [
    {
     "data": {
      "text/html": [
       "<div>\n",
       "<style scoped>\n",
       "    .dataframe tbody tr th:only-of-type {\n",
       "        vertical-align: middle;\n",
       "    }\n",
       "\n",
       "    .dataframe tbody tr th {\n",
       "        vertical-align: top;\n",
       "    }\n",
       "\n",
       "    .dataframe thead th {\n",
       "        text-align: right;\n",
       "    }\n",
       "</style>\n",
       "<table border=\"1\" class=\"dataframe\">\n",
       "  <thead>\n",
       "    <tr style=\"text-align: right;\">\n",
       "      <th></th>\n",
       "      <th>year</th>\n",
       "      <th>uniqueid</th>\n",
       "      <th>location_type</th>\n",
       "      <th>cellphone_access</th>\n",
       "      <th>household_size</th>\n",
       "      <th>age_of_respondent</th>\n",
       "      <th>gender_of_respondent</th>\n",
       "      <th>bank_account</th>\n",
       "    </tr>\n",
       "  </thead>\n",
       "  <tbody>\n",
       "    <tr>\n",
       "      <th>3717</th>\n",
       "      <td>2016</td>\n",
       "      <td>8636</td>\n",
       "      <td>0</td>\n",
       "      <td>1</td>\n",
       "      <td>6</td>\n",
       "      <td>48</td>\n",
       "      <td>0</td>\n",
       "      <td>0</td>\n",
       "    </tr>\n",
       "    <tr>\n",
       "      <th>11036</th>\n",
       "      <td>2016</td>\n",
       "      <td>7483</td>\n",
       "      <td>1</td>\n",
       "      <td>0</td>\n",
       "      <td>3</td>\n",
       "      <td>27</td>\n",
       "      <td>0</td>\n",
       "      <td>0</td>\n",
       "    </tr>\n",
       "    <tr>\n",
       "      <th>2088</th>\n",
       "      <td>2017</td>\n",
       "      <td>4845</td>\n",
       "      <td>1</td>\n",
       "      <td>0</td>\n",
       "      <td>4</td>\n",
       "      <td>32</td>\n",
       "      <td>0</td>\n",
       "      <td>0</td>\n",
       "    </tr>\n",
       "    <tr>\n",
       "      <th>1399</th>\n",
       "      <td>2018</td>\n",
       "      <td>1328</td>\n",
       "      <td>0</td>\n",
       "      <td>0</td>\n",
       "      <td>3</td>\n",
       "      <td>19</td>\n",
       "      <td>0</td>\n",
       "      <td>0</td>\n",
       "    </tr>\n",
       "    <tr>\n",
       "      <th>1178</th>\n",
       "      <td>2017</td>\n",
       "      <td>4578</td>\n",
       "      <td>1</td>\n",
       "      <td>1</td>\n",
       "      <td>2</td>\n",
       "      <td>36</td>\n",
       "      <td>1</td>\n",
       "      <td>0</td>\n",
       "    </tr>\n",
       "  </tbody>\n",
       "</table>\n",
       "</div>"
      ],
      "text/plain": [
       "       year  uniqueid  location_type  cellphone_access  household_size  age_of_respondent  gender_of_respondent  bank_account\n",
       "3717   2016      8636              0                 1               6                 48                     0             0\n",
       "11036  2016      7483              1                 0               3                 27                     0             0\n",
       "2088   2017      4845              1                 0               4                 32                     0             0\n",
       "1399   2018      1328              0                 0               3                 19                     0             0\n",
       "1178   2017      4578              1                 1               2                 36                     1             0"
      ]
     },
     "execution_count": 27,
     "metadata": {},
     "output_type": "execute_result"
    }
   ],
=======
   "outputs": [],
>>>>>>> Stashed changes
   "source": [
    "x_test.head()"
   ]
  },
  {
   "cell_type": "code",
<<<<<<< Updated upstream
   "execution_count": 28,
=======
   "execution_count": null,
>>>>>>> Stashed changes
   "id": "998a30b9",
   "metadata": {
    "ExecuteTime": {
     "end_time": "2022-05-28T16:39:57.427594Z",
     "start_time": "2022-05-28T16:39:57.420106Z"
    }
   },
<<<<<<< Updated upstream
   "outputs": [
    {
     "data": {
      "text/plain": [
       "3717     0\n",
       "11036    0\n",
       "2088     0\n",
       "1399     0\n",
       "1178     0\n",
       "Name: bank_account, dtype: int64"
      ]
     },
     "execution_count": 28,
     "metadata": {},
     "output_type": "execute_result"
    }
   ],
=======
   "outputs": [],
>>>>>>> Stashed changes
   "source": [
    "y_test[0:5]"
   ]
  }
 ],
 "metadata": {
  "kernelspec": {
   "display_name": "Python 3 (ipykernel)",
   "language": "python",
   "name": "python3"
  },
  "language_info": {
   "codemirror_mode": {
    "name": "ipython",
    "version": 3
   },
   "file_extension": ".py",
   "mimetype": "text/x-python",
   "name": "python",
   "nbconvert_exporter": "python",
   "pygments_lexer": "ipython3",
   "version": "3.10.4"
  }
 },
 "nbformat": 4,
 "nbformat_minor": 5
}
