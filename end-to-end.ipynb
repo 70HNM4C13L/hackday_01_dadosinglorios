{
 "cells": [
  {
   "cell_type": "markdown",
   "id": "25b39340",
   "metadata": {},
   "source": [
    "# <font color=\"red\">Hackday - Dados Inglórios</font>"
   ]
  },
  {
   "cell_type": "markdown",
   "id": "494e5b2f",
   "metadata": {},
   "source": [
    "## Planejamento da Solução"
   ]
  },
  {
   "cell_type": "markdown",
   "id": "5c6c98f1",
   "metadata": {},
   "source": [
    "### Input"
   ]
  },
  {
   "cell_type": "markdown",
   "id": "839f0e29",
   "metadata": {},
   "source": [
    "**Problema de Negócio**"
   ]
  },
  {
   "cell_type": "markdown",
   "id": "fd883f40",
   "metadata": {},
   "source": [
    "A inclusão financeira continua a ser um dos principais obstáculos ao desenvolvimento econômico e humano na África. Por exemplo, no Quênia, Ruanda, Tanzânia e Uganda, apenas 9,1 milhões de adultos (14% dos adultos), têm acesso ou usam uma conta bancária comercial.\n",
    "\n",
    "Em 2008, o nível de inclusão financeira na África Subsaariana era de pouco mais de 23%. Em 2018, esse número quase dobrou. No Togo, Mazamesso Assih, ministro de finanças, coordena uma estratégia de inclusão financeira com bancos parceiros. Ele afirma que garantir acesso a serviços financeiros básicos para a população, é fundamental para impulsionar a economia Africana.\n",
    "\n",
    "Em 2022, conforme destacado no último relatório do Banco Central da África Ocidental, atingiu-se uma das mais altas taxas de inclusão financeira da região, próxima de 82%. Uma parcela significativa desse aumento veio do aumento dos serviços financeiros digitais.\n",
    "\n",
    "Assih afirma também, que existem três razões principais pelas quais as nações africanas devem apostar na inclusão financeira:\n",
    "\n",
    " 1. Tornar os serviços financeiros mais acessíveis promove o empoderamento das pessoas mais vulneráveis, especialmente as mulheres.\n",
    " 2. Combater redes criminosas, passar de uma economia exclusivamente monetária para uma infraestrutura financeira digital torna mais fácil para as autoridades rastrear transações e lidar com contrabandistas e traficantes.\n",
    " 3. impulsionará a conectividade dos setores público e privado para um crescimento sustentável, apoiando as start-ups africanas.\n",
    " \n",
    "O objetivo desta competição é criar um modelo de aprendizado de máquina para prever quais indivíduos vão ou não utilizar uma conta bancária. Os modelos e soluções desenvolvidos devem fornecer uma indicação do estado da inclusão financeira no Quênia, Ruanda, Tanzânia e Uganda.\n",
    "\n"
   ]
  },
  {
   "cell_type": "markdown",
   "id": "8fd40c76",
   "metadata": {},
   "source": [
    "**Dados**"
   ]
  },
  {
   "cell_type": "markdown",
   "id": "a79b7594",
   "metadata": {},
   "source": [
    "Os dados necessários podem ser encontrados no [repositório da atividade](https://www.kaggle.com/c/inclusao-financeira-na-africa). No arquivo train.csv você encontrará:\n",
    "\n",
    "|Feature|Descrição|\n",
    "|:------|:--------|\n",
    "|country| Pais de Origem.\n",
    "|year| Ano da Inclusão\n",
    "|uniqueid| Id do Usuário.\n",
    "|bank_account| Possui ou Não a Conta no Banco.\n",
    "|location_type| Tipo de Localidade (Rural...)\n",
    "|cellphone_access| Possui ou Não Celular.\n",
    "|household_size| Tamanho da Casa.\n",
    "|age_of_respondent| Idade do Usuário.\n",
    "|gender_of_respondent| Gênero do Usuário.\n",
    "|relationship_with_head| Status com o Dono da Conta.\n",
    "|marital_status| Situação Civil.\n",
    "|education_level| Nível de Educação.\n",
    "|job_type| Tipo de Trabalho."
   ]
  },
  {
   "cell_type": "markdown",
   "id": "ff1e9f2a",
   "metadata": {},
   "source": [
    "### Output"
   ]
  },
  {
   "cell_type": "markdown",
   "id": "fa286382",
   "metadata": {},
   "source": [
    "Um arquivo CSV com a previsão do modelo dizendo quais clientes abrirão uma conta digital em duas colunas:  \n",
    "\n",
    "|uid|\tbank_account|\n",
    "|:--|:--------------|\n",
    "|Rwanda_uniqueid_625|\tNo|\n",
    "|Rwanda_uniqueid_1561|\tNo|\n",
    "|Rwanda_uniqueid_4806|\tNo|\n",
    "|Tanzania_uniqueid_4902|\tYes|\n",
    "|Rwanda_uniqueid_980|\tNo|\n",
    "|Rwanda_uniqueid_7043|\tNo|"
   ]
  },
  {
   "cell_type": "markdown",
   "id": "a5a567b8",
   "metadata": {},
   "source": [
    "### Tasks"
   ]
  },
  {
   "cell_type": "markdown",
   "id": "49f9b728",
   "metadata": {},
   "source": [
    "- Descrição dos Dados\n",
    "    - Renomear colunas\n",
    "    - Checar dimenões\n",
    "    - Checar tipos\n",
    "    - Alterar tipos\n",
    "    - Checar vazios\n",
    "    - Preencher os vazios\n",
    "    - Descrições Estatísticas\n",
    "\n",
    "- Feature Engineering\n",
    "    - Mapa de hipóteses\n",
    "    - Criação de hipóteses\n",
    "- Seleção de features (Filtro)\n",
    "- EDA\n",
    "    - Univariada\n",
    "    - Bivariada (teste de hipóteses)\n",
    "    - Multivariadas\n",
    "- Preparação dos dados\n",
    "    - Rescala das features\n",
    "- Seleção de features\n",
    "- Construção do modelo\n",
    "    - modelos de classificação\n",
    "    - guideline\n",
    "- Avaliação do modelo\n",
    "- Fine Tuning\n",
    "- CSV Final"
   ]
  },
  {
   "cell_type": "markdown",
   "id": "054d62ec",
   "metadata": {},
   "source": [
    "## 0. Settings"
   ]
  },
  {
   "cell_type": "markdown",
   "id": "4f046d4a",
   "metadata": {},
   "source": [
    "### 0.1. Imports"
   ]
  },
  {
   "cell_type": "code",
   "execution_count": 18,
   "id": "ebb8fc54",
   "metadata": {
    "ExecuteTime": {
     "end_time": "2022-05-28T21:14:07.024917Z",
     "start_time": "2022-05-28T21:14:07.016909Z"
    }
   },
   "outputs": [],
   "source": [
    "# manipulação de dados\n",
    "import pandas as pd\n",
    "import numpy as np\n",
    "\n",
    "# visualização de dados\n",
    "import matplotlib.pyplot as plt\n",
    "import seaborn as sns\n",
    "\n",
    "from IPython.display import HTML\n",
    "\n",
    "# scikit-learn\n",
    "from sklearn import model_selection as ms\n",
    "from sklearn import ensemble\n",
    "from sklearn import metrics\n",
    "from sklearn import preprocessing as pp\n",
    "from sklearn import linear_model\n",
    "from sklearn.svm import SVC\n",
    "from sklearn.neighbors import KNeighborsClassifier"
   ]
  },
  {
   "cell_type": "markdown",
   "id": "e5ff7771",
   "metadata": {},
   "source": [
    "### 0.2. Helper Functions"
   ]
  },
  {
   "cell_type": "code",
   "execution_count": 19,
   "id": "a1f79abd",
   "metadata": {
    "ExecuteTime": {
     "end_time": "2022-05-28T22:06:15.938733Z",
     "start_time": "2022-05-28T22:06:15.918631Z"
    }
   },
   "outputs": [
    {
     "name": "stdout",
     "output_type": "stream",
     "text": [
      "%pylab is deprecated, use %matplotlib inline and import the required libraries.\n",
      "Populating the interactive namespace from numpy and matplotlib\n"
     ]
    },
    {
     "data": {
      "text/html": [
       "<style>.container {width:100% !important;}</style>"
      ],
      "text/plain": [
       "<IPython.core.display.HTML object>"
      ]
     },
     "metadata": {},
     "output_type": "display_data"
    }
   ],
   "source": [
    "def freq_analysis(df, feature):\n",
    "    count = df[feature].value_counts()\n",
    "    mapper = dict()\n",
    "    for ind in count.index:\n",
    "        mapper[ind] = count[ind]\n",
    "\n",
    "    feature_map = df2[feature].map(mapper)\n",
    "    \n",
    "    return feature_map\n",
    "\n",
    "def jupyter_settings():\n",
    "    %matplotlib inline\n",
    "    %pylab inline\n",
    "    \n",
    "    plt.style.use('bmh')\n",
    "    plt.rcParams['figure.figsize'] = [25, 12]\n",
    "    plt.rcParams['font.size'] = 40\n",
    "    \n",
    "    display(HTML('<style>.container {width:100% !important;}</style>'))\n",
    "    pd.options.display.max_columns = None\n",
    "    pd.options.display.max_rows = None\n",
    "    pd.set_option('display.expand_frame_repr', False)\n",
    "    \n",
    "    sns.set()\n",
    "\n",
    "jupyter_settings()"
   ]
  },
  {
   "cell_type": "markdown",
   "id": "c1424f31",
   "metadata": {},
   "source": [
    "### 0.3. Data Loading"
   ]
  },
  {
   "cell_type": "code",
   "execution_count": 20,
   "id": "01cb76bb",
   "metadata": {
    "ExecuteTime": {
     "end_time": "2022-05-28T21:14:07.120359Z",
     "start_time": "2022-05-28T21:14:07.063060Z"
    }
   },
   "outputs": [
    {
     "data": {
      "text/html": [
       "<div>\n",
       "<style scoped>\n",
       "    .dataframe tbody tr th:only-of-type {\n",
       "        vertical-align: middle;\n",
       "    }\n",
       "\n",
       "    .dataframe tbody tr th {\n",
       "        vertical-align: top;\n",
       "    }\n",
       "\n",
       "    .dataframe thead th {\n",
       "        text-align: right;\n",
       "    }\n",
       "</style>\n",
       "<table border=\"1\" class=\"dataframe\">\n",
       "  <thead>\n",
       "    <tr style=\"text-align: right;\">\n",
       "      <th></th>\n",
       "      <th>country</th>\n",
       "      <th>year</th>\n",
       "      <th>uniqueid</th>\n",
       "      <th>location_type</th>\n",
       "      <th>cellphone_access</th>\n",
       "      <th>household_size</th>\n",
       "      <th>age_of_respondent</th>\n",
       "      <th>gender_of_respondent</th>\n",
       "      <th>relationship_with_head</th>\n",
       "      <th>marital_status</th>\n",
       "      <th>education_level</th>\n",
       "      <th>job_type</th>\n",
       "      <th>uid</th>\n",
       "      <th>bank_account</th>\n",
       "    </tr>\n",
       "  </thead>\n",
       "  <tbody>\n",
       "    <tr>\n",
       "      <th>0</th>\n",
       "      <td>Rwanda</td>\n",
       "      <td>2016</td>\n",
       "      <td>uniqueid_4858</td>\n",
       "      <td>Rural</td>\n",
       "      <td>Yes</td>\n",
       "      <td>6</td>\n",
       "      <td>45</td>\n",
       "      <td>Male</td>\n",
       "      <td>Head of Household</td>\n",
       "      <td>Divorced/Seperated</td>\n",
       "      <td>Primary education</td>\n",
       "      <td>Farming and Fishing</td>\n",
       "      <td>Rwanda_uniqueid_4858</td>\n",
       "      <td>No</td>\n",
       "    </tr>\n",
       "    <tr>\n",
       "      <th>1</th>\n",
       "      <td>Tanzania</td>\n",
       "      <td>2017</td>\n",
       "      <td>uniqueid_3015</td>\n",
       "      <td>Urban</td>\n",
       "      <td>No</td>\n",
       "      <td>4</td>\n",
       "      <td>33</td>\n",
       "      <td>Female</td>\n",
       "      <td>Head of Household</td>\n",
       "      <td>Single/Never Married</td>\n",
       "      <td>Primary education</td>\n",
       "      <td>Self employed</td>\n",
       "      <td>Tanzania_uniqueid_3015</td>\n",
       "      <td>No</td>\n",
       "    </tr>\n",
       "    <tr>\n",
       "      <th>2</th>\n",
       "      <td>Rwanda</td>\n",
       "      <td>2016</td>\n",
       "      <td>uniqueid_103</td>\n",
       "      <td>Rural</td>\n",
       "      <td>Yes</td>\n",
       "      <td>7</td>\n",
       "      <td>43</td>\n",
       "      <td>Male</td>\n",
       "      <td>Head of Household</td>\n",
       "      <td>Married/Living together</td>\n",
       "      <td>Secondary education</td>\n",
       "      <td>Farming and Fishing</td>\n",
       "      <td>Rwanda_uniqueid_103</td>\n",
       "      <td>No</td>\n",
       "    </tr>\n",
       "    <tr>\n",
       "      <th>3</th>\n",
       "      <td>Rwanda</td>\n",
       "      <td>2016</td>\n",
       "      <td>uniqueid_4582</td>\n",
       "      <td>Rural</td>\n",
       "      <td>No</td>\n",
       "      <td>6</td>\n",
       "      <td>35</td>\n",
       "      <td>Female</td>\n",
       "      <td>Head of Household</td>\n",
       "      <td>Married/Living together</td>\n",
       "      <td>Primary education</td>\n",
       "      <td>Farming and Fishing</td>\n",
       "      <td>Rwanda_uniqueid_4582</td>\n",
       "      <td>No</td>\n",
       "    </tr>\n",
       "    <tr>\n",
       "      <th>4</th>\n",
       "      <td>Tanzania</td>\n",
       "      <td>2017</td>\n",
       "      <td>uniqueid_2854</td>\n",
       "      <td>Urban</td>\n",
       "      <td>Yes</td>\n",
       "      <td>2</td>\n",
       "      <td>30</td>\n",
       "      <td>Male</td>\n",
       "      <td>Head of Household</td>\n",
       "      <td>Single/Never Married</td>\n",
       "      <td>Primary education</td>\n",
       "      <td>Informally employed</td>\n",
       "      <td>Tanzania_uniqueid_2854</td>\n",
       "      <td>No</td>\n",
       "    </tr>\n",
       "  </tbody>\n",
       "</table>\n",
       "</div>"
      ],
      "text/plain": [
       "    country  year       uniqueid location_type cellphone_access  household_size  age_of_respondent gender_of_respondent relationship_with_head           marital_status      education_level             job_type                     uid bank_account\n",
       "0    Rwanda  2016  uniqueid_4858         Rural              Yes               6                 45                 Male      Head of Household       Divorced/Seperated    Primary education  Farming and Fishing    Rwanda_uniqueid_4858           No\n",
       "1  Tanzania  2017  uniqueid_3015         Urban               No               4                 33               Female      Head of Household     Single/Never Married    Primary education        Self employed  Tanzania_uniqueid_3015           No\n",
       "2    Rwanda  2016   uniqueid_103         Rural              Yes               7                 43                 Male      Head of Household  Married/Living together  Secondary education  Farming and Fishing     Rwanda_uniqueid_103           No\n",
       "3    Rwanda  2016  uniqueid_4582         Rural               No               6                 35               Female      Head of Household  Married/Living together    Primary education  Farming and Fishing    Rwanda_uniqueid_4582           No\n",
       "4  Tanzania  2017  uniqueid_2854         Urban              Yes               2                 30                 Male      Head of Household     Single/Never Married    Primary education  Informally employed  Tanzania_uniqueid_2854           No"
      ]
     },
     "execution_count": 20,
     "metadata": {},
     "output_type": "execute_result"
    }
   ],
   "source": [
    "train_file = './data/train.csv'\n",
    "\n",
    "df_raw = pd.read_csv(train_file)\n",
    "df_raw.head()"
   ]
  },
  {
   "cell_type": "markdown",
   "id": "aad2260b",
   "metadata": {},
   "source": [
    "## 1. Descrição dos Dados"
   ]
  },
  {
   "cell_type": "code",
   "execution_count": 21,
   "id": "f508a3ce",
   "metadata": {
    "ExecuteTime": {
     "end_time": "2022-05-28T21:14:07.132732Z",
     "start_time": "2022-05-28T21:14:07.125140Z"
    }
   },
   "outputs": [],
   "source": [
    "df1 = df_raw.copy()"
   ]
  },
  {
   "cell_type": "code",
   "execution_count": 22,
   "id": "486022ee-17eb-45d7-a3d4-d0e1945c20d1",
   "metadata": {
    "ExecuteTime": {
     "end_time": "2022-05-28T21:14:07.144504Z",
     "start_time": "2022-05-28T21:14:07.136586Z"
    }
   },
   "outputs": [
    {
     "data": {
      "text/plain": [
       "array(['Rwanda', 'Tanzania', 'Kenya', 'Uganda'], dtype=object)"
      ]
     },
     "execution_count": 22,
     "metadata": {},
     "output_type": "execute_result"
    }
   ],
   "source": [
    "df1['country'].unique()"
   ]
  },
  {
   "cell_type": "code",
   "execution_count": 23,
   "id": "90c6ffae-571b-4449-b761-555a9f169fde",
   "metadata": {
    "ExecuteTime": {
     "end_time": "2022-05-28T21:14:07.156257Z",
     "start_time": "2022-05-28T21:14:07.147993Z"
    }
   },
   "outputs": [
    {
     "data": {
      "text/plain": [
       "array(['Rural', 'Urban'], dtype=object)"
      ]
     },
     "execution_count": 23,
     "metadata": {},
     "output_type": "execute_result"
    }
   ],
   "source": [
    "df1['location_type'].unique()"
   ]
  },
  {
   "cell_type": "code",
   "execution_count": 24,
   "id": "530e1719-96e7-4d65-9f59-271d794c11d6",
   "metadata": {
    "ExecuteTime": {
     "end_time": "2022-05-28T21:14:07.167599Z",
     "start_time": "2022-05-28T21:14:07.159395Z"
    }
   },
   "outputs": [
    {
     "data": {
      "text/plain": [
       "array(['Head of Household', 'Spouse', 'Child', 'Parent', 'Other relative',\n",
       "       'Other non-relatives'], dtype=object)"
      ]
     },
     "execution_count": 24,
     "metadata": {},
     "output_type": "execute_result"
    }
   ],
   "source": [
    "df1['relationship_with_head'].unique()"
   ]
  },
  {
   "cell_type": "code",
   "execution_count": 25,
   "id": "db41946d-c6e9-418e-8645-44e9d066d306",
   "metadata": {
    "ExecuteTime": {
     "end_time": "2022-05-28T21:14:07.179747Z",
     "start_time": "2022-05-28T21:14:07.170781Z"
    }
   },
   "outputs": [
    {
     "data": {
      "text/plain": [
       "array(['Divorced/Seperated', 'Single/Never Married',\n",
       "       'Married/Living together', 'Widowed', 'Dont know'], dtype=object)"
      ]
     },
     "execution_count": 25,
     "metadata": {},
     "output_type": "execute_result"
    }
   ],
   "source": [
    "df1['marital_status'].unique()"
   ]
  },
  {
   "cell_type": "code",
   "execution_count": 26,
   "id": "a0df47ae-0491-471c-a9f2-5557d38c1659",
   "metadata": {
    "ExecuteTime": {
     "end_time": "2022-05-28T21:14:07.193254Z",
     "start_time": "2022-05-28T21:14:07.186180Z"
    }
   },
   "outputs": [
    {
     "data": {
      "text/plain": [
       "array(['Primary education', 'Secondary education',\n",
       "       'Vocational/Specialised training', 'Tertiary education',\n",
       "       'No formal education', 'Other/Dont know/RTA'], dtype=object)"
      ]
     },
     "execution_count": 26,
     "metadata": {},
     "output_type": "execute_result"
    }
   ],
   "source": [
    "df1['education_level'].unique()"
   ]
  },
  {
   "cell_type": "markdown",
   "id": "d3da856c",
   "metadata": {},
   "source": [
    "### 1.1. Renomear features"
   ]
  },
  {
   "cell_type": "markdown",
   "id": "77b33cf9",
   "metadata": {},
   "source": [
    "### 1.2. Checar Dimensões"
   ]
  },
  {
   "cell_type": "markdown",
   "id": "ce43b50d",
   "metadata": {},
   "source": [
    "### 1.3. Checar Tipos"
   ]
  },
  {
   "cell_type": "markdown",
   "id": "c7a3b928",
   "metadata": {},
   "source": [
    "### 1.4. Alterar Tipos"
   ]
  },
  {
   "cell_type": "markdown",
   "id": "f2a2415c",
   "metadata": {},
   "source": [
    "### 1.5. Checa NaN"
   ]
  },
  {
   "cell_type": "code",
   "execution_count": 27,
   "id": "5512f338",
   "metadata": {
    "ExecuteTime": {
     "end_time": "2022-05-28T21:14:07.238546Z",
     "start_time": "2022-05-28T21:14:07.196428Z"
    }
   },
   "outputs": [
    {
     "data": {
      "text/plain": [
       "country                   0\n",
       "year                      0\n",
       "uniqueid                  0\n",
       "location_type             0\n",
       "cellphone_access          0\n",
       "household_size            0\n",
       "age_of_respondent         0\n",
       "gender_of_respondent      0\n",
       "relationship_with_head    0\n",
       "marital_status            0\n",
       "education_level           0\n",
       "job_type                  0\n",
       "uid                       0\n",
       "bank_account              0\n",
       "dtype: int64"
      ]
     },
     "execution_count": 27,
     "metadata": {},
     "output_type": "execute_result"
    }
   ],
   "source": [
    "df1.isna().sum()"
   ]
  },
  {
   "cell_type": "markdown",
   "id": "5a526c9e",
   "metadata": {},
   "source": [
    "### 1.6. Preenche NaN"
   ]
  },
  {
   "cell_type": "markdown",
   "id": "34775d08",
   "metadata": {},
   "source": [
    "### 1.7. Estatística Descritiva"
   ]
  },
  {
   "cell_type": "markdown",
   "id": "e7f66d38",
   "metadata": {},
   "source": [
    "## 2. Feature Engineering"
   ]
  },
  {
   "cell_type": "code",
   "execution_count": 28,
   "id": "0ef8e10d",
   "metadata": {
    "ExecuteTime": {
     "end_time": "2022-05-28T21:14:07.252277Z",
     "start_time": "2022-05-28T21:14:07.242080Z"
    }
   },
   "outputs": [],
   "source": [
    "df2 = df1.copy()"
   ]
  },
  {
   "cell_type": "code",
   "execution_count": 29,
   "id": "4020c745-0670-4933-8ecf-136642b9a4c9",
   "metadata": {
    "ExecuteTime": {
     "end_time": "2022-05-28T21:14:07.271934Z",
     "start_time": "2022-05-28T21:14:07.259471Z"
    }
   },
   "outputs": [
    {
     "data": {
      "text/plain": [
       "country                   object\n",
       "year                       int64\n",
       "uniqueid                  object\n",
       "location_type             object\n",
       "cellphone_access          object\n",
       "household_size             int64\n",
       "age_of_respondent          int64\n",
       "gender_of_respondent      object\n",
       "relationship_with_head    object\n",
       "marital_status            object\n",
       "education_level           object\n",
       "job_type                  object\n",
       "uid                       object\n",
       "bank_account              object\n",
       "dtype: object"
      ]
     },
     "execution_count": 29,
     "metadata": {},
     "output_type": "execute_result"
    }
   ],
   "source": [
    "df2.dtypes"
   ]
  },
  {
   "cell_type": "markdown",
   "id": "b8673e18",
   "metadata": {},
   "source": [
    "### 2.1. Mapa de Hipóteses"
   ]
  },
  {
   "cell_type": "markdown",
   "id": "c58557e7",
   "metadata": {},
   "source": [
    "### 2.2. Criação de Hipóteses"
   ]
  },
  {
   "cell_type": "markdown",
   "id": "8b1d7763",
   "metadata": {},
   "source": [
    "**H1.** Os países desenvolvidos tem 10% a mais de contas digitais  \n",
    "**H2.** Zonas urbanas tem 50% a mais de contas digitais do que zonas rurais  \n",
    "**H3.** 80% das pessoas que possuem celular e internet tem conta digital  \n",
    "**H4.** A quantidade de contas de pessoas com ensino superior é maior em média do que as demais  \n",
    "**H5.** Pessoas entre 18 e 40 anos constituem 85% da base de contas digitais  \n",
    "**H6.** Mulheres são a maioria entre as contas digitais abertas  \n",
    "**H7.** Pessoas acima dos 60 anos mesmo com acesso ao celular não possuem conta digital  \n",
    "**H8.** 95% das pessoas sem trabalho não possuem conta digital  \n",
    "**H9.** 100% dos chefes de família possuem conta digital"
   ]
  },
  {
   "cell_type": "markdown",
   "id": "46e033de",
   "metadata": {},
   "source": [
    "## 3. Seleção de Features"
   ]
  },
  {
   "cell_type": "code",
   "execution_count": 30,
   "id": "b60808b2",
   "metadata": {
    "ExecuteTime": {
     "end_time": "2022-05-28T21:14:07.282102Z",
     "start_time": "2022-05-28T21:14:07.275611Z"
    }
   },
   "outputs": [],
   "source": [
    "df3 = df2.copy()"
   ]
  },
  {
   "cell_type": "markdown",
   "id": "9a682c0b",
   "metadata": {},
   "source": [
    "## 4. EDA"
   ]
  },
  {
   "cell_type": "code",
   "execution_count": 31,
   "id": "00784e93",
   "metadata": {
    "ExecuteTime": {
     "end_time": "2022-05-28T21:14:07.290504Z",
     "start_time": "2022-05-28T21:14:07.285517Z"
    }
   },
   "outputs": [],
   "source": [
    "df4 = df3.copy()"
   ]
  },
  {
   "cell_type": "markdown",
   "id": "f809a85c",
   "metadata": {},
   "source": [
    "### 4.1. Univariada"
   ]
  },
  {
   "cell_type": "code",
   "execution_count": 32,
   "id": "0e736759",
   "metadata": {
    "ExecuteTime": {
     "end_time": "2022-05-28T22:08:37.851647Z",
     "start_time": "2022-05-28T22:08:36.347129Z"
    }
   },
   "outputs": [
    {
     "data": {
      "image/png": "[encoded data removed]",
      "text/plain": [
       "<Figure size 2160x2880 with 6 Axes>"
      ]
     },
     "metadata": {},
     "output_type": "display_data"
    }
   ],
   "source": [
    "fig, ax = plt.subplots(6, 1, figsize=(30, 40))\n",
    "sns.countplot(x='country',hue = 'bank_account', data = df4, ax=ax[0])\n",
    "sns.countplot(x='location_type', hue = 'bank_account',data = df4, ax=ax[1])\n",
    "sns.countplot(x='gender_of_respondent', hue = 'bank_account',data = df4, ax=ax[2])\n",
    "sns.countplot(x='marital_status', hue = 'bank_account',data = df4, ax=ax[3])\n",
    "sns.countplot(x='education_level', hue = 'bank_account', data = df4, ax = ax[4])\n",
    "sns.countplot(x='job_type', hue = 'bank_account', data = df4, ax = ax[5]);"
   ]
  },
  {
   "cell_type": "markdown",
   "id": "8f3427ae",
   "metadata": {},
   "source": [
    "### 4.2. Bivariadas"
   ]
  },
  {
   "cell_type": "markdown",
   "id": "87ea1122",
   "metadata": {},
   "source": [
    "**H1.** Os países desenvolvidos tem 10% a mais de contas digitais  "
   ]
  },
  {
   "cell_type": "markdown",
   "id": "9761a43b",
   "metadata": {},
   "source": [
    "Sem dados para concluir o teste"
   ]
  },
  {
   "cell_type": "markdown",
   "id": "0281da2a",
   "metadata": {},
   "source": [
    "**H2.** Zonas urbanas tem 50% a mais de contas digitais do que zonas rurais  "
   ]
  },
  {
   "cell_type": "markdown",
   "id": "46cd3078",
   "metadata": {},
   "source": [
    "**FALSO** - O tipo de localização mostra uma igualdade entre os valores."
   ]
  },
  {
   "cell_type": "code",
   "execution_count": 33,
   "id": "ce622fa7",
   "metadata": {
    "ExecuteTime": {
     "end_time": "2022-05-28T22:19:25.448336Z",
     "start_time": "2022-05-28T22:19:25.255982Z"
    }
   },
   "outputs": [
    {
     "data": {
      "image/png": "[encoded data removed]",
      "text/plain": [
       "<Figure size 1800x864 with 1 Axes>"
      ]
     },
     "metadata": {},
     "output_type": "display_data"
    }
   ],
   "source": [
    "graph = df4[df1['bank_account']=='Yes'][['uniqueid','location_type']].groupby('location_type').count().reset_index()\n",
    "sns.barplot( data = graph, x= 'location_type', y= 'uniqueid');"
   ]
  },
  {
   "cell_type": "markdown",
   "id": "3d0899bc",
   "metadata": {},
   "source": [
    "**H3.** 80% das pessoas que possuem celular e internet tem conta digital  "
   ]
  },
  {
   "cell_type": "markdown",
   "id": "f106e151",
   "metadata": {},
   "source": [
    "**FALSO** - Apenas 16.32% das pessoas que possuem celular também possuem conta digital.  \n",
    "Entretanto, não temos indícios de posse de internet pelos usuários. Portanto, a conclusão é baseada apenas no celular."
   ]
  },
  {
   "cell_type": "code",
   "execution_count": 34,
   "id": "78f334ba",
   "metadata": {
    "ExecuteTime": {
     "end_time": "2022-05-28T22:25:06.499054Z",
     "start_time": "2022-05-28T22:25:06.472216Z"
    }
   },
   "outputs": [
    {
     "ename": "NameError",
     "evalue": "name 'total' is not defined",
     "output_type": "error",
     "traceback": [
      "\u001b[1;31m---------------------------------------------------------------------------\u001b[0m",
      "\u001b[1;31mNameError\u001b[0m                                 Traceback (most recent call last)",
      "\u001b[1;32mc:\\Users\\gbrla\\Documents\\repos\\hackday_01_dadosinglorios\\end-to-end.ipynb Cell 54'\u001b[0m in \u001b[0;36m<cell line: 3>\u001b[1;34m()\u001b[0m\n\u001b[0;32m      <a href='vscode-notebook-cell:/c%3A/Users/gbrla/Documents/repos/hackday_01_dadosinglorios/end-to-end.ipynb#ch0000053?line=0'>1</a>\u001b[0m h3 \u001b[39m=\u001b[39m df4[df4[\u001b[39m'\u001b[39m\u001b[39mcellphone_access\u001b[39m\u001b[39m'\u001b[39m]\u001b[39m==\u001b[39m\u001b[39m'\u001b[39m\u001b[39mYes\u001b[39m\u001b[39m'\u001b[39m][[\u001b[39m'\u001b[39m\u001b[39mbank_account\u001b[39m\u001b[39m'\u001b[39m,\u001b[39m'\u001b[39m\u001b[39muniqueid\u001b[39m\u001b[39m'\u001b[39m]]\u001b[39m.\u001b[39mgroupby(\u001b[39m'\u001b[39m\u001b[39mbank_account\u001b[39m\u001b[39m'\u001b[39m)\u001b[39m.\u001b[39mcount()\u001b[39m.\u001b[39mreset_index()\n\u001b[0;32m      <a href='vscode-notebook-cell:/c%3A/Users/gbrla/Documents/repos/hackday_01_dadosinglorios/end-to-end.ipynb#ch0000053?line=1'>2</a>\u001b[0m yes \u001b[39m=\u001b[39m \u001b[39mfloat\u001b[39m(h3[h3[\u001b[39m'\u001b[39m\u001b[39mbank_account\u001b[39m\u001b[39m'\u001b[39m]\u001b[39m==\u001b[39m \u001b[39m'\u001b[39m\u001b[39mYes\u001b[39m\u001b[39m'\u001b[39m][\u001b[39m'\u001b[39m\u001b[39muniqueid\u001b[39m\u001b[39m'\u001b[39m])\n\u001b[1;32m----> <a href='vscode-notebook-cell:/c%3A/Users/gbrla/Documents/repos/hackday_01_dadosinglorios/end-to-end.ipynb#ch0000053?line=2'>3</a>\u001b[0m percent \u001b[39m=\u001b[39m yes\u001b[39m/\u001b[39mtotal\u001b[39m*\u001b[39m\u001b[39m100\u001b[39m\n\u001b[0;32m      <a href='vscode-notebook-cell:/c%3A/Users/gbrla/Documents/repos/hackday_01_dadosinglorios/end-to-end.ipynb#ch0000053?line=3'>4</a>\u001b[0m \u001b[39mprint\u001b[39m(\u001b[39mf\u001b[39m\u001b[39m'\u001b[39m\u001b[39mApenas \u001b[39m\u001b[39m{\u001b[39;00mpercent\u001b[39m:\u001b[39;00m\u001b[39m.2f\u001b[39m\u001b[39m}\u001b[39;00m\u001b[39m% das pessoas que possuem celular, também possuem conta digital\u001b[39m\u001b[39m'\u001b[39m)\n\u001b[0;32m      <a href='vscode-notebook-cell:/c%3A/Users/gbrla/Documents/repos/hackday_01_dadosinglorios/end-to-end.ipynb#ch0000053?line=5'>6</a>\u001b[0m account \u001b[39m=\u001b[39m df4[df4[\u001b[39m'\u001b[39m\u001b[39mbank_account\u001b[39m\u001b[39m'\u001b[39m] \u001b[39m==\u001b[39m \u001b[39m'\u001b[39m\u001b[39mYes\u001b[39m\u001b[39m'\u001b[39m][\u001b[39m'\u001b[39m\u001b[39muniqueid\u001b[39m\u001b[39m'\u001b[39m]\u001b[39m.\u001b[39mcount()\n",
      "\u001b[1;31mNameError\u001b[0m: name 'total' is not defined"
     ]
    }
   ],
   "source": [
    "h3 = df4[df4['cellphone_access']=='Yes'][['bank_account','uniqueid']].groupby('bank_account').count().reset_index()\n",
    "yes = float(h3[h3['bank_account']== 'Yes']['uniqueid'])\n",
    "percent = yes/total*100\n",
    "print(f'Apenas {percent:.2f}% das pessoas que possuem celular, também possuem conta digital')\n",
    "\n",
    "account = df4[df4['bank_account'] == 'Yes']['uniqueid'].count()\n",
    "account_cell = df4[(df4['bank_account'] == 'Yes') & (df4['cellphone_access']=='Yes')]['uniqueid'].count()\n",
    "percent_ = account_cell/account*100\n",
    "print(f'\\n{percent_:.2f}% das pessoas que possuem conta também possuem celular')"
   ]
  },
  {
   "cell_type": "markdown",
   "id": "d620acf8",
   "metadata": {},
   "source": [
    "**H4.** A quantidade de contas de pessoas com ensino superior é maior em média do que as demais  "
   ]
  },
  {
   "cell_type": "markdown",
   "id": "13674719",
   "metadata": {},
   "source": [
    "**FALSO** - A maior proporção das contas digitais está no vocational/specialised training"
   ]
  },
  {
   "cell_type": "code",
   "execution_count": null,
   "id": "0acf3d85",
   "metadata": {
    "ExecuteTime": {
     "end_time": "2022-05-28T22:39:07.831407Z",
     "start_time": "2022-05-28T22:39:07.539619Z"
    }
   },
   "outputs": [
    {
     "data": {
      "image/png": "[encoded data removed]",
      "text/plain": [
       "<Figure size 1800x864 with 1 Axes>"
      ]
     },
     "metadata": {},
     "output_type": "display_data"
    }
   ],
   "source": [
    "# contar a quantidade de yes de cada nível de escolaridade\n",
    "# fazer a divisão do yes pelo total do nível de escolaridade\n",
    "\n",
    "education_yes = df4.loc[df4['bank_account'] == 'Yes', ['education_level', 'bank_account']].groupby('education_level').count().reset_index()\n",
    "education_total = df4[['education_level', 'bank_account']].groupby('education_level').count().reset_index()\n",
    "education = pd.merge(education_yes, education_total, on='education_level', how='inner')\n",
    "education['prop'] = education.apply(lambda x: x['bank_account_x'] / x['bank_account_y'], axis=1)\n",
    "sns.barplot(data=education, x='education_level', y='prop');"
   ]
  },
  {
   "cell_type": "markdown",
   "id": "3ceef4e6",
   "metadata": {},
   "source": [
    "**H5.** Pessoas entre 18 e 40 anos constituem 85% da base de contas digitais  "
   ]
  },
  {
   "cell_type": "markdown",
   "id": "a1498e24",
   "metadata": {},
   "source": [
    "**FALSO** - Pessoas na faixa de 18 a 40 anos, compõem 61% da base de contas digitais."
   ]
  },
  {
   "cell_type": "code",
   "execution_count": null,
   "id": "72fe666d",
   "metadata": {
    "ExecuteTime": {
     "end_time": "2022-05-28T22:45:23.250192Z",
     "start_time": "2022-05-28T22:45:23.230691Z"
    }
   },
   "outputs": [
    {
     "name": "stdout",
     "output_type": "stream",
     "text": [
      "A quantidade de pessoas entre 18 e 40 anos que possuem conta representam 60.71%\n"
     ]
    }
   ],
   "source": [
    "total_ = df4[df4['bank_account']=='Yes']['uniqueid'].count()\n",
    "age = df4[(df4['bank_account']=='Yes') & ((df1['age_of_respondent'] >= 18 ) & (df4['age_of_respondent'] <= 40))]['uniqueid'].count()\n",
    "percent = age/total_*100\n",
    "print(f'A quantidade de pessoas entre 18 e 40 anos que possuem conta representam {percent:.2f}%')"
   ]
  },
  {
   "cell_type": "markdown",
   "id": "3869ecf3",
   "metadata": {},
   "source": [
    "**H6.** Mulheres são a maioria entre as contas digitais abertas  "
   ]
  },
  {
   "cell_type": "markdown",
   "id": "bf7aa9a7",
   "metadata": {},
   "source": [
    "**FALSO** - De um total de 1685 de contas digitais, 54.60% são de homens"
   ]
  },
  {
   "cell_type": "code",
   "execution_count": null,
   "id": "2c7288eb",
   "metadata": {
    "ExecuteTime": {
     "end_time": "2022-05-28T22:49:59.608442Z",
     "start_time": "2022-05-28T22:49:59.582182Z"
    }
   },
   "outputs": [
    {
     "name": "stdout",
     "output_type": "stream",
     "text": [
      "De um total de 10077 de contas digitais, 39.10% são de homens\n"
     ]
    }
   ],
   "source": [
    "account = df1[df1['bank_account'] == 'No'][['uniqueid','gender_of_respondent' ]].groupby('gender_of_respondent').count().reset_index()\n",
    "male = int(account[account['gender_of_respondent']=='Male']['uniqueid'])\n",
    "female = int(account[account['gender_of_respondent']=='Female']['uniqueid'])\n",
    "print(f'De um total de {male+female} de contas digitais, {male/(male+female)*100:.2f}% são de homens')"
   ]
  },
  {
   "cell_type": "markdown",
   "id": "65db0154",
   "metadata": {},
   "source": [
    "**H7.** Pessoas acima dos 60 anos mesmo com acesso ao celular não possuem conta digital  "
   ]
  },
  {
   "cell_type": "code",
   "execution_count": 35,
   "id": "11ab60f3",
   "metadata": {},
   "outputs": [
    {
     "name": "stdout",
     "output_type": "stream",
     "text": [
      "Falso. 145 respondentes com idade superior a 60 e que possuem celular possuem conta em banco.\n"
     ]
    }
   ],
   "source": [
    "plus60_b_acc = df1.loc[(df1['age_of_respondent'] > 60) & (df1['cellphone_access'] == 'Yes') & (df1['bank_account'] == 'Yes'), ['uniqueid', 'age_of_respondent', 'cellphone_access', 'bank_account']].shape[0]\n",
    "\n",
    "print(f'Falso. {plus60_b_acc} respondentes com idade superior a 60 e que possuem celular possuem conta em banco.')"
   ]
  },
  {
   "cell_type": "markdown",
   "id": "6a3ebb5d",
   "metadata": {},
   "source": [
    "**H8.** 95% das pessoas sem trabalho não possuem conta digital  "
   ]
  },
  {
   "cell_type": "code",
   "execution_count": 36,
   "id": "3e1bae1c",
   "metadata": {},
   "outputs": [
    {
     "name": "stdout",
     "output_type": "stream",
     "text": [
      "11703\n",
      "5\n",
      " Verdadeiro. 99.96% das pessoas sem trabalho não possuem conta em banco \n"
     ]
    }
   ],
   "source": [
    "#print(df1['job_type'].unique())\n",
    "\n",
    "df_drop_job = df1[~(df1['job_type'] == 'Dont Know/Refuse to answer')]\n",
    "\n",
    "total = df_drop_job.shape[0]\n",
    "\n",
    "print(total)\n",
    "\n",
    "yes = df_drop_job[(df_drop_job['job_type'] == 'No Income') & (df_drop_job['bank_account'] == 'Yes')].shape[0]\n",
    "\n",
    "print(yes)\n",
    "\n",
    "percent = np.round(yes/total*100, 2)\n",
    "\n",
    "print(f' Verdadeiro. {100 - percent}% das pessoas sem trabalho não possuem conta em banco ')"
   ]
  },
  {
   "cell_type": "markdown",
   "id": "95070dc1",
   "metadata": {},
   "source": [
    "**H9.** 100% dos chefes de família possuem conta digital"
   ]
  },
  {
   "cell_type": "code",
   "execution_count": 37,
   "id": "9c25a8dd",
   "metadata": {},
   "outputs": [
    {
     "name": "stdout",
     "output_type": "stream",
     "text": [
      " Falso. Apenas 17.98% dos chefes de família possuem conta em banco\n"
     ]
    }
   ],
   "source": [
    "#print(df1['relationship_with_head'].unique())\n",
    "\n",
    "hoh_total = df1[df1['relationship_with_head'] == 'Head of Household'].shape[0]\n",
    "\n",
    "hoh_yes = df1[(df1['relationship_with_head'] == 'Head of Household') & (df1['bank_account'] == 'Yes')].shape[0]\n",
    "\n",
    "percent_hoh_yes = np.round(hoh_yes/hoh_total*100, 2)\n",
    "\n",
    "print(f' Falso. Apenas {percent_hoh_yes}% dos chefes de família possuem conta em banco')"
   ]
  },
  {
   "cell_type": "markdown",
   "id": "38fc6f63",
   "metadata": {},
   "source": [
    "### 4.3. Multivariadas"
   ]
  },
  {
   "cell_type": "markdown",
   "id": "ef9dd422",
   "metadata": {},
   "source": [
    "## 5. Preparação dos Dados"
   ]
  },
  {
   "cell_type": "code",
   "execution_count": null,
   "id": "8d0a0f61",
   "metadata": {
    "ExecuteTime": {
     "end_time": "2022-05-28T21:14:07.299459Z",
     "start_time": "2022-05-28T21:14:07.293410Z"
    }
   },
   "outputs": [],
   "source": [
    "df5 = df4.copy()"
   ]
  },
  {
   "cell_type": "code",
   "execution_count": null,
   "id": "380a7385",
   "metadata": {
    "ExecuteTime": {
     "end_time": "2022-05-28T21:14:07.381094Z",
     "start_time": "2022-05-28T21:14:07.303661Z"
    }
   },
   "outputs": [
    {
     "data": {
      "text/html": [
       "<div>\n",
       "<style scoped>\n",
       "    .dataframe tbody tr th:only-of-type {\n",
       "        vertical-align: middle;\n",
       "    }\n",
       "\n",
       "    .dataframe tbody tr th {\n",
       "        vertical-align: top;\n",
       "    }\n",
       "\n",
       "    .dataframe thead th {\n",
       "        text-align: right;\n",
       "    }\n",
       "</style>\n",
       "<table border=\"1\" class=\"dataframe\">\n",
       "  <thead>\n",
       "    <tr style=\"text-align: right;\">\n",
       "      <th></th>\n",
       "      <th>country</th>\n",
       "      <th>year</th>\n",
       "      <th>uniqueid</th>\n",
       "      <th>location_type</th>\n",
       "      <th>cellphone_access</th>\n",
       "      <th>household_size</th>\n",
       "      <th>age_of_respondent</th>\n",
       "      <th>gender_of_respondent</th>\n",
       "      <th>relationship_with_head</th>\n",
       "      <th>marital_status</th>\n",
       "      <th>education_level</th>\n",
       "      <th>job_type</th>\n",
       "      <th>uid</th>\n",
       "      <th>bank_account</th>\n",
       "    </tr>\n",
       "  </thead>\n",
       "  <tbody>\n",
       "    <tr>\n",
       "      <th>0</th>\n",
       "      <td>4335</td>\n",
       "      <td>2016</td>\n",
       "      <td>uniqueid_4858</td>\n",
       "      <td>7100</td>\n",
       "      <td>8786</td>\n",
       "      <td>6</td>\n",
       "      <td>45</td>\n",
       "      <td>4860</td>\n",
       "      <td>6358</td>\n",
       "      <td>1034</td>\n",
       "      <td>6408</td>\n",
       "      <td>2732</td>\n",
       "      <td>Rwanda_uniqueid_4858</td>\n",
       "      <td>0</td>\n",
       "    </tr>\n",
       "    <tr>\n",
       "      <th>1</th>\n",
       "      <td>3288</td>\n",
       "      <td>2017</td>\n",
       "      <td>uniqueid_3015</td>\n",
       "      <td>4662</td>\n",
       "      <td>2976</td>\n",
       "      <td>4</td>\n",
       "      <td>33</td>\n",
       "      <td>6902</td>\n",
       "      <td>6358</td>\n",
       "      <td>3970</td>\n",
       "      <td>6408</td>\n",
       "      <td>3207</td>\n",
       "      <td>Tanzania_uniqueid_3015</td>\n",
       "      <td>0</td>\n",
       "    </tr>\n",
       "    <tr>\n",
       "      <th>2</th>\n",
       "      <td>4335</td>\n",
       "      <td>2016</td>\n",
       "      <td>uniqueid_103</td>\n",
       "      <td>7100</td>\n",
       "      <td>8786</td>\n",
       "      <td>7</td>\n",
       "      <td>43</td>\n",
       "      <td>4860</td>\n",
       "      <td>6358</td>\n",
       "      <td>5433</td>\n",
       "      <td>2129</td>\n",
       "      <td>2732</td>\n",
       "      <td>Rwanda_uniqueid_103</td>\n",
       "      <td>0</td>\n",
       "    </tr>\n",
       "    <tr>\n",
       "      <th>3</th>\n",
       "      <td>4335</td>\n",
       "      <td>2016</td>\n",
       "      <td>uniqueid_4582</td>\n",
       "      <td>7100</td>\n",
       "      <td>2976</td>\n",
       "      <td>6</td>\n",
       "      <td>35</td>\n",
       "      <td>6902</td>\n",
       "      <td>6358</td>\n",
       "      <td>5433</td>\n",
       "      <td>6408</td>\n",
       "      <td>2732</td>\n",
       "      <td>Rwanda_uniqueid_4582</td>\n",
       "      <td>0</td>\n",
       "    </tr>\n",
       "    <tr>\n",
       "      <th>4</th>\n",
       "      <td>3288</td>\n",
       "      <td>2017</td>\n",
       "      <td>uniqueid_2854</td>\n",
       "      <td>4662</td>\n",
       "      <td>8786</td>\n",
       "      <td>2</td>\n",
       "      <td>30</td>\n",
       "      <td>4860</td>\n",
       "      <td>6358</td>\n",
       "      <td>3970</td>\n",
       "      <td>6408</td>\n",
       "      <td>2788</td>\n",
       "      <td>Tanzania_uniqueid_2854</td>\n",
       "      <td>0</td>\n",
       "    </tr>\n",
       "  </tbody>\n",
       "</table>\n",
       "</div>"
      ],
      "text/plain": [
       "   country  year       uniqueid  location_type  cellphone_access  household_size  age_of_respondent  gender_of_respondent  relationship_with_head  marital_status  education_level  job_type                     uid  bank_account\n",
       "0     4335  2016  uniqueid_4858           7100              8786               6                 45                  4860                    6358            1034             6408      2732    Rwanda_uniqueid_4858             0\n",
       "1     3288  2017  uniqueid_3015           4662              2976               4                 33                  6902                    6358            3970             6408      3207  Tanzania_uniqueid_3015             0\n",
       "2     4335  2016   uniqueid_103           7100              8786               7                 43                  4860                    6358            5433             2129      2732     Rwanda_uniqueid_103             0\n",
       "3     4335  2016  uniqueid_4582           7100              2976               6                 35                  6902                    6358            5433             6408      2732    Rwanda_uniqueid_4582             0\n",
       "4     3288  2017  uniqueid_2854           4662              8786               2                 30                  4860                    6358            3970             6408      2788  Tanzania_uniqueid_2854             0"
      ]
     },
     "execution_count": 123,
     "metadata": {},
     "output_type": "execute_result"
    }
   ],
   "source": [
    "# análise de frequência\n",
    "\n",
    "# country\n",
    "df5['country'] = freq_analysis(df5, 'country')\n",
    "\n",
    "# location_type\n",
    "df5['location_type'] = freq_analysis(df5, 'location_type')\n",
    "\n",
    "# cellphone_access\n",
    "df5['cellphone_access'] = freq_analysis(df5, 'cellphone_access')\n",
    "\n",
    "# gender_of_respondent\n",
    "df5['gender_of_respondent'] = freq_analysis(df5, 'gender_of_respondent')\n",
    "\n",
    "# relationship_with_head\n",
    "df5['relationship_with_head'] = freq_analysis(df5, 'relationship_with_head')\n",
    "\n",
    "# marital_status\n",
    "df5['marital_status'] = freq_analysis(df5, 'marital_status')\n",
    "\n",
    "# education_level\n",
    "df5['education_level'] = freq_analysis(df5, 'education_level')\n",
    "\n",
    "# job_type\n",
    "df5['job_type'] = freq_analysis(df5, 'job_type')\n",
    "\n",
    "# bank_account\n",
    "df5['bank_account'] = df5['bank_account'].apply(lambda x: 1 if x == 'Yes' else 0)\n",
    "\n",
    "df5.head()"
   ]
  },
  {
   "cell_type": "code",
   "execution_count": null,
   "id": "2e415576-4836-4689-a324-018f22117d80",
   "metadata": {
    "ExecuteTime": {
     "end_time": "2022-05-28T21:14:07.427873Z",
     "start_time": "2022-05-28T21:14:07.385480Z"
    }
   },
   "outputs": [],
   "source": [
    "df5['country'] = pp.MinMaxScaler().fit_transform(df5[['country']].values)\n",
    "df5['year'] = pp.MinMaxScaler().fit_transform(df5[['year']].values)\n",
    "df5['location_type'] = pp.MinMaxScaler().fit_transform(df5[['location_type']].values)\n",
    "df5['cellphone_access'] = pp.MinMaxScaler().fit_transform(df5[['cellphone_access']].values)\n",
    "df5['household_size'] = pp.MinMaxScaler().fit_transform(df5[['household_size']].values)\n",
    "df5['age_of_respondent'] = pp.MinMaxScaler().fit_transform(df5[['age_of_respondent']].values)\n",
    "df5['gender_of_respondent'] = pp.MinMaxScaler().fit_transform(df5[['gender_of_respondent']].values)\n",
    "df5['relationship_with_head'] = pp.MinMaxScaler().fit_transform(df5[['relationship_with_head']].values)\n",
    "df5['marital_status'] = pp.MinMaxScaler().fit_transform(df5[['marital_status']].values)\n",
    "df5['education_level'] = pp.MinMaxScaler().fit_transform(df5[['education_level']].values)\n",
    "df5['job_type'] = pp.MinMaxScaler().fit_transform(df5[['job_type']].values)"
   ]
  },
  {
   "cell_type": "markdown",
   "id": "6ea4a32c",
   "metadata": {},
   "source": [
    "### 5.1. Reescala dos Dados"
   ]
  },
  {
   "cell_type": "markdown",
   "id": "ce70d8f1",
   "metadata": {},
   "source": [
    "## 6. Seleção de Features"
   ]
  },
  {
   "cell_type": "code",
   "execution_count": null,
   "id": "5cbb50da",
   "metadata": {
    "ExecuteTime": {
     "end_time": "2022-05-28T21:14:07.438719Z",
     "start_time": "2022-05-28T21:14:07.432517Z"
    }
   },
   "outputs": [],
   "source": [
    "df6 = df5.copy()"
   ]
  },
  {
   "cell_type": "markdown",
   "id": "9c9d749c",
   "metadata": {},
   "source": [
    "### 6.1. Separação de Treino e Teste"
   ]
  },
  {
   "cell_type": "code",
   "execution_count": null,
   "id": "68026fbc",
   "metadata": {
    "ExecuteTime": {
     "end_time": "2022-05-28T21:14:07.473397Z",
     "start_time": "2022-05-28T21:14:07.441536Z"
    }
   },
   "outputs": [
    {
     "data": {
      "text/html": [
       "<div>\n",
       "<style scoped>\n",
       "    .dataframe tbody tr th:only-of-type {\n",
       "        vertical-align: middle;\n",
       "    }\n",
       "\n",
       "    .dataframe tbody tr th {\n",
       "        vertical-align: top;\n",
       "    }\n",
       "\n",
       "    .dataframe thead th {\n",
       "        text-align: right;\n",
       "    }\n",
       "</style>\n",
       "<table border=\"1\" class=\"dataframe\">\n",
       "  <thead>\n",
       "    <tr style=\"text-align: right;\">\n",
       "      <th></th>\n",
       "      <th>country</th>\n",
       "      <th>year</th>\n",
       "      <th>uniqueid</th>\n",
       "      <th>location_type</th>\n",
       "      <th>cellphone_access</th>\n",
       "      <th>household_size</th>\n",
       "      <th>age_of_respondent</th>\n",
       "      <th>gender_of_respondent</th>\n",
       "      <th>relationship_with_head</th>\n",
       "      <th>marital_status</th>\n",
       "      <th>education_level</th>\n",
       "      <th>job_type</th>\n",
       "      <th>uid</th>\n",
       "      <th>bank_account</th>\n",
       "    </tr>\n",
       "  </thead>\n",
       "  <tbody>\n",
       "    <tr>\n",
       "      <th>0</th>\n",
       "      <td>1.000000</td>\n",
       "      <td>0.0</td>\n",
       "      <td>uniqueid_4858</td>\n",
       "      <td>1.0</td>\n",
       "      <td>1.0</td>\n",
       "      <td>0.25</td>\n",
       "      <td>0.345238</td>\n",
       "      <td>0.0</td>\n",
       "      <td>1.0</td>\n",
       "      <td>0.189722</td>\n",
       "      <td>1.00000</td>\n",
       "      <td>0.849111</td>\n",
       "      <td>Rwanda_uniqueid_4858</td>\n",
       "      <td>0</td>\n",
       "    </tr>\n",
       "    <tr>\n",
       "      <th>1</th>\n",
       "      <td>0.677648</td>\n",
       "      <td>0.5</td>\n",
       "      <td>uniqueid_3015</td>\n",
       "      <td>0.0</td>\n",
       "      <td>0.0</td>\n",
       "      <td>0.15</td>\n",
       "      <td>0.202381</td>\n",
       "      <td>1.0</td>\n",
       "      <td>1.0</td>\n",
       "      <td>0.730521</td>\n",
       "      <td>1.00000</td>\n",
       "      <td>1.000000</td>\n",
       "      <td>Tanzania_uniqueid_3015</td>\n",
       "      <td>0</td>\n",
       "    </tr>\n",
       "    <tr>\n",
       "      <th>2</th>\n",
       "      <td>1.000000</td>\n",
       "      <td>0.0</td>\n",
       "      <td>uniqueid_103</td>\n",
       "      <td>1.0</td>\n",
       "      <td>1.0</td>\n",
       "      <td>0.30</td>\n",
       "      <td>0.321429</td>\n",
       "      <td>0.0</td>\n",
       "      <td>1.0</td>\n",
       "      <td>1.000000</td>\n",
       "      <td>0.33015</td>\n",
       "      <td>0.849111</td>\n",
       "      <td>Rwanda_uniqueid_103</td>\n",
       "      <td>0</td>\n",
       "    </tr>\n",
       "    <tr>\n",
       "      <th>3</th>\n",
       "      <td>1.000000</td>\n",
       "      <td>0.0</td>\n",
       "      <td>uniqueid_4582</td>\n",
       "      <td>1.0</td>\n",
       "      <td>0.0</td>\n",
       "      <td>0.25</td>\n",
       "      <td>0.226190</td>\n",
       "      <td>1.0</td>\n",
       "      <td>1.0</td>\n",
       "      <td>1.000000</td>\n",
       "      <td>1.00000</td>\n",
       "      <td>0.849111</td>\n",
       "      <td>Rwanda_uniqueid_4582</td>\n",
       "      <td>0</td>\n",
       "    </tr>\n",
       "    <tr>\n",
       "      <th>4</th>\n",
       "      <td>0.677648</td>\n",
       "      <td>0.5</td>\n",
       "      <td>uniqueid_2854</td>\n",
       "      <td>0.0</td>\n",
       "      <td>1.0</td>\n",
       "      <td>0.05</td>\n",
       "      <td>0.166667</td>\n",
       "      <td>0.0</td>\n",
       "      <td>1.0</td>\n",
       "      <td>0.730521</td>\n",
       "      <td>1.00000</td>\n",
       "      <td>0.866900</td>\n",
       "      <td>Tanzania_uniqueid_2854</td>\n",
       "      <td>0</td>\n",
       "    </tr>\n",
       "  </tbody>\n",
       "</table>\n",
       "</div>"
      ],
      "text/plain": [
       "    country  year       uniqueid  location_type  cellphone_access  household_size  age_of_respondent  gender_of_respondent  relationship_with_head  marital_status  education_level  job_type                     uid  bank_account\n",
       "0  1.000000   0.0  uniqueid_4858            1.0               1.0            0.25           0.345238                   0.0                     1.0        0.189722          1.00000  0.849111    Rwanda_uniqueid_4858             0\n",
       "1  0.677648   0.5  uniqueid_3015            0.0               0.0            0.15           0.202381                   1.0                     1.0        0.730521          1.00000  1.000000  Tanzania_uniqueid_3015             0\n",
       "2  1.000000   0.0   uniqueid_103            1.0               1.0            0.30           0.321429                   0.0                     1.0        1.000000          0.33015  0.849111     Rwanda_uniqueid_103             0\n",
       "3  1.000000   0.0  uniqueid_4582            1.0               0.0            0.25           0.226190                   1.0                     1.0        1.000000          1.00000  0.849111    Rwanda_uniqueid_4582             0\n",
       "4  0.677648   0.5  uniqueid_2854            0.0               1.0            0.05           0.166667                   0.0                     1.0        0.730521          1.00000  0.866900  Tanzania_uniqueid_2854             0"
      ]
     },
     "execution_count": 126,
     "metadata": {},
     "output_type": "execute_result"
    }
   ],
   "source": [
    "df6.head()"
   ]
  },
  {
   "cell_type": "code",
   "execution_count": null,
   "id": "31a51331",
   "metadata": {
    "ExecuteTime": {
     "end_time": "2022-05-28T21:14:07.491086Z",
     "start_time": "2022-05-28T21:14:07.478018Z"
    }
   },
   "outputs": [],
   "source": [
    "X = df6.drop(['uniqueid','uid','bank_account'],axis=1)\n",
    "y = df6['bank_account']\n",
    "\n",
    "x_train, x_test, y_train, y_test = ms.train_test_split(X, y, test_size=0.3, random_state=42)"
   ]
  },
  {
   "cell_type": "markdown",
   "id": "7132a5b0",
   "metadata": {},
   "source": [
    "## 7. Construção do Modelo"
   ]
  },
  {
   "cell_type": "code",
   "execution_count": null,
   "id": "2b32be07",
   "metadata": {
    "ExecuteTime": {
     "end_time": "2022-05-28T21:14:07.500617Z",
     "start_time": "2022-05-28T21:14:07.496504Z"
    }
   },
   "outputs": [],
   "source": [
    "score_list = {}\n",
    "models_f1 = {}\n",
    "\n",
    "k_fold = 10"
   ]
  },
  {
   "cell_type": "markdown",
   "id": "78377f4a",
   "metadata": {
    "ExecuteTime": {
     "end_time": "2022-05-28T16:11:32.634627Z",
     "start_time": "2022-05-28T16:11:32.611107Z"
    }
   },
   "source": [
    "### 7.1. Random Forest Classifier"
   ]
  },
  {
   "cell_type": "code",
   "execution_count": null,
   "id": "074beb9b",
   "metadata": {
    "ExecuteTime": {
     "end_time": "2022-05-28T21:14:08.231997Z",
     "start_time": "2022-05-28T21:14:07.504270Z"
    }
   },
   "outputs": [],
   "source": [
    "# criar o modelo\n",
    "rfc_model = ensemble.RandomForestClassifier(random_state=42)\n",
    "\n",
    "# treinar o modelo\n",
    "rfc_model.fit(x_train, y_train)\n",
    "\n",
    "# fazer a predição\n",
    "yhat_rfc = rfc_model.predict(x_test)\n",
    "\n",
    "# calcula a performance\n",
    "models_f1['Random Forest'] = metrics.f1_score(y_test, yhat_rfc)"
   ]
  },
  {
   "cell_type": "code",
   "execution_count": null,
   "id": "376f17fa-8303-4d8b-b6da-7e606ce65778",
   "metadata": {
    "ExecuteTime": {
     "end_time": "2022-05-28T21:14:16.019507Z",
     "start_time": "2022-05-28T21:14:08.235612Z"
    }
   },
   "outputs": [],
   "source": [
    "score = ms.cross_val_score(rfc_model,X,y,scoring='f1',cv=k_fold)\n",
    "score_list['Random Forest'] = np.mean(score)"
   ]
  },
  {
   "cell_type": "markdown",
   "id": "73f0b3d1-85ca-49bc-80c2-a599d7acbe65",
   "metadata": {},
   "source": [
    "## 7.2 Logistic Regression"
   ]
  },
  {
   "cell_type": "code",
   "execution_count": null,
   "id": "c37040dc-0c36-4bd0-af0b-ab79a83738cb",
   "metadata": {
    "ExecuteTime": {
     "end_time": "2022-05-28T21:14:16.079576Z",
     "start_time": "2022-05-28T21:14:16.025046Z"
    }
   },
   "outputs": [],
   "source": [
    "# criar o modelo\n",
    "logistic_model = linear_model.LogisticRegression()\n",
    "\n",
    "# treinar o modelo\n",
    "logistic_model.fit(x_train, y_train)\n",
    "\n",
    "# fazer a predição\n",
    "yhat_logistic = logistic_model.predict(x_test)\n",
    "\n",
    "# calcula a performance\n",
    "models_f1['Logistic Regression'] = metrics.f1_score(y_test, yhat_logistic)"
   ]
  },
  {
   "cell_type": "code",
   "execution_count": null,
   "id": "83a2f2ca-846d-4d56-a19d-fe32a56b4235",
   "metadata": {
    "ExecuteTime": {
     "end_time": "2022-05-28T21:14:16.950671Z",
     "start_time": "2022-05-28T21:14:16.082767Z"
    }
   },
   "outputs": [],
   "source": [
    "score = ms.cross_val_score(logistic_model,X,y,scoring='f1',cv=k_fold)\n",
    "score_list['Logistic Regression']=np.mean(score)"
   ]
  },
  {
   "cell_type": "markdown",
   "id": "91f46092-ca6e-4e5b-923f-b48e45aa8be9",
   "metadata": {},
   "source": [
    "## 7.3 Support Vector Machine"
   ]
  },
  {
   "cell_type": "code",
   "execution_count": null,
   "id": "1c46071c-03ad-4626-8328-01b5e8668ec5",
   "metadata": {
    "ExecuteTime": {
     "end_time": "2022-05-28T21:14:18.653023Z",
     "start_time": "2022-05-28T21:14:16.953980Z"
    }
   },
   "outputs": [],
   "source": [
    "# criar o modelo\n",
    "svm_model = SVC()\n",
    "\n",
    "# treinar o modelo\n",
    "svm_model.fit(x_train, y_train)\n",
    "\n",
    "# fazer a predição\n",
    "yhat_svm = svm_model.predict(x_test)\n",
    "\n",
    "# calcula a performance\n",
    "models_f1['SVM'] = metrics.f1_score(y_test, yhat_svm)"
   ]
  },
  {
   "cell_type": "code",
   "execution_count": null,
   "id": "5f74fddc-167c-4739-b970-dedbcfe6d8ab",
   "metadata": {
    "ExecuteTime": {
     "end_time": "2022-05-28T21:14:42.918912Z",
     "start_time": "2022-05-28T21:14:18.655959Z"
    }
   },
   "outputs": [],
   "source": [
    "score = ms.cross_val_score(svm_model,X,y,scoring='f1',cv=k_fold)\n",
    "score_list['SVM']=np.mean(score)"
   ]
  },
  {
   "cell_type": "markdown",
   "id": "21449f80-0d56-4957-8ffb-0905157431b5",
   "metadata": {},
   "source": [
    "## 7.4 KNN"
   ]
  },
  {
   "cell_type": "code",
   "execution_count": null,
   "id": "09163d12-faa6-4e29-833a-c1c6a85c6a83",
   "metadata": {
    "ExecuteTime": {
     "end_time": "2022-05-28T21:14:43.178602Z",
     "start_time": "2022-05-28T21:14:42.921652Z"
    }
   },
   "outputs": [],
   "source": [
    "# criar o modelo\n",
    "knn_model = KNeighborsClassifier()\n",
    "\n",
    "# treinar o modelo\n",
    "knn_model.fit(x_train, y_train)\n",
    "\n",
    "# fazer a predição\n",
    "yhat_knn = knn_model.predict(x_test)\n",
    "\n",
    "# calcula a performance\n",
    "models_f1['KNN'] = metrics.f1_score(y_test, yhat_knn)"
   ]
  },
  {
   "cell_type": "code",
   "execution_count": null,
   "id": "a6fdcdf5-5cea-4475-a3f6-7d73daf2258f",
   "metadata": {
    "ExecuteTime": {
     "end_time": "2022-05-28T21:14:44.251150Z",
     "start_time": "2022-05-28T21:14:43.181116Z"
    }
   },
   "outputs": [],
   "source": [
    "score = ms.cross_val_score(knn_model,X,y,scoring='f1',cv=k_fold)\n",
    "score_list['KNN']=np.mean(score)"
   ]
  },
  {
   "cell_type": "markdown",
   "id": "023f8190",
   "metadata": {},
   "source": [
    "## 8. Avaliação do Modelo"
   ]
  },
  {
   "cell_type": "code",
   "execution_count": null,
   "id": "173fefec",
   "metadata": {
    "ExecuteTime": {
     "end_time": "2022-05-28T21:14:44.259747Z",
     "start_time": "2022-05-28T21:14:44.253195Z"
    }
   },
   "outputs": [
    {
     "data": {
      "text/plain": [
       "{'Random Forest': 0.4309927360774819,\n",
       " 'Logistic Regression': 0.30387596899224806,\n",
       " 'SVM': 0.2916666666666667,\n",
       " 'KNN': 0.4168797953964194}"
      ]
     },
     "execution_count": 137,
     "metadata": {},
     "output_type": "execute_result"
    }
   ],
   "source": [
    "models_f1"
   ]
  },
  {
   "cell_type": "code",
   "execution_count": null,
   "id": "5716e57d-fc0f-4cef-8fbf-361ae7e2baf6",
   "metadata": {
    "ExecuteTime": {
     "end_time": "2022-05-28T21:14:44.267209Z",
     "start_time": "2022-05-28T21:14:44.262819Z"
    }
   },
   "outputs": [
    {
     "data": {
      "text/plain": [
       "{'Random Forest': 0.43730310917946413,\n",
       " 'Logistic Regression': 0.3169443271918454,\n",
       " 'SVM': 0.3264722477786753,\n",
       " 'KNN': 0.42815759142999543}"
      ]
     },
     "execution_count": 138,
     "metadata": {},
     "output_type": "execute_result"
    }
   ],
   "source": [
    "score_list"
   ]
  },
  {
   "cell_type": "markdown",
   "id": "987f37f4",
   "metadata": {},
   "source": [
    "## 9. Fine Tunning"
   ]
  },
  {
   "cell_type": "markdown",
   "id": "be53c79e",
   "metadata": {},
   "source": [
    "## 10. Output da Submissão"
   ]
  },
  {
   "cell_type": "code",
   "execution_count": null,
   "id": "31f79ff2",
   "metadata": {
    "ExecuteTime": {
     "end_time": "2022-05-28T21:14:44.298351Z",
     "start_time": "2022-05-28T21:14:44.270738Z"
    }
   },
   "outputs": [
    {
     "data": {
      "text/html": [
       "<div>\n",
       "<style scoped>\n",
       "    .dataframe tbody tr th:only-of-type {\n",
       "        vertical-align: middle;\n",
       "    }\n",
       "\n",
       "    .dataframe tbody tr th {\n",
       "        vertical-align: top;\n",
       "    }\n",
       "\n",
       "    .dataframe thead th {\n",
       "        text-align: right;\n",
       "    }\n",
       "</style>\n",
       "<table border=\"1\" class=\"dataframe\">\n",
       "  <thead>\n",
       "    <tr style=\"text-align: right;\">\n",
       "      <th></th>\n",
       "      <th>country</th>\n",
       "      <th>year</th>\n",
       "      <th>location_type</th>\n",
       "      <th>cellphone_access</th>\n",
       "      <th>household_size</th>\n",
       "      <th>age_of_respondent</th>\n",
       "      <th>gender_of_respondent</th>\n",
       "      <th>relationship_with_head</th>\n",
       "      <th>marital_status</th>\n",
       "      <th>education_level</th>\n",
       "      <th>job_type</th>\n",
       "    </tr>\n",
       "  </thead>\n",
       "  <tbody>\n",
       "    <tr>\n",
       "      <th>3717</th>\n",
       "      <td>1.000000</td>\n",
       "      <td>0.0</td>\n",
       "      <td>1.0</td>\n",
       "      <td>1.0</td>\n",
       "      <td>0.25</td>\n",
       "      <td>0.380952</td>\n",
       "      <td>1.0</td>\n",
       "      <td>0.510051</td>\n",
       "      <td>1.000000</td>\n",
       "      <td>0.000000</td>\n",
       "      <td>0.866900</td>\n",
       "    </tr>\n",
       "    <tr>\n",
       "      <th>11036</th>\n",
       "      <td>1.000000</td>\n",
       "      <td>0.0</td>\n",
       "      <td>0.0</td>\n",
       "      <td>0.0</td>\n",
       "      <td>0.10</td>\n",
       "      <td>0.130952</td>\n",
       "      <td>1.0</td>\n",
       "      <td>0.510051</td>\n",
       "      <td>1.000000</td>\n",
       "      <td>0.347527</td>\n",
       "      <td>0.144536</td>\n",
       "    </tr>\n",
       "    <tr>\n",
       "      <th>2088</th>\n",
       "      <td>0.677648</td>\n",
       "      <td>0.5</td>\n",
       "      <td>0.0</td>\n",
       "      <td>0.0</td>\n",
       "      <td>0.15</td>\n",
       "      <td>0.190476</td>\n",
       "      <td>1.0</td>\n",
       "      <td>0.510051</td>\n",
       "      <td>0.730521</td>\n",
       "      <td>1.000000</td>\n",
       "      <td>0.079733</td>\n",
       "    </tr>\n",
       "    <tr>\n",
       "      <th>1399</th>\n",
       "      <td>0.000000</td>\n",
       "      <td>1.0</td>\n",
       "      <td>1.0</td>\n",
       "      <td>0.0</td>\n",
       "      <td>0.10</td>\n",
       "      <td>0.035714</td>\n",
       "      <td>1.0</td>\n",
       "      <td>0.510051</td>\n",
       "      <td>1.000000</td>\n",
       "      <td>1.000000</td>\n",
       "      <td>1.000000</td>\n",
       "    </tr>\n",
       "    <tr>\n",
       "      <th>1178</th>\n",
       "      <td>0.677648</td>\n",
       "      <td>0.5</td>\n",
       "      <td>0.0</td>\n",
       "      <td>1.0</td>\n",
       "      <td>0.05</td>\n",
       "      <td>0.238095</td>\n",
       "      <td>0.0</td>\n",
       "      <td>1.000000</td>\n",
       "      <td>0.730521</td>\n",
       "      <td>1.000000</td>\n",
       "      <td>1.000000</td>\n",
       "    </tr>\n",
       "  </tbody>\n",
       "</table>\n",
       "</div>"
      ],
      "text/plain": [
       "        country  year  location_type  cellphone_access  household_size  age_of_respondent  gender_of_respondent  relationship_with_head  marital_status  education_level  job_type\n",
       "3717   1.000000   0.0            1.0               1.0            0.25           0.380952                   1.0                0.510051        1.000000         0.000000  0.866900\n",
       "11036  1.000000   0.0            0.0               0.0            0.10           0.130952                   1.0                0.510051        1.000000         0.347527  0.144536\n",
       "2088   0.677648   0.5            0.0               0.0            0.15           0.190476                   1.0                0.510051        0.730521         1.000000  0.079733\n",
       "1399   0.000000   1.0            1.0               0.0            0.10           0.035714                   1.0                0.510051        1.000000         1.000000  1.000000\n",
       "1178   0.677648   0.5            0.0               1.0            0.05           0.238095                   0.0                1.000000        0.730521         1.000000  1.000000"
      ]
     },
     "execution_count": 139,
     "metadata": {},
     "output_type": "execute_result"
    }
   ],
   "source": [
    "x_test.head()"
   ]
  },
  {
   "cell_type": "code",
   "execution_count": null,
   "id": "998a30b9",
   "metadata": {
    "ExecuteTime": {
     "end_time": "2022-05-28T21:14:44.308768Z",
     "start_time": "2022-05-28T21:14:44.302298Z"
    }
   },
   "outputs": [
    {
     "data": {
      "text/plain": [
       "3717     0\n",
       "11036    0\n",
       "2088     0\n",
       "1399     0\n",
       "1178     0\n",
       "Name: bank_account, dtype: int64"
      ]
     },
     "execution_count": 140,
     "metadata": {},
     "output_type": "execute_result"
    }
   ],
   "source": [
    "y_test[0:5]"
   ]
  }
 ],
 "metadata": {
  "interpreter": {
   "hash": "e41207318bfacca7c196b8c6fe2c2e3bd16d2afa20f24ed32b4972984b5e4447"
  },
  "kernelspec": {
   "display_name": "Python 3.10.4 ('hackday_01')",
   "language": "python",
   "name": "python3"
  },
  "language_info": {
   "codemirror_mode": {
    "name": "ipython",
    "version": 3
   },
   "file_extension": ".py",
   "mimetype": "text/x-python",
   "name": "python",
   "nbconvert_exporter": "python",
   "pygments_lexer": "ipython3",
   "version": "3.10.4"
  }
 },
 "nbformat": 4,
 "nbformat_minor": 5
}
