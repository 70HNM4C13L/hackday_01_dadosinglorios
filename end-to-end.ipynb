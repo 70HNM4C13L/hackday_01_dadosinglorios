{
 "cells": [
  {
   "cell_type": "markdown",
   "id": "25b39340",
   "metadata": {},
   "source": [
    "# <font color=\"red\">Hackday - Dados Inglórios</font>"
   ]
  },
  {
   "cell_type": "markdown",
   "id": "494e5b2f",
   "metadata": {},
   "source": [
    "## Planejamento da Solução"
   ]
  },
  {
   "cell_type": "markdown",
   "id": "5c6c98f1",
   "metadata": {},
   "source": [
    "### Input"
   ]
  },
  {
   "cell_type": "markdown",
   "id": "839f0e29",
   "metadata": {},
   "source": [
    "**Problema de Negócio**"
   ]
  },
  {
   "cell_type": "markdown",
   "id": "fd883f40",
   "metadata": {},
   "source": [
    "A inclusão financeira continua a ser um dos principais obstáculos ao desenvolvimento econômico e humano na África. Por exemplo, no Quênia, Ruanda, Tanzânia e Uganda, apenas 9,1 milhões de adultos (14% dos adultos), têm acesso ou usam uma conta bancária comercial.\n",
    "\n",
    "Em 2008, o nível de inclusão financeira na África Subsaariana era de pouco mais de 23%. Em 2018, esse número quase dobrou. No Togo, Mazamesso Assih, ministro de finanças, coordena uma estratégia de inclusão financeira com bancos parceiros. Ele afirma que garantir acesso a serviços financeiros básicos para a população, é fundamental para impulsionar a economia Africana.\n",
    "\n",
    "Em 2022, conforme destacado no último relatório do Banco Central da África Ocidental, atingiu-se uma das mais altas taxas de inclusão financeira da região, próxima de 82%. Uma parcela significativa desse aumento veio do aumento dos serviços financeiros digitais.\n",
    "\n",
    "Assih afirma também, que existem três razões principais pelas quais as nações africanas devem apostar na inclusão financeira:\n",
    "\n",
    " 1. Tornar os serviços financeiros mais acessíveis promove o empoderamento das pessoas mais vulneráveis, especialmente as mulheres.\n",
    " 2. Combater redes criminosas, passar de uma economia exclusivamente monetária para uma infraestrutura financeira digital torna mais fácil para as autoridades rastrear transações e lidar com contrabandistas e traficantes.\n",
    " 3. impulsionará a conectividade dos setores público e privado para um crescimento sustentável, apoiando as start-ups africanas.\n",
    " \n",
    "O objetivo desta competição é criar um modelo de aprendizado de máquina para prever quais indivíduos vão ou não utilizar uma conta bancária. Os modelos e soluções desenvolvidos devem fornecer uma indicação do estado da inclusão financeira no Quênia, Ruanda, Tanzânia e Uganda.\n",
    "\n"
   ]
  },
  {
   "cell_type": "markdown",
   "id": "8fd40c76",
   "metadata": {},
   "source": [
    "**Dados**"
   ]
  },
  {
   "cell_type": "markdown",
   "id": "a79b7594",
   "metadata": {},
   "source": [
    "Os dados necessários podem ser encontrados no [repositório da atividade](https://www.kaggle.com/c/inclusao-financeira-na-africa). No arquivo train.csv você encontrará:\n",
    "\n",
    "|Feature|Descrição|\n",
    "|:------|:--------|\n",
    "|country| Pais de Origem.\n",
    "|year| Ano da Inclusão\n",
    "|uniqueid| Id do Usuário.\n",
    "|bank_account| Possui ou Não a Conta no Banco.\n",
    "|location_type| Tipo de Localidade (Rural...)\n",
    "|cellphone_access| Possui ou Não Celular.\n",
    "|household_size| Tamanho da Casa.\n",
    "|age_of_respondent| Idade do Usuário.\n",
    "|gender_of_respondent| Gênero do Usuário.\n",
    "|relationship_with_head| Status com o Dono da Conta.\n",
    "|marital_status| Situação Civil.\n",
    "|education_level| Nível de Educação.\n",
    "|job_type| Tipo de Trabalho."
   ]
  },
  {
   "cell_type": "markdown",
   "id": "ff1e9f2a",
   "metadata": {},
   "source": [
    "### Output"
   ]
  },
  {
   "cell_type": "markdown",
   "id": "fa286382",
   "metadata": {},
   "source": [
    "Um arquivo CSV com a previsão do modelo dizendo quais clientes abrirão uma conta digital em duas colunas:  \n",
    "\n",
    "|uid|\tbank_account|\n",
    "|:--|:--------------|\n",
    "|Rwanda_uniqueid_625|\tNo|\n",
    "|Rwanda_uniqueid_1561|\tNo|\n",
    "|Rwanda_uniqueid_4806|\tNo|\n",
    "|Tanzania_uniqueid_4902|\tYes|\n",
    "|Rwanda_uniqueid_980|\tNo|\n",
    "|Rwanda_uniqueid_7043|\tNo|"
   ]
  },
  {
   "cell_type": "markdown",
   "id": "a5a567b8",
   "metadata": {},
   "source": [
    "### Tasks"
   ]
  },
  {
   "cell_type": "markdown",
   "id": "49f9b728",
   "metadata": {},
   "source": [
    "- Descrição dos Dados\n",
    "    - Renomear colunas\n",
    "    - Checar dimenões\n",
    "    - Checar tipos\n",
    "    - Alterar tipos\n",
    "    - Checar vazios\n",
    "    - Preencher os vazios\n",
    "    - Descrições Estatísticas\n",
    "\n",
    "- Feature Engineering\n",
    "    - Mapa de hipóteses\n",
    "    - Criação de hipóteses\n",
    "- Seleção de features (Filtro)\n",
    "- EDA\n",
    "    - Univariada\n",
    "    - Bivariada (teste de hipóteses)\n",
    "    - Multivariadas\n",
    "- Preparação dos dados\n",
    "    - Rescala das features\n",
    "- Seleção de features\n",
    "- Construção do modelo\n",
    "    - modelos de classificação\n",
    "    - guideline\n",
    "- Avaliação do modelo\n",
    "- Fine Tuning\n",
    "- CSV Final"
   ]
  },
  {
   "cell_type": "markdown",
   "id": "054d62ec",
   "metadata": {},
   "source": [
    "## 0. Settings"
   ]
  },
  {
   "cell_type": "markdown",
   "id": "4f046d4a",
   "metadata": {},
   "source": [
    "### 0.1. Imports"
   ]
  },
  {
   "cell_type": "code",
   "execution_count": 1,
   "id": "ebb8fc54",
   "metadata": {
    "ExecuteTime": {
     "end_time": "2022-05-28T18:31:45.125780Z",
     "start_time": "2022-05-28T18:31:43.573964Z"
    }
   },
   "outputs": [],
   "source": [
    "# manipulação de dados\n",
    "import pandas as pd\n",
    "import numpy as np\n",
    "\n",
    "# visualização de dados\n",
    "import matplotlib.pyplot as plt\n",
    "import seaborn as sns\n",
    "\n",
    "from IPython.display import HTML\n",
    "\n",
    "# scikit-learn\n",
    "from sklearn import model_selection as ms\n",
    "from sklearn import ensemble\n",
    "from sklearn import metrics"
   ]
  },
  {
   "cell_type": "markdown",
   "id": "e5ff7771",
   "metadata": {},
   "source": [
    "### 0.2. Helper Functions"
   ]
  },
  {
   "cell_type": "code",
   "execution_count": 2,
   "id": "a1f79abd",
   "metadata": {
    "ExecuteTime": {
     "end_time": "2022-05-28T18:31:45.159795Z",
     "start_time": "2022-05-28T18:31:45.128597Z"
    }
   },
   "outputs": [
    {
     "name": "stdout",
     "output_type": "stream",
     "text": [
      "%pylab is deprecated, use %matplotlib inline and import the required libraries.\n",
      "Populating the interactive namespace from numpy and matplotlib\n"
     ]
    },
    {
     "data": {
      "text/html": [
       "<style>.container {width:100% !important;}</style>"
      ],
      "text/plain": [
       "<IPython.core.display.HTML object>"
      ]
     },
     "metadata": {},
     "output_type": "display_data"
    }
   ],
   "source": [
    "def jupyter_settings():\n",
    "    %matplotlib inline\n",
    "    %pylab inline\n",
    "    \n",
    "    plt.style.use('bmh')\n",
    "    plt.rcParams['figure.figsize'] = [25, 12]\n",
    "    plt.rcParams['font.size'] = 24\n",
    "    \n",
    "    display(HTML('<style>.container {width:100% !important;}</style>'))\n",
    "    pd.options.display.max_columns = None\n",
    "    pd.options.display.max_rows = None\n",
    "    pd.set_option('display.expand_frame_repr', False)\n",
    "    \n",
    "    sns.set()\n",
    "\n",
    "jupyter_settings()"
   ]
  },
  {
   "cell_type": "markdown",
   "id": "c1424f31",
   "metadata": {},
   "source": [
    "### 0.3. Data Loading"
   ]
  },
  {
   "cell_type": "code",
   "execution_count": 3,
   "id": "01cb76bb",
   "metadata": {
    "ExecuteTime": {
     "end_time": "2022-05-28T18:31:45.222780Z",
     "start_time": "2022-05-28T18:31:45.161915Z"
    }
   },
   "outputs": [
    {
     "data": {
      "text/html": [
       "<div>\n",
       "<style scoped>\n",
       "    .dataframe tbody tr th:only-of-type {\n",
       "        vertical-align: middle;\n",
       "    }\n",
       "\n",
       "    .dataframe tbody tr th {\n",
       "        vertical-align: top;\n",
       "    }\n",
       "\n",
       "    .dataframe thead th {\n",
       "        text-align: right;\n",
       "    }\n",
       "</style>\n",
       "<table border=\"1\" class=\"dataframe\">\n",
       "  <thead>\n",
       "    <tr style=\"text-align: right;\">\n",
       "      <th></th>\n",
       "      <th>country</th>\n",
       "      <th>year</th>\n",
       "      <th>uniqueid</th>\n",
       "      <th>location_type</th>\n",
       "      <th>cellphone_access</th>\n",
       "      <th>household_size</th>\n",
       "      <th>age_of_respondent</th>\n",
       "      <th>gender_of_respondent</th>\n",
       "      <th>relationship_with_head</th>\n",
       "      <th>marital_status</th>\n",
       "      <th>education_level</th>\n",
       "      <th>job_type</th>\n",
       "      <th>uid</th>\n",
       "      <th>bank_account</th>\n",
       "    </tr>\n",
       "  </thead>\n",
       "  <tbody>\n",
       "    <tr>\n",
       "      <th>0</th>\n",
       "      <td>Rwanda</td>\n",
       "      <td>2016</td>\n",
       "      <td>uniqueid_4858</td>\n",
       "      <td>Rural</td>\n",
       "      <td>Yes</td>\n",
       "      <td>6</td>\n",
       "      <td>45</td>\n",
       "      <td>Male</td>\n",
       "      <td>Head of Household</td>\n",
       "      <td>Divorced/Seperated</td>\n",
       "      <td>Primary education</td>\n",
       "      <td>Farming and Fishing</td>\n",
       "      <td>Rwanda_uniqueid_4858</td>\n",
       "      <td>No</td>\n",
       "    </tr>\n",
       "    <tr>\n",
       "      <th>1</th>\n",
       "      <td>Tanzania</td>\n",
       "      <td>2017</td>\n",
       "      <td>uniqueid_3015</td>\n",
       "      <td>Urban</td>\n",
       "      <td>No</td>\n",
       "      <td>4</td>\n",
       "      <td>33</td>\n",
       "      <td>Female</td>\n",
       "      <td>Head of Household</td>\n",
       "      <td>Single/Never Married</td>\n",
       "      <td>Primary education</td>\n",
       "      <td>Self employed</td>\n",
       "      <td>Tanzania_uniqueid_3015</td>\n",
       "      <td>No</td>\n",
       "    </tr>\n",
       "    <tr>\n",
       "      <th>2</th>\n",
       "      <td>Rwanda</td>\n",
       "      <td>2016</td>\n",
       "      <td>uniqueid_103</td>\n",
       "      <td>Rural</td>\n",
       "      <td>Yes</td>\n",
       "      <td>7</td>\n",
       "      <td>43</td>\n",
       "      <td>Male</td>\n",
       "      <td>Head of Household</td>\n",
       "      <td>Married/Living together</td>\n",
       "      <td>Secondary education</td>\n",
       "      <td>Farming and Fishing</td>\n",
       "      <td>Rwanda_uniqueid_103</td>\n",
       "      <td>No</td>\n",
       "    </tr>\n",
       "    <tr>\n",
       "      <th>3</th>\n",
       "      <td>Rwanda</td>\n",
       "      <td>2016</td>\n",
       "      <td>uniqueid_4582</td>\n",
       "      <td>Rural</td>\n",
       "      <td>No</td>\n",
       "      <td>6</td>\n",
       "      <td>35</td>\n",
       "      <td>Female</td>\n",
       "      <td>Head of Household</td>\n",
       "      <td>Married/Living together</td>\n",
       "      <td>Primary education</td>\n",
       "      <td>Farming and Fishing</td>\n",
       "      <td>Rwanda_uniqueid_4582</td>\n",
       "      <td>No</td>\n",
       "    </tr>\n",
       "    <tr>\n",
       "      <th>4</th>\n",
       "      <td>Tanzania</td>\n",
       "      <td>2017</td>\n",
       "      <td>uniqueid_2854</td>\n",
       "      <td>Urban</td>\n",
       "      <td>Yes</td>\n",
       "      <td>2</td>\n",
       "      <td>30</td>\n",
       "      <td>Male</td>\n",
       "      <td>Head of Household</td>\n",
       "      <td>Single/Never Married</td>\n",
       "      <td>Primary education</td>\n",
       "      <td>Informally employed</td>\n",
       "      <td>Tanzania_uniqueid_2854</td>\n",
       "      <td>No</td>\n",
       "    </tr>\n",
       "  </tbody>\n",
       "</table>\n",
       "</div>"
      ],
      "text/plain": [
       "    country  year       uniqueid location_type cellphone_access  household_size  age_of_respondent gender_of_respondent relationship_with_head           marital_status      education_level             job_type                     uid bank_account\n",
       "0    Rwanda  2016  uniqueid_4858         Rural              Yes               6                 45                 Male      Head of Household       Divorced/Seperated    Primary education  Farming and Fishing    Rwanda_uniqueid_4858           No\n",
       "1  Tanzania  2017  uniqueid_3015         Urban               No               4                 33               Female      Head of Household     Single/Never Married    Primary education        Self employed  Tanzania_uniqueid_3015           No\n",
       "2    Rwanda  2016   uniqueid_103         Rural              Yes               7                 43                 Male      Head of Household  Married/Living together  Secondary education  Farming and Fishing     Rwanda_uniqueid_103           No\n",
       "3    Rwanda  2016  uniqueid_4582         Rural               No               6                 35               Female      Head of Household  Married/Living together    Primary education  Farming and Fishing    Rwanda_uniqueid_4582           No\n",
       "4  Tanzania  2017  uniqueid_2854         Urban              Yes               2                 30                 Male      Head of Household     Single/Never Married    Primary education  Informally employed  Tanzania_uniqueid_2854           No"
      ]
     },
     "execution_count": 3,
     "metadata": {},
     "output_type": "execute_result"
    }
   ],
   "source": [
    "train_file = './data/train.csv'\n",
    "\n",
    "df_raw = pd.read_csv(train_file)\n",
    "df_raw.head()"
   ]
  },
  {
   "cell_type": "markdown",
   "id": "aad2260b",
   "metadata": {},
   "source": [
    "## 1. Descrição dos Dados"
   ]
  },
  {
   "cell_type": "code",
   "execution_count": 4,
   "id": "f508a3ce",
   "metadata": {
    "ExecuteTime": {
     "end_time": "2022-05-28T18:31:45.232476Z",
     "start_time": "2022-05-28T18:31:45.227096Z"
    }
   },
   "outputs": [],
   "source": [
    "df1 = df_raw.copy()"
   ]
  },
  {
   "cell_type": "code",
   "execution_count": 5,
   "id": "486022ee-17eb-45d7-a3d4-d0e1945c20d1",
   "metadata": {
    "ExecuteTime": {
     "end_time": "2022-05-28T18:31:45.243624Z",
     "start_time": "2022-05-28T18:31:45.236197Z"
    }
   },
   "outputs": [
    {
     "data": {
      "text/plain": [
       "array(['Rwanda', 'Tanzania', 'Kenya', 'Uganda'], dtype=object)"
      ]
     },
     "execution_count": 5,
     "metadata": {},
     "output_type": "execute_result"
    }
   ],
   "source": [
    "df1['country'].unique()"
   ]
  },
  {
   "cell_type": "code",
   "execution_count": 6,
   "id": "90c6ffae-571b-4449-b761-555a9f169fde",
   "metadata": {
    "ExecuteTime": {
     "end_time": "2022-05-28T18:31:45.256225Z",
     "start_time": "2022-05-28T18:31:45.246659Z"
    }
   },
   "outputs": [
    {
     "data": {
      "text/plain": [
       "array(['Rural', 'Urban'], dtype=object)"
      ]
     },
     "execution_count": 6,
     "metadata": {},
     "output_type": "execute_result"
    }
   ],
   "source": [
    "df1['location_type'].unique()"
   ]
  },
  {
   "cell_type": "code",
   "execution_count": 7,
   "id": "530e1719-96e7-4d65-9f59-271d794c11d6",
   "metadata": {
    "ExecuteTime": {
     "end_time": "2022-05-28T18:31:45.264999Z",
     "start_time": "2022-05-28T18:31:45.258682Z"
    }
   },
   "outputs": [
    {
     "data": {
      "text/plain": [
       "array(['Head of Household', 'Spouse', 'Child', 'Parent', 'Other relative',\n",
       "       'Other non-relatives'], dtype=object)"
      ]
     },
     "execution_count": 7,
     "metadata": {},
     "output_type": "execute_result"
    }
   ],
   "source": [
    "df1['relationship_with_head'].unique()"
   ]
  },
  {
   "cell_type": "code",
   "execution_count": 8,
   "id": "db41946d-c6e9-418e-8645-44e9d066d306",
   "metadata": {
    "ExecuteTime": {
     "end_time": "2022-05-28T18:31:45.277198Z",
     "start_time": "2022-05-28T18:31:45.267964Z"
    }
   },
   "outputs": [
    {
     "data": {
      "text/plain": [
       "array(['Divorced/Seperated', 'Single/Never Married',\n",
       "       'Married/Living together', 'Widowed', 'Dont know'], dtype=object)"
      ]
     },
     "execution_count": 8,
     "metadata": {},
     "output_type": "execute_result"
    }
   ],
   "source": [
    "df1['marital_status'].unique()"
   ]
  },
  {
   "cell_type": "code",
   "execution_count": 9,
   "id": "a0df47ae-0491-471c-a9f2-5557d38c1659",
   "metadata": {
    "ExecuteTime": {
     "end_time": "2022-05-28T18:31:45.292866Z",
     "start_time": "2022-05-28T18:31:45.284552Z"
    }
   },
   "outputs": [
    {
     "data": {
      "text/plain": [
       "array(['Primary education', 'Secondary education',\n",
       "       'Vocational/Specialised training', 'Tertiary education',\n",
       "       'No formal education', 'Other/Dont know/RTA'], dtype=object)"
      ]
     },
     "execution_count": 9,
     "metadata": {},
     "output_type": "execute_result"
    }
   ],
   "source": [
    "df1['education_level'].unique()"
   ]
  },
  {
   "cell_type": "markdown",
   "id": "d3da856c",
   "metadata": {},
   "source": [
    "### 1.1. Renomear features"
   ]
  },
  {
   "cell_type": "markdown",
   "id": "77b33cf9",
   "metadata": {},
   "source": [
    "### 1.2. Checar Dimensões"
   ]
  },
  {
   "cell_type": "markdown",
   "id": "ce43b50d",
   "metadata": {},
   "source": [
    "### 1.3. Checar Tipos"
   ]
  },
  {
   "cell_type": "markdown",
   "id": "c7a3b928",
   "metadata": {},
   "source": [
    "### 1.4. Alterar Tipos"
   ]
  },
  {
   "cell_type": "markdown",
   "id": "f2a2415c",
   "metadata": {},
   "source": [
    "### 1.5. Checa NaN"
   ]
  },
  {
   "cell_type": "code",
   "execution_count": 10,
   "id": "5512f338",
   "metadata": {
    "ExecuteTime": {
     "end_time": "2022-05-28T18:31:45.331962Z",
     "start_time": "2022-05-28T18:31:45.299356Z"
    }
   },
   "outputs": [
    {
     "data": {
      "text/plain": [
       "country                   0\n",
       "year                      0\n",
       "uniqueid                  0\n",
       "location_type             0\n",
       "cellphone_access          0\n",
       "household_size            0\n",
       "age_of_respondent         0\n",
       "gender_of_respondent      0\n",
       "relationship_with_head    0\n",
       "marital_status            0\n",
       "education_level           0\n",
       "job_type                  0\n",
       "uid                       0\n",
       "bank_account              0\n",
       "dtype: int64"
      ]
     },
     "execution_count": 10,
     "metadata": {},
     "output_type": "execute_result"
    }
   ],
   "source": [
    "df1.isna().sum()"
   ]
  },
  {
   "cell_type": "markdown",
   "id": "5a526c9e",
   "metadata": {},
   "source": [
    "### 1.6. Preenche NaN"
   ]
  },
  {
   "cell_type": "markdown",
   "id": "34775d08",
   "metadata": {},
   "source": [
    "### 1.7. Estatística Descritiva"
   ]
  },
  {
   "cell_type": "markdown",
   "id": "e7f66d38",
   "metadata": {},
   "source": [
    "## 2. Feature Engineering"
   ]
  },
  {
   "cell_type": "code",
   "execution_count": 11,
   "id": "0ef8e10d",
   "metadata": {
    "ExecuteTime": {
     "end_time": "2022-05-28T18:31:45.341311Z",
     "start_time": "2022-05-28T18:31:45.334871Z"
    }
   },
   "outputs": [],
   "source": [
    "df2 = df1.copy()"
   ]
  },
  {
   "cell_type": "code",
   "execution_count": 12,
   "id": "4020c745-0670-4933-8ecf-136642b9a4c9",
   "metadata": {
    "ExecuteTime": {
     "end_time": "2022-05-28T18:31:45.353251Z",
     "start_time": "2022-05-28T18:31:45.344438Z"
    }
   },
   "outputs": [
    {
     "data": {
      "text/plain": [
       "country                   object\n",
       "year                       int64\n",
       "uniqueid                  object\n",
       "location_type             object\n",
       "cellphone_access          object\n",
       "household_size             int64\n",
       "age_of_respondent          int64\n",
       "gender_of_respondent      object\n",
       "relationship_with_head    object\n",
       "marital_status            object\n",
       "education_level           object\n",
       "job_type                  object\n",
       "uid                       object\n",
       "bank_account              object\n",
       "dtype: object"
      ]
     },
     "execution_count": 12,
     "metadata": {},
     "output_type": "execute_result"
    }
   ],
   "source": [
    "df2.dtypes"
   ]
  },
  {
   "cell_type": "code",
   "execution_count": 13,
   "id": "f6b40c68-4765-4c4a-ab8c-37e5cfb9c12d",
   "metadata": {
    "ExecuteTime": {
     "end_time": "2022-05-28T18:31:45.368003Z",
     "start_time": "2022-05-28T18:31:45.355908Z"
    }
   },
   "outputs": [
    {
     "name": "stdout",
     "output_type": "stream",
     "text": [
      "{'Rwanda': 4335, 'Tanzania': 3288, 'Kenya': 3052, 'Uganda': 1087}\n"
     ]
    }
   ],
   "source": [
    "count = df2['country'].value_counts()\n",
    "mapper = dict()\n",
    "for ind in count.index:\n",
    "    mapper[ind] = count[ind]\n",
    "    \n",
    "df2['country'] = df2['country'].map(mapper)\n",
    "print(mapper)"
   ]
  },
  {
   "cell_type": "code",
   "execution_count": 14,
   "id": "f6b18d64-cf68-471f-9670-9fcc440cbff8",
   "metadata": {
    "ExecuteTime": {
     "end_time": "2022-05-28T18:31:45.382745Z",
     "start_time": "2022-05-28T18:31:45.371786Z"
    }
   },
   "outputs": [
    {
     "name": "stdout",
     "output_type": "stream",
     "text": [
      "{'Rural': 7100, 'Urban': 4662}\n"
     ]
    }
   ],
   "source": [
    "count = df2['location_type'].value_counts()\n",
    "mapper = dict()\n",
    "for ind in count.index:\n",
    "    mapper[ind] = count[ind]\n",
    "    \n",
    "df2['location_type'] = df2['location_type'].map(mapper)\n",
    "print(mapper)"
   ]
  },
  {
   "cell_type": "code",
   "execution_count": 15,
   "id": "ffab360b-baea-4a32-b82d-706f0c8a482e",
   "metadata": {
    "ExecuteTime": {
     "end_time": "2022-05-28T18:31:45.398655Z",
     "start_time": "2022-05-28T18:31:45.386304Z"
    }
   },
   "outputs": [
    {
     "name": "stdout",
     "output_type": "stream",
     "text": [
      "{'Yes': 8786, 'No': 2976}\n"
     ]
    }
   ],
   "source": [
    "count = df2['cellphone_access'].value_counts()\n",
    "mapper = dict()\n",
    "for ind in count.index:\n",
    "    mapper[ind] = count[ind]\n",
    "    \n",
    "df2['cellphone_access'] = df2['cellphone_access'].map(mapper)\n",
    "print(mapper)"
   ]
  },
  {
   "cell_type": "code",
   "execution_count": 16,
   "id": "93cf82af-02ab-4d96-abdf-6c15ff67e80c",
   "metadata": {
    "ExecuteTime": {
     "end_time": "2022-05-28T18:31:45.411432Z",
     "start_time": "2022-05-28T18:31:45.401668Z"
    }
   },
   "outputs": [
    {
     "name": "stdout",
     "output_type": "stream",
     "text": [
      "{'Female': 6902, 'Male': 4860}\n"
     ]
    }
   ],
   "source": [
    "count = df2['gender_of_respondent'].value_counts()\n",
    "mapper = dict()\n",
    "for ind in count.index:\n",
    "    mapper[ind] = count[ind]\n",
    "    \n",
    "df2['gender_of_respondent'] = df2['gender_of_respondent'].map(mapper)\n",
    "print(mapper)"
   ]
  },
  {
   "cell_type": "code",
   "execution_count": 17,
   "id": "51862719-aba1-4bdf-be22-1146a99f4598",
   "metadata": {
    "ExecuteTime": {
     "end_time": "2022-05-28T18:31:45.453531Z",
     "start_time": "2022-05-28T18:31:45.413768Z"
    }
   },
   "outputs": [
    {
     "name": "stdout",
     "output_type": "stream",
     "text": [
      "{'Head of Household': 6358, 'Spouse': 3287, 'Child': 1099, 'Parent': 560, 'Other relative': 368, 'Other non-relatives': 90}\n"
     ]
    }
   ],
   "source": [
    "count = df2['relationship_with_head'].value_counts()\n",
    "mapper = dict()\n",
    "for ind in count.index:\n",
    "    mapper[ind] = count[ind]\n",
    "    \n",
    "df2['relationship_with_head'] = df2['relationship_with_head'].map(mapper)\n",
    "print(mapper)"
   ]
  },
  {
   "cell_type": "code",
   "execution_count": 18,
   "id": "b6093925-686d-42e8-913d-c3d5b22ec434",
   "metadata": {
    "ExecuteTime": {
     "end_time": "2022-05-28T18:31:45.468191Z",
     "start_time": "2022-05-28T18:31:45.457638Z"
    }
   },
   "outputs": [
    {
     "name": "stdout",
     "output_type": "stream",
     "text": [
      "{'Married/Living together': 5433, 'Single/Never Married': 3970, 'Widowed': 1321, 'Divorced/Seperated': 1034, 'Dont know': 4}\n"
     ]
    }
   ],
   "source": [
    "count = df2['marital_status'].value_counts()\n",
    "mapper = dict()\n",
    "for ind in count.index:\n",
    "    mapper[ind] = count[ind]\n",
    "    \n",
    "df2['marital_status'] = df2['marital_status'].map(mapper)\n",
    "print(mapper)"
   ]
  },
  {
   "cell_type": "code",
   "execution_count": 19,
   "id": "06106564-e8c3-4876-b0dd-5071740bec72",
   "metadata": {
    "ExecuteTime": {
     "end_time": "2022-05-28T18:31:45.481994Z",
     "start_time": "2022-05-28T18:31:45.471654Z"
    }
   },
   "outputs": [
    {
     "name": "stdout",
     "output_type": "stream",
     "text": [
      "{'Primary education': 6408, 'No formal education': 2240, 'Secondary education': 2129, 'Tertiary education': 566, 'Vocational/Specialised training': 399, 'Other/Dont know/RTA': 20}\n"
     ]
    }
   ],
   "source": [
    "count = df2['education_level'].value_counts()\n",
    "mapper = dict()\n",
    "for ind in count.index:\n",
    "    mapper[ind] = count[ind]\n",
    "    \n",
    "df2['education_level'] = df2['education_level'].map(mapper)\n",
    "print(mapper)"
   ]
  },
  {
   "cell_type": "code",
   "execution_count": 20,
   "id": "0f40e4c3-7ff7-4add-be83-ba347e17b031",
   "metadata": {
    "ExecuteTime": {
     "end_time": "2022-05-28T18:31:45.495157Z",
     "start_time": "2022-05-28T18:31:45.484734Z"
    }
   },
   "outputs": [
    {
     "name": "stdout",
     "output_type": "stream",
     "text": [
      "{'Self employed': 3207, 'Informally employed': 2788, 'Farming and Fishing': 2732, 'Remittance Dependent': 1252, 'Other Income': 569, 'Formally employed Private': 514, 'No Income': 310, 'Formally employed Government': 206, 'Government Dependent': 125, 'Dont Know/Refuse to answer': 59}\n"
     ]
    }
   ],
   "source": [
    "count = df2['job_type'].value_counts()\n",
    "mapper = dict()\n",
    "for ind in count.index:\n",
    "    mapper[ind] = count[ind]\n",
    "    \n",
    "df2['job_type'] = df2['job_type'].map(mapper)\n",
    "print(mapper)"
   ]
  },
  {
   "cell_type": "code",
   "execution_count": 21,
   "id": "344555a6-ee42-4223-8140-e9f3c0b91d8f",
   "metadata": {
    "ExecuteTime": {
     "end_time": "2022-05-28T18:31:45.509332Z",
     "start_time": "2022-05-28T18:31:45.498068Z"
    }
   },
   "outputs": [],
   "source": [
    "df2['bank_account'] = df2['bank_account'].apply(lambda x: 1 if x == 'Yes' else 0)"
   ]
  },
  {
   "cell_type": "code",
   "execution_count": 22,
   "id": "973e21ed",
   "metadata": {
    "ExecuteTime": {
     "end_time": "2022-05-28T18:31:47.522535Z",
     "start_time": "2022-05-28T18:31:47.505854Z"
    }
   },
   "outputs": [
    {
     "data": {
      "text/html": [
       "<div>\n",
       "<style scoped>\n",
       "    .dataframe tbody tr th:only-of-type {\n",
       "        vertical-align: middle;\n",
       "    }\n",
       "\n",
       "    .dataframe tbody tr th {\n",
       "        vertical-align: top;\n",
       "    }\n",
       "\n",
       "    .dataframe thead th {\n",
       "        text-align: right;\n",
       "    }\n",
       "</style>\n",
       "<table border=\"1\" class=\"dataframe\">\n",
       "  <thead>\n",
       "    <tr style=\"text-align: right;\">\n",
       "      <th></th>\n",
       "      <th>country</th>\n",
       "      <th>year</th>\n",
       "      <th>uniqueid</th>\n",
       "      <th>location_type</th>\n",
       "      <th>cellphone_access</th>\n",
       "      <th>household_size</th>\n",
       "      <th>age_of_respondent</th>\n",
       "      <th>gender_of_respondent</th>\n",
       "      <th>relationship_with_head</th>\n",
       "      <th>marital_status</th>\n",
       "      <th>education_level</th>\n",
       "      <th>job_type</th>\n",
       "      <th>uid</th>\n",
       "      <th>bank_account</th>\n",
       "    </tr>\n",
       "  </thead>\n",
       "  <tbody>\n",
       "    <tr>\n",
       "      <th>0</th>\n",
       "      <td>4335</td>\n",
       "      <td>2016</td>\n",
       "      <td>uniqueid_4858</td>\n",
       "      <td>7100</td>\n",
       "      <td>8786</td>\n",
       "      <td>6</td>\n",
       "      <td>45</td>\n",
       "      <td>4860</td>\n",
       "      <td>6358</td>\n",
       "      <td>1034</td>\n",
       "      <td>6408</td>\n",
       "      <td>2732</td>\n",
       "      <td>Rwanda_uniqueid_4858</td>\n",
       "      <td>0</td>\n",
       "    </tr>\n",
       "    <tr>\n",
       "      <th>1</th>\n",
       "      <td>3288</td>\n",
       "      <td>2017</td>\n",
       "      <td>uniqueid_3015</td>\n",
       "      <td>4662</td>\n",
       "      <td>2976</td>\n",
       "      <td>4</td>\n",
       "      <td>33</td>\n",
       "      <td>6902</td>\n",
       "      <td>6358</td>\n",
       "      <td>3970</td>\n",
       "      <td>6408</td>\n",
       "      <td>3207</td>\n",
       "      <td>Tanzania_uniqueid_3015</td>\n",
       "      <td>0</td>\n",
       "    </tr>\n",
       "    <tr>\n",
       "      <th>2</th>\n",
       "      <td>4335</td>\n",
       "      <td>2016</td>\n",
       "      <td>uniqueid_103</td>\n",
       "      <td>7100</td>\n",
       "      <td>8786</td>\n",
       "      <td>7</td>\n",
       "      <td>43</td>\n",
       "      <td>4860</td>\n",
       "      <td>6358</td>\n",
       "      <td>5433</td>\n",
       "      <td>2129</td>\n",
       "      <td>2732</td>\n",
       "      <td>Rwanda_uniqueid_103</td>\n",
       "      <td>0</td>\n",
       "    </tr>\n",
       "    <tr>\n",
       "      <th>3</th>\n",
       "      <td>4335</td>\n",
       "      <td>2016</td>\n",
       "      <td>uniqueid_4582</td>\n",
       "      <td>7100</td>\n",
       "      <td>2976</td>\n",
       "      <td>6</td>\n",
       "      <td>35</td>\n",
       "      <td>6902</td>\n",
       "      <td>6358</td>\n",
       "      <td>5433</td>\n",
       "      <td>6408</td>\n",
       "      <td>2732</td>\n",
       "      <td>Rwanda_uniqueid_4582</td>\n",
       "      <td>0</td>\n",
       "    </tr>\n",
       "    <tr>\n",
       "      <th>4</th>\n",
       "      <td>3288</td>\n",
       "      <td>2017</td>\n",
       "      <td>uniqueid_2854</td>\n",
       "      <td>4662</td>\n",
       "      <td>8786</td>\n",
       "      <td>2</td>\n",
       "      <td>30</td>\n",
       "      <td>4860</td>\n",
       "      <td>6358</td>\n",
       "      <td>3970</td>\n",
       "      <td>6408</td>\n",
       "      <td>2788</td>\n",
       "      <td>Tanzania_uniqueid_2854</td>\n",
       "      <td>0</td>\n",
       "    </tr>\n",
       "    <tr>\n",
       "      <th>5</th>\n",
       "      <td>3052</td>\n",
       "      <td>2018</td>\n",
       "      <td>uniqueid_5704</td>\n",
       "      <td>4662</td>\n",
       "      <td>8786</td>\n",
       "      <td>2</td>\n",
       "      <td>57</td>\n",
       "      <td>6902</td>\n",
       "      <td>3287</td>\n",
       "      <td>5433</td>\n",
       "      <td>399</td>\n",
       "      <td>3207</td>\n",
       "      <td>Kenya_uniqueid_5704</td>\n",
       "      <td>0</td>\n",
       "    </tr>\n",
       "    <tr>\n",
       "      <th>6</th>\n",
       "      <td>3288</td>\n",
       "      <td>2017</td>\n",
       "      <td>uniqueid_4831</td>\n",
       "      <td>4662</td>\n",
       "      <td>8786</td>\n",
       "      <td>1</td>\n",
       "      <td>25</td>\n",
       "      <td>6902</td>\n",
       "      <td>6358</td>\n",
       "      <td>1034</td>\n",
       "      <td>566</td>\n",
       "      <td>2788</td>\n",
       "      <td>Tanzania_uniqueid_4831</td>\n",
       "      <td>0</td>\n",
       "    </tr>\n",
       "    <tr>\n",
       "      <th>7</th>\n",
       "      <td>3288</td>\n",
       "      <td>2017</td>\n",
       "      <td>uniqueid_3231</td>\n",
       "      <td>7100</td>\n",
       "      <td>8786</td>\n",
       "      <td>3</td>\n",
       "      <td>41</td>\n",
       "      <td>6902</td>\n",
       "      <td>6358</td>\n",
       "      <td>5433</td>\n",
       "      <td>6408</td>\n",
       "      <td>2788</td>\n",
       "      <td>Tanzania_uniqueid_3231</td>\n",
       "      <td>0</td>\n",
       "    </tr>\n",
       "    <tr>\n",
       "      <th>8</th>\n",
       "      <td>4335</td>\n",
       "      <td>2016</td>\n",
       "      <td>uniqueid_390</td>\n",
       "      <td>7100</td>\n",
       "      <td>8786</td>\n",
       "      <td>5</td>\n",
       "      <td>33</td>\n",
       "      <td>4860</td>\n",
       "      <td>6358</td>\n",
       "      <td>5433</td>\n",
       "      <td>6408</td>\n",
       "      <td>3207</td>\n",
       "      <td>Rwanda_uniqueid_390</td>\n",
       "      <td>0</td>\n",
       "    </tr>\n",
       "    <tr>\n",
       "      <th>9</th>\n",
       "      <td>3288</td>\n",
       "      <td>2017</td>\n",
       "      <td>uniqueid_4088</td>\n",
       "      <td>4662</td>\n",
       "      <td>8786</td>\n",
       "      <td>2</td>\n",
       "      <td>35</td>\n",
       "      <td>6902</td>\n",
       "      <td>3287</td>\n",
       "      <td>3970</td>\n",
       "      <td>6408</td>\n",
       "      <td>3207</td>\n",
       "      <td>Tanzania_uniqueid_4088</td>\n",
       "      <td>0</td>\n",
       "    </tr>\n",
       "  </tbody>\n",
       "</table>\n",
       "</div>"
      ],
      "text/plain": [
       "   country  year       uniqueid  location_type  cellphone_access  household_size  age_of_respondent  gender_of_respondent  relationship_with_head  marital_status  education_level  job_type                     uid  bank_account\n",
       "0     4335  2016  uniqueid_4858           7100              8786               6                 45                  4860                    6358            1034             6408      2732    Rwanda_uniqueid_4858             0\n",
       "1     3288  2017  uniqueid_3015           4662              2976               4                 33                  6902                    6358            3970             6408      3207  Tanzania_uniqueid_3015             0\n",
       "2     4335  2016   uniqueid_103           7100              8786               7                 43                  4860                    6358            5433             2129      2732     Rwanda_uniqueid_103             0\n",
       "3     4335  2016  uniqueid_4582           7100              2976               6                 35                  6902                    6358            5433             6408      2732    Rwanda_uniqueid_4582             0\n",
       "4     3288  2017  uniqueid_2854           4662              8786               2                 30                  4860                    6358            3970             6408      2788  Tanzania_uniqueid_2854             0\n",
       "5     3052  2018  uniqueid_5704           4662              8786               2                 57                  6902                    3287            5433              399      3207     Kenya_uniqueid_5704             0\n",
       "6     3288  2017  uniqueid_4831           4662              8786               1                 25                  6902                    6358            1034              566      2788  Tanzania_uniqueid_4831             0\n",
       "7     3288  2017  uniqueid_3231           7100              8786               3                 41                  6902                    6358            5433             6408      2788  Tanzania_uniqueid_3231             0\n",
       "8     4335  2016   uniqueid_390           7100              8786               5                 33                  4860                    6358            5433             6408      3207     Rwanda_uniqueid_390             0\n",
       "9     3288  2017  uniqueid_4088           4662              8786               2                 35                  6902                    3287            3970             6408      3207  Tanzania_uniqueid_4088             0"
      ]
     },
     "execution_count": 22,
     "metadata": {},
     "output_type": "execute_result"
    }
   ],
   "source": [
    "df2.head(10)"
   ]
  },
  {
   "cell_type": "markdown",
   "id": "b8673e18",
   "metadata": {},
   "source": [
    "### 2.1. Mapa de Hipóteses"
   ]
  },
  {
   "cell_type": "markdown",
   "id": "c58557e7",
   "metadata": {},
   "source": [
    "### 2.2. Criação de Hipóteses"
   ]
  },
  {
   "cell_type": "markdown",
   "id": "cd564539",
   "metadata": {},
   "source": [
    "**H1.** Os países desenvolvidos tem 10% a mais de contas digitais  \n",
    "**H2.** Zonas urbanas tem 50% a mais de contas digitais do que zonas rurais  \n",
    "**H3.** 80% das pessoas que possuem celular e internet tem conta digital  \n",
    "**H4.** A quantidade de contas de pessoas com ensino superior é maior em média do que as demais  \n",
    "**H5.** Pessoas entre 18 e 40 anos constituem 85% da base de contas digitais  \n",
    "**H6.** Pessoas que não possuem renda não possuem conta digital  \n",
    "**H7.** Pessoas acima dos 60 anos mesmo com acesso ao celular não possuem conta digital  \n",
    "**H8.** 95% das pessoas sem trabalho não possuem conta digital"
   ]
  },
  {
   "cell_type": "markdown",
   "id": "46e033de",
   "metadata": {},
   "source": [
    "## 3. Seleção de Features"
   ]
  },
  {
   "cell_type": "code",
   "execution_count": 23,
   "id": "b60808b2",
   "metadata": {
    "ExecuteTime": {
     "end_time": "2022-05-28T15:49:16.731951Z",
     "start_time": "2022-05-28T15:49:16.724759Z"
    }
   },
   "outputs": [],
   "source": [
    "df3 = df2.copy()"
   ]
  },
  {
   "cell_type": "markdown",
   "id": "9a682c0b",
   "metadata": {},
   "source": [
    "## 4. EDA"
   ]
  },
  {
   "cell_type": "code",
   "execution_count": 24,
   "id": "00784e93",
   "metadata": {
    "ExecuteTime": {
     "end_time": "2022-05-28T15:49:26.562335Z",
     "start_time": "2022-05-28T15:49:26.555672Z"
    }
   },
   "outputs": [],
   "source": [
    "df4 = df3.copy()"
   ]
  },
  {
   "cell_type": "markdown",
   "id": "f809a85c",
   "metadata": {},
   "source": [
    "### 4.1. Univariada"
   ]
  },
  {
   "cell_type": "code",
   "execution_count": 25,
   "id": "f5d07706",
   "metadata": {},
   "outputs": [
    {
     "data": {
      "text/plain": [
       "<AxesSubplot:>"
      ]
     },
     "execution_count": 25,
     "metadata": {},
     "output_type": "execute_result"
    },
    {
     "data": {
      "image/png": "[encoded data removed]",
      "text/plain": [
       "<Figure size 1800x864 with 1 Axes>"
      ]
     },
     "metadata": {},
     "output_type": "display_data"
    }
   ],
   "source": [
    "df4['bank_account'].hist()"
   ]
  },
  {
   "cell_type": "markdown",
   "id": "8f3427ae",
   "metadata": {},
   "source": [
    "### 4.2. Bivariadas"
   ]
  },
  {
   "cell_type": "markdown",
   "id": "71a57357",
   "metadata": {},
   "source": [
    "H1. Os países desenvolvidos tem 10% a mais de contas digitais  \n",
    "Sem dados para concluir o teste"
   ]
  },
  {
   "cell_type": "code",
   "execution_count": 26,
   "id": "62309b61",
   "metadata": {},
   "outputs": [
    {
     "data": {
      "text/plain": [
       "<AxesSubplot:xlabel='location_type', ylabel='uniqueid'>"
      ]
     },
     "execution_count": 26,
     "metadata": {},
     "output_type": "execute_result"
    },
    {
     "data": {
      "image/png": "[encoded data removed]",
      "text/plain": [
       "<Figure size 1800x864 with 1 Axes>"
      ]
     },
     "metadata": {},
     "output_type": "display_data"
    }
   ],
   "source": [
    "# H2. Zonas urbanas tem 50% a mais de contas digitais do que zonas rurais  \n",
    "\n",
    "graph = df1[df1['bank_account']=='Yes'][['uniqueid','location_type']].groupby('location_type').count().reset_index()\n",
    "sns.barplot( data = graph, x= 'location_type', y= 'uniqueid')\n",
    "\n",
    "# Falso"
   ]
  },
  {
   "cell_type": "code",
   "execution_count": 125,
   "id": "82336210",
   "metadata": {},
   "outputs": [
    {
     "name": "stdout",
     "output_type": "stream",
     "text": [
      "Falso. Apenas 18.58% das pessoas que possuem celular, tabém possuem conta digital\n",
      "96.85% das pessoas que possuem conta também possuem celular\n"
     ]
    }
   ],
   "source": [
    "# H3. 80% das pessoas que possuem celular e internet tem conta digital  \n",
    "\n",
    "h3 = df1[df1['cellphone_access']=='Yes'][['bank_account','uniqueid']].groupby('bank_account').count().reset_index()\n",
    "yes = float(h3[h3['bank_account']== 'Yes']['uniqueid'])\n",
    "percent = yes/total*100\n",
    "print(f'Falso. Apenas {percent:.2f}% das pessoas que possuem celular, tabém possuem conta digital')\n",
    "account = df1[df1['bank_account'] == 'Yes']['uniqueid'].count()\n",
    "account_cell = df1[(df1['bank_account'] == 'Yes') & (df1['cellphone_access']=='Yes')]['uniqueid'].count()\n",
    "percent_ = account_cell/account*100\n",
    "print(f'{percent_:.2f}% das pessoas que possuem conta também possuem celular')"
   ]
  },
  {
   "cell_type": "code",
   "execution_count": 33,
   "id": "14341e31",
   "metadata": {},
   "outputs": [
    {
     "data": {
      "text/plain": [
       "<AxesSubplot:xlabel='education_level', ylabel='uniqueid'>"
      ]
     },
     "execution_count": 33,
     "metadata": {},
     "output_type": "execute_result"
    },
    {
     "data": {
      "image/png": "[encoded data removed]",
      "text/plain": [
       "<Figure size 1800x864 with 1 Axes>"
      ]
     },
     "metadata": {},
     "output_type": "display_data"
    }
   ],
   "source": [
    "# H4. A quantidade de contas de pessoas com ensino superior é maior em média do que as demais  \n",
    "#Falso\n",
    "h4 = df1[df1['bank_account']=='Yes'][['education_level','uniqueid']].groupby('education_level').count().reset_index()\n",
    "sns.barplot(data = h4, x = 'education_level', y = 'uniqueid')"
   ]
  },
  {
   "cell_type": "code",
   "execution_count": 71,
   "id": "72758e26",
   "metadata": {},
   "outputs": [
    {
     "name": "stdout",
     "output_type": "stream",
     "text": [
      "FALSO. A quantidade de pessoas entre 18 e 40 anos que possuem conta representam 85.34%\n"
     ]
    }
   ],
   "source": [
    "# H5. Pessoas entre 18 e 40 anos constituem 85% da base de contas digitais  \n",
    "total_ = df1[df1['bank_account']=='Yes']['uniqueid'].count()\n",
    "age = df1[(df1['bank_account']=='Yes') & ((df1['age_of_respondent'] >= 18 ) & (df1['age_of_respondent'] <= 55))]['uniqueid'].count()\n",
    "percent = age/total_*100\n",
    "print(f'FALSO. A quantidade de pessoas entre 18 e 40 anos que possuem conta representam {percent:.2f}%')"
   ]
  },
  {
   "cell_type": "code",
   "execution_count": 139,
   "id": "8a35ef9a",
   "metadata": {},
   "outputs": [
    {
     "name": "stdout",
     "output_type": "stream",
     "text": [
      "Falso. De um total de 1685, 54.60% são de homens\n"
     ]
    }
   ],
   "source": [
    "# H6. Mulheres são a maioria entre conta digitais abertas\n",
    "#Falso\n",
    "account = df1[df1['bank_account'] == 'Yes'][['uniqueid','gender_of_respondent' ]].groupby('gender_of_respondent').count().reset_index()\n",
    "male = int(account[account['gender_of_respondent']=='Male']['uniqueid'])\n",
    "female = int(account[account['gender_of_respondent']=='Female']['uniqueid'])\n",
    "print(f'Falso. De um total de {male+female}, {male/(male+female)*100:.2f}% são de homens')"
   ]
  },
  {
   "cell_type": "code",
   "execution_count": null,
   "id": "76ce099a",
   "metadata": {},
   "outputs": [],
   "source": [
    "H7. Pessoas acima dos 60 anos mesmo com acesso ao celular não possuem conta digital  \n"
   ]
  },
  {
   "cell_type": "code",
   "execution_count": null,
   "id": "b2ac1a78",
   "metadata": {},
   "outputs": [],
   "source": [
    "H8. 95% das pessoas sem trabalho não possuem conta digital  "
   ]
  },
  {
   "cell_type": "markdown",
   "id": "38fc6f63",
   "metadata": {},
   "source": [
    "### 4.3. Multivariadas"
   ]
  },
  {
   "cell_type": "markdown",
   "id": "ef9dd422",
   "metadata": {},
   "source": [
    "## 5. Preparação dos Dados"
   ]
  },
  {
   "cell_type": "code",
   "execution_count": null,
   "id": "8d0a0f61",
   "metadata": {
    "ExecuteTime": {
     "end_time": "2022-05-28T16:01:26.071677Z",
     "start_time": "2022-05-28T16:01:26.064030Z"
    }
   },
   "outputs": [],
   "source": [
    "df5 = df4.copy()"
   ]
  },
  {
   "cell_type": "markdown",
   "id": "6ea4a32c",
   "metadata": {},
   "source": [
    "### 5.1. Reescala dos Dados"
   ]
  },
  {
   "cell_type": "markdown",
   "id": "ce70d8f1",
   "metadata": {},
   "source": [
    "## 6. Seleção de Features"
   ]
  },
  {
   "cell_type": "code",
   "execution_count": null,
   "id": "5cbb50da",
   "metadata": {
    "ExecuteTime": {
     "end_time": "2022-05-28T16:01:28.524119Z",
     "start_time": "2022-05-28T16:01:28.517769Z"
    }
   },
   "outputs": [],
   "source": [
    "df6 = df5.copy()"
   ]
  },
  {
   "cell_type": "markdown",
   "id": "9c9d749c",
   "metadata": {},
   "source": [
    "### 6.1. Separação de Treino e Teste"
   ]
  },
  {
   "cell_type": "code",
   "execution_count": null,
   "id": "68026fbc",
   "metadata": {
    "ExecuteTime": {
     "end_time": "2022-05-28T16:01:37.502162Z",
     "start_time": "2022-05-28T16:01:37.479348Z"
    }
   },
   "outputs": [],
   "source": [
    "df6.head()"
   ]
  },
  {
   "cell_type": "code",
   "execution_count": null,
   "id": "31a51331",
   "metadata": {
    "ExecuteTime": {
     "end_time": "2022-05-28T16:31:11.625670Z",
     "start_time": "2022-05-28T16:31:11.605001Z"
    }
   },
   "outputs": [],
   "source": [
    "X = df6.drop(['uniqueid','uid','bank_account'],axis=1)\n",
    "y = df6['bank_account']\n",
    "\n",
    "x_train, x_test, y_train, y_test = ms.train_test_split(X, y, test_size=0.3, random_state=42)"
   ]
  },
  {
   "cell_type": "markdown",
   "id": "7132a5b0",
   "metadata": {},
   "source": [
    "## 7. Construção do Modelo"
   ]
  },
  {
   "cell_type": "code",
   "execution_count": null,
   "id": "9c23b207",
   "metadata": {},
   "outputs": [],
   "source": [
    "models_f1 = []"
   ]
  },
  {
   "cell_type": "markdown",
   "id": "78377f4a",
   "metadata": {
    "ExecuteTime": {
     "end_time": "2022-05-28T16:11:32.634627Z",
     "start_time": "2022-05-28T16:11:32.611107Z"
    }
   },
   "source": [
    "### 7.1. Random Forest Classifier"
   ]
  },
  {
   "cell_type": "code",
   "execution_count": null,
   "id": "074beb9b",
   "metadata": {
    "ExecuteTime": {
     "end_time": "2022-05-28T16:34:56.085664Z",
     "start_time": "2022-05-28T16:34:55.482612Z"
    }
   },
   "outputs": [],
   "source": [
    "# criar o modelo\n",
    "rfc_model = ensemble.RandomForestClassifier(random_state=42)\n",
    "\n",
    "# treinar o modelo\n",
    "rfc_model.fit(x_train, y_train)\n",
    "\n",
    "# fazer a predição\n",
    "yhat_rfc = rfc_model.predict(x_test)\n",
    "\n",
    "# calcula a performance\n",
    "models_f1.append(('Random Forest Classifier', metrics.f1_score(y_test, yhat_rfc)))"
   ]
  },
  {
   "cell_type": "markdown",
   "id": "023f8190",
   "metadata": {},
   "source": [
    "## 8. Avaliação do Modelo"
   ]
  },
  {
   "cell_type": "code",
   "execution_count": null,
   "id": "eb4cd941",
   "metadata": {},
   "outputs": [],
   "source": [
    "models_f1"
   ]
  },
  {
   "cell_type": "markdown",
   "id": "987f37f4",
   "metadata": {},
   "source": [
    "## 9. Fine Tunning"
   ]
  },
  {
   "cell_type": "markdown",
   "id": "be53c79e",
   "metadata": {},
   "source": [
    "## 10. Output da Submissão"
   ]
  },
  {
   "cell_type": "code",
   "execution_count": null,
   "id": "31f79ff2",
   "metadata": {
    "ExecuteTime": {
     "end_time": "2022-05-28T16:39:42.726234Z",
     "start_time": "2022-05-28T16:39:42.714534Z"
    }
   },
   "outputs": [],
   "source": [
    "x_test.head()"
   ]
  },
  {
   "cell_type": "code",
   "execution_count": null,
   "id": "998a30b9",
   "metadata": {
    "ExecuteTime": {
     "end_time": "2022-05-28T16:39:57.427594Z",
     "start_time": "2022-05-28T16:39:57.420106Z"
    }
   },
   "outputs": [],
   "source": [
    "y_test[0:5]"
   ]
  }
 ],
 "metadata": {
  "kernelspec": {
   "display_name": "Python 3 (ipykernel)",
   "language": "python",
   "name": "python3"
  },
  "language_info": {
   "codemirror_mode": {
    "name": "ipython",
    "version": 3
   },
   "file_extension": ".py",
   "mimetype": "text/x-python",
   "name": "python",
   "nbconvert_exporter": "python",
   "pygments_lexer": "ipython3",
   "version": "3.10.4"
  }
 },
 "nbformat": 4,
 "nbformat_minor": 5
}
