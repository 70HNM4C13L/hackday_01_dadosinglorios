{
 "cells": [
  {
   "cell_type": "markdown",
   "id": "25b39340",
   "metadata": {},
   "source": [
    "# <font color=\"red\">Hackday - Dados Inglórios</font>"
   ]
  },
  {
   "cell_type": "markdown",
   "id": "494e5b2f",
   "metadata": {},
   "source": [
    "## Planejamento da Solução"
   ]
  },
  {
   "cell_type": "markdown",
   "id": "5c6c98f1",
   "metadata": {},
   "source": [
    "### Input"
   ]
  },
  {
   "cell_type": "markdown",
   "id": "839f0e29",
   "metadata": {},
   "source": [
    "**Problema de Negócio**"
   ]
  },
  {
   "cell_type": "markdown",
   "id": "fd883f40",
   "metadata": {},
   "source": [
    "A inclusão financeira continua a ser um dos principais obstáculos ao desenvolvimento econômico e humano na África. Por exemplo, no Quênia, Ruanda, Tanzânia e Uganda, apenas 9,1 milhões de adultos (14% dos adultos), têm acesso ou usam uma conta bancária comercial.\n",
    "\n",
    "Em 2008, o nível de inclusão financeira na África Subsaariana era de pouco mais de 23%. Em 2018, esse número quase dobrou. No Togo, Mazamesso Assih, ministro de finanças, coordena uma estratégia de inclusão financeira com bancos parceiros. Ele afirma que garantir acesso a serviços financeiros básicos para a população, é fundamental para impulsionar a economia Africana.\n",
    "\n",
    "Em 2022, conforme destacado no último relatório do Banco Central da África Ocidental, atingiu-se uma das mais altas taxas de inclusão financeira da região, próxima de 82%. Uma parcela significativa desse aumento veio do aumento dos serviços financeiros digitais.\n",
    "\n",
    "Assih afirma também, que existem três razões principais pelas quais as nações africanas devem apostar na inclusão financeira:\n",
    "\n",
    " 1. Tornar os serviços financeiros mais acessíveis promove o empoderamento das pessoas mais vulneráveis, especialmente as mulheres.\n",
    " 2. Combater redes criminosas, passar de uma economia exclusivamente monetária para uma infraestrutura financeira digital torna mais fácil para as autoridades rastrear transações e lidar com contrabandistas e traficantes.\n",
    " 3. impulsionará a conectividade dos setores público e privado para um crescimento sustentável, apoiando as start-ups africanas.\n",
    " \n",
    "O objetivo desta competição é criar um modelo de aprendizado de máquina para prever quais indivíduos vão ou não utilizar uma conta bancária. Os modelos e soluções desenvolvidos devem fornecer uma indicação do estado da inclusão financeira no Quênia, Ruanda, Tanzânia e Uganda.\n",
    "\n"
   ]
  },
  {
   "cell_type": "markdown",
   "id": "8fd40c76",
   "metadata": {},
   "source": [
    "**Dados**"
   ]
  },
  {
   "cell_type": "markdown",
   "id": "a79b7594",
   "metadata": {},
   "source": [
    "Os dados necessários podem ser encontrados no [repositório da atividade](https://www.kaggle.com/c/inclusao-financeira-na-africa). No arquivo train.csv você encontrará:\n",
    "\n",
    "|Feature|Descrição|\n",
    "|:------|:--------|\n",
    "|country| Pais de Origem.\n",
    "|year| Ano da Inclusão\n",
    "|uniqueid| Id do Usuário.\n",
    "|bank_account| Possui ou Não a Conta no Banco.\n",
    "|location_type| Tipo de Localidade (Rural...)\n",
    "|cellphone_access| Possui ou Não Celular.\n",
    "|household_size| Tamanho da Casa.\n",
    "|age_of_respondent| Idade do Usuário.\n",
    "|gender_of_respondent| Gênero do Usuário.\n",
    "|relationship_with_head| Status com o Dono da Conta.\n",
    "|marital_status| Situação Civil.\n",
    "|education_level| Nível de Educação.\n",
    "|job_type| Tipo de Trabalho."
   ]
  },
  {
   "cell_type": "markdown",
   "id": "ff1e9f2a",
   "metadata": {},
   "source": [
    "### Output"
   ]
  },
  {
   "cell_type": "markdown",
   "id": "fa286382",
   "metadata": {},
   "source": [
    "Um arquivo CSV com a previsão do modelo dizendo quais clientes abrirão uma conta digital em duas colunas:  \n",
    "\n",
    "|uid|\tbank_account|\n",
    "|:--|:--------------|\n",
    "|Rwanda_uniqueid_625|\tNo|\n",
    "|Rwanda_uniqueid_1561|\tNo|\n",
    "|Rwanda_uniqueid_4806|\tNo|\n",
    "|Tanzania_uniqueid_4902|\tYes|\n",
    "|Rwanda_uniqueid_980|\tNo|\n",
    "|Rwanda_uniqueid_7043|\tNo|"
   ]
  },
  {
   "cell_type": "markdown",
   "id": "a5a567b8",
   "metadata": {},
   "source": [
    "### Tasks"
   ]
  },
  {
   "cell_type": "markdown",
   "id": "49f9b728",
   "metadata": {},
   "source": [
    "- Descrição dos Dados\n",
    "    - Renomear colunas\n",
    "    - Checar dimenões\n",
    "    - Checar tipos\n",
    "    - Alterar tipos\n",
    "    - Checar vazios\n",
    "    - Preencher os vazios\n",
    "    - Descrições Estatísticas\n",
    "\n",
    "- Feature Engineering\n",
    "    - Mapa de hipóteses\n",
    "    - Criação de hipóteses\n",
    "- Seleção de features (Filtro)\n",
    "- EDA\n",
    "    - Univariada\n",
    "    - Bivariada (teste de hipóteses)\n",
    "    - Multivariadas\n",
    "- Preparação dos dados\n",
    "    - Rescala das features\n",
    "- Seleção de features\n",
    "- Construção do modelo\n",
    "    - modelos de classificação\n",
    "    - guideline\n",
    "- Avaliação do modelo\n",
    "- Fine Tuning\n",
    "- CSV Final"
   ]
  },
  {
   "cell_type": "markdown",
   "id": "054d62ec",
   "metadata": {},
   "source": [
    "## 0. Settings"
   ]
  },
  {
   "cell_type": "markdown",
   "id": "4f046d4a",
   "metadata": {},
   "source": [
    "### 0.1. Imports"
   ]
  },
  {
   "cell_type": "code",
   "execution_count": 1,
   "id": "ebb8fc54",
   "metadata": {
    "ExecuteTime": {
     "end_time": "2022-05-28T16:33:44.864248Z",
     "start_time": "2022-05-28T16:33:44.856705Z"
    }
   },
   "outputs": [],
   "source": [
    "# manipulação de dados\n",
    "import pandas as pd\n",
    "import numpy as np\n",
    "\n",
    "# visualização de dados\n",
    "import matplotlib.pyplot as plt\n",
    "import seaborn as sns\n",
    "\n",
    "from IPython.display import HTML\n",
    "\n",
    "# scikit-learn\n",
    "from sklearn import model_selection as ms\n",
    "from sklearn import ensemble\n",
    "from sklearn import metrics"
   ]
  },
  {
   "cell_type": "markdown",
   "id": "e5ff7771",
   "metadata": {},
   "source": [
    "### 0.2. Helper Functions"
   ]
  },
  {
   "cell_type": "code",
   "execution_count": 2,
   "id": "a1f79abd",
   "metadata": {
    "ExecuteTime": {
     "end_time": "2022-05-28T15:43:17.681754Z",
     "start_time": "2022-05-28T15:43:17.653107Z"
    }
   },
   "outputs": [
    {
     "name": "stdout",
     "output_type": "stream",
     "text": [
      "%pylab is deprecated, use %matplotlib inline and import the required libraries.\n",
      "Populating the interactive namespace from numpy and matplotlib\n"
     ]
    },
    {
     "data": {
      "text/html": [
       "<style>.container {width:100% !important;}</style>"
      ],
      "text/plain": [
       "<IPython.core.display.HTML object>"
      ]
     },
     "metadata": {},
     "output_type": "display_data"
    }
   ],
   "source": [
    "def jupyter_settings():\n",
    "    %matplotlib inline\n",
    "    %pylab inline\n",
    "    \n",
    "    plt.style.use('bmh')\n",
    "    plt.rcParams['figure.figsize'] = [25, 12]\n",
    "    plt.rcParams['font.size'] = 24\n",
    "    \n",
    "    display(HTML('<style>.container {width:100% !important;}</style>'))\n",
    "    pd.options.display.max_columns = None\n",
    "    pd.options.display.max_rows = None\n",
    "    pd.set_option('display.expand_frame_repr', False)\n",
    "    \n",
    "    sns.set()\n",
    "\n",
    "jupyter_settings()"
   ]
  },
  {
   "cell_type": "markdown",
   "id": "c1424f31",
   "metadata": {},
   "source": [
    "### 0.3. Data Loading"
   ]
  },
  {
   "cell_type": "code",
   "execution_count": 3,
   "id": "01cb76bb",
   "metadata": {
    "ExecuteTime": {
     "end_time": "2022-05-28T15:46:40.988120Z",
     "start_time": "2022-05-28T15:46:40.939256Z"
    }
   },
   "outputs": [
    {
     "data": {
      "text/html": [
       "<div>\n",
       "<style scoped>\n",
       "    .dataframe tbody tr th:only-of-type {\n",
       "        vertical-align: middle;\n",
       "    }\n",
       "\n",
       "    .dataframe tbody tr th {\n",
       "        vertical-align: top;\n",
       "    }\n",
       "\n",
       "    .dataframe thead th {\n",
       "        text-align: right;\n",
       "    }\n",
       "</style>\n",
       "<table border=\"1\" class=\"dataframe\">\n",
       "  <thead>\n",
       "    <tr style=\"text-align: right;\">\n",
       "      <th></th>\n",
       "      <th>country</th>\n",
       "      <th>year</th>\n",
       "      <th>uniqueid</th>\n",
       "      <th>location_type</th>\n",
       "      <th>cellphone_access</th>\n",
       "      <th>household_size</th>\n",
       "      <th>age_of_respondent</th>\n",
       "      <th>gender_of_respondent</th>\n",
       "      <th>relationship_with_head</th>\n",
       "      <th>marital_status</th>\n",
       "      <th>education_level</th>\n",
       "      <th>job_type</th>\n",
       "      <th>uid</th>\n",
       "      <th>bank_account</th>\n",
       "    </tr>\n",
       "  </thead>\n",
       "  <tbody>\n",
       "    <tr>\n",
       "      <th>0</th>\n",
       "      <td>Rwanda</td>\n",
       "      <td>2016</td>\n",
       "      <td>uniqueid_4858</td>\n",
       "      <td>Rural</td>\n",
       "      <td>Yes</td>\n",
       "      <td>6</td>\n",
       "      <td>45</td>\n",
       "      <td>Male</td>\n",
       "      <td>Head of Household</td>\n",
       "      <td>Divorced/Seperated</td>\n",
       "      <td>Primary education</td>\n",
       "      <td>Farming and Fishing</td>\n",
       "      <td>Rwanda_uniqueid_4858</td>\n",
       "      <td>No</td>\n",
       "    </tr>\n",
       "    <tr>\n",
       "      <th>1</th>\n",
       "      <td>Tanzania</td>\n",
       "      <td>2017</td>\n",
       "      <td>uniqueid_3015</td>\n",
       "      <td>Urban</td>\n",
       "      <td>No</td>\n",
       "      <td>4</td>\n",
       "      <td>33</td>\n",
       "      <td>Female</td>\n",
       "      <td>Head of Household</td>\n",
       "      <td>Single/Never Married</td>\n",
       "      <td>Primary education</td>\n",
       "      <td>Self employed</td>\n",
       "      <td>Tanzania_uniqueid_3015</td>\n",
       "      <td>No</td>\n",
       "    </tr>\n",
       "    <tr>\n",
       "      <th>2</th>\n",
       "      <td>Rwanda</td>\n",
       "      <td>2016</td>\n",
       "      <td>uniqueid_103</td>\n",
       "      <td>Rural</td>\n",
       "      <td>Yes</td>\n",
       "      <td>7</td>\n",
       "      <td>43</td>\n",
       "      <td>Male</td>\n",
       "      <td>Head of Household</td>\n",
       "      <td>Married/Living together</td>\n",
       "      <td>Secondary education</td>\n",
       "      <td>Farming and Fishing</td>\n",
       "      <td>Rwanda_uniqueid_103</td>\n",
       "      <td>No</td>\n",
       "    </tr>\n",
       "    <tr>\n",
       "      <th>3</th>\n",
       "      <td>Rwanda</td>\n",
       "      <td>2016</td>\n",
       "      <td>uniqueid_4582</td>\n",
       "      <td>Rural</td>\n",
       "      <td>No</td>\n",
       "      <td>6</td>\n",
       "      <td>35</td>\n",
       "      <td>Female</td>\n",
       "      <td>Head of Household</td>\n",
       "      <td>Married/Living together</td>\n",
       "      <td>Primary education</td>\n",
       "      <td>Farming and Fishing</td>\n",
       "      <td>Rwanda_uniqueid_4582</td>\n",
       "      <td>No</td>\n",
       "    </tr>\n",
       "    <tr>\n",
       "      <th>4</th>\n",
       "      <td>Tanzania</td>\n",
       "      <td>2017</td>\n",
       "      <td>uniqueid_2854</td>\n",
       "      <td>Urban</td>\n",
       "      <td>Yes</td>\n",
       "      <td>2</td>\n",
       "      <td>30</td>\n",
       "      <td>Male</td>\n",
       "      <td>Head of Household</td>\n",
       "      <td>Single/Never Married</td>\n",
       "      <td>Primary education</td>\n",
       "      <td>Informally employed</td>\n",
       "      <td>Tanzania_uniqueid_2854</td>\n",
       "      <td>No</td>\n",
       "    </tr>\n",
       "  </tbody>\n",
       "</table>\n",
       "</div>"
      ],
      "text/plain": [
       "    country  year       uniqueid location_type cellphone_access  household_size  age_of_respondent gender_of_respondent relationship_with_head           marital_status      education_level             job_type                     uid bank_account\n",
       "0    Rwanda  2016  uniqueid_4858         Rural              Yes               6                 45                 Male      Head of Household       Divorced/Seperated    Primary education  Farming and Fishing    Rwanda_uniqueid_4858           No\n",
       "1  Tanzania  2017  uniqueid_3015         Urban               No               4                 33               Female      Head of Household     Single/Never Married    Primary education        Self employed  Tanzania_uniqueid_3015           No\n",
       "2    Rwanda  2016   uniqueid_103         Rural              Yes               7                 43                 Male      Head of Household  Married/Living together  Secondary education  Farming and Fishing     Rwanda_uniqueid_103           No\n",
       "3    Rwanda  2016  uniqueid_4582         Rural               No               6                 35               Female      Head of Household  Married/Living together    Primary education  Farming and Fishing    Rwanda_uniqueid_4582           No\n",
       "4  Tanzania  2017  uniqueid_2854         Urban              Yes               2                 30                 Male      Head of Household     Single/Never Married    Primary education  Informally employed  Tanzania_uniqueid_2854           No"
      ]
     },
     "execution_count": 3,
     "metadata": {},
     "output_type": "execute_result"
    }
   ],
   "source": [
    "train_file = './data/train.csv'\n",
    "\n",
    "df_raw = pd.read_csv(train_file)\n",
    "df_raw.head()"
   ]
  },
  {
   "cell_type": "markdown",
   "id": "aad2260b",
   "metadata": {},
   "source": [
    "## 1. Descrição dos Dados"
   ]
  },
  {
   "cell_type": "code",
   "execution_count": 4,
   "id": "f508a3ce",
   "metadata": {
    "ExecuteTime": {
     "end_time": "2022-05-28T15:47:48.366165Z",
     "start_time": "2022-05-28T15:47:48.361497Z"
    }
   },
   "outputs": [],
   "source": [
    "df1 = df_raw.copy()"
   ]
  },
  {
   "cell_type": "markdown",
   "id": "d3da856c",
   "metadata": {},
   "source": [
    "### 1.1. Renomear features"
   ]
  },
  {
   "cell_type": "code",
   "execution_count": 5,
   "id": "08d7ef6e",
   "metadata": {},
   "outputs": [],
   "source": [
    "df1 = df1.drop(columns='uid')\n",
    "df1['bank_account'] = df1['bank_account'].apply(lambda x: 1 if x == 'Yes' else 0)\n",
    "df1['cellphone_access'] = df1['cellphone_access'].apply(lambda x: 1 if x == 'Yes' else 0)\n",
    "df1['gender_of_respondent'] = df1['gender_of_respondent'].apply(lambda x: 1 if x == 'Male' else 0)\n",
    "df1['location_type'] = df1['location_type'].apply(lambda x: 1 if x == 'Urban' else 0)"
   ]
  },
  {
   "cell_type": "markdown",
   "id": "77b33cf9",
   "metadata": {},
   "source": [
    "### 1.2. Checar Dimensões"
   ]
  },
  {
   "cell_type": "code",
   "execution_count": 6,
   "id": "3b3971e8",
   "metadata": {},
   "outputs": [
    {
     "data": {
      "text/plain": [
       "(11762, 13)"
      ]
     },
     "execution_count": 6,
     "metadata": {},
     "output_type": "execute_result"
    }
   ],
   "source": [
    "df1.shape"
   ]
  },
  {
   "cell_type": "markdown",
   "id": "ce43b50d",
   "metadata": {},
   "source": [
    "### 1.3. Checar Tipos"
   ]
  },
  {
   "cell_type": "code",
   "execution_count": 7,
   "id": "8e7ca16e",
   "metadata": {},
   "outputs": [
    {
     "data": {
      "text/plain": [
       "country                   object\n",
       "year                       int64\n",
       "uniqueid                  object\n",
       "location_type              int64\n",
       "cellphone_access           int64\n",
       "household_size             int64\n",
       "age_of_respondent          int64\n",
       "gender_of_respondent       int64\n",
       "relationship_with_head    object\n",
       "marital_status            object\n",
       "education_level           object\n",
       "job_type                  object\n",
       "bank_account               int64\n",
       "dtype: object"
      ]
     },
     "execution_count": 7,
     "metadata": {},
     "output_type": "execute_result"
    }
   ],
   "source": [
    "df1.dtypes"
   ]
  },
  {
   "cell_type": "markdown",
   "id": "c7a3b928",
   "metadata": {},
   "source": [
    "### 1.4. Alterar Tipos"
   ]
  },
  {
   "cell_type": "code",
   "execution_count": 8,
   "id": "e681eb8f",
   "metadata": {},
   "outputs": [],
   "source": [
    "df1['uniqueid'] = df1['uniqueid'].astype('str').str.extractall('(\\d+)').unstack().fillna('').sum(axis=1).astype('int64')\n",
    "\n"
   ]
  },
  {
   "cell_type": "markdown",
   "id": "f2a2415c",
   "metadata": {},
   "source": [
    "### 1.5. Checa NaN"
   ]
  },
  {
   "cell_type": "code",
   "execution_count": 9,
   "id": "5512f338",
   "metadata": {
    "ExecuteTime": {
     "end_time": "2022-05-28T15:47:59.924199Z",
     "start_time": "2022-05-28T15:47:59.892740Z"
    }
   },
   "outputs": [
    {
     "data": {
      "text/plain": [
       "country                   0\n",
       "year                      0\n",
       "uniqueid                  0\n",
       "location_type             0\n",
       "cellphone_access          0\n",
       "household_size            0\n",
       "age_of_respondent         0\n",
       "gender_of_respondent      0\n",
       "relationship_with_head    0\n",
       "marital_status            0\n",
       "education_level           0\n",
       "job_type                  0\n",
       "bank_account              0\n",
       "dtype: int64"
      ]
     },
     "execution_count": 9,
     "metadata": {},
     "output_type": "execute_result"
    }
   ],
   "source": [
    "df1.isna().sum()"
   ]
  },
  {
   "cell_type": "markdown",
   "id": "5a526c9e",
   "metadata": {},
   "source": [
    "### 1.6. Preenche NaN"
   ]
  },
  {
   "cell_type": "markdown",
   "id": "ab0335ee",
   "metadata": {},
   "source": []
  },
  {
   "cell_type": "markdown",
   "id": "34775d08",
   "metadata": {},
   "source": [
    "### 1.7. Estatística Descritiva"
   ]
  },
  {
   "cell_type": "code",
   "execution_count": 29,
   "id": "0b40ccf8",
   "metadata": {},
   "outputs": [
    {
     "name": "stderr",
     "output_type": "stream",
     "text": [
      "C:\\Users\\User\\AppData\\Local\\Temp\\ipykernel_11092\\1114445315.py:2: UserWarning: To output multiple subplots, the figure containing the passed axes is being cleared.\n",
      "  numeric_attributes.hist(ax = ax, bins = 25);\n"
     ]
    }
   ],
   "source": [
    "numeric_attributes = df1.select_dtypes(include = ['int64', 'float64'])\n",
    "fig = plt.figure(figsize=(22,17))\n",
    "ax = fig.gca()\n",
    "numeric_attributes.hist(ax = ax, bins = 25);"
   ]
  },
  {
   "cell_type": "code",
   "execution_count": 11,
   "id": "b6cbb52e",
   "metadata": {},
   "outputs": [
    {
     "data": {
      "text/html": [
       "<div>\n",
       "<style scoped>\n",
       "    .dataframe tbody tr th:only-of-type {\n",
       "        vertical-align: middle;\n",
       "    }\n",
       "\n",
       "    .dataframe tbody tr th {\n",
       "        vertical-align: top;\n",
       "    }\n",
       "\n",
       "    .dataframe thead th {\n",
       "        text-align: right;\n",
       "    }\n",
       "</style>\n",
       "<table border=\"1\" class=\"dataframe\">\n",
       "  <thead>\n",
       "    <tr style=\"text-align: right;\">\n",
       "      <th></th>\n",
       "      <th>count</th>\n",
       "      <th>mean</th>\n",
       "      <th>std</th>\n",
       "      <th>min</th>\n",
       "      <th>25%</th>\n",
       "      <th>50%</th>\n",
       "      <th>75%</th>\n",
       "      <th>max</th>\n",
       "    </tr>\n",
       "  </thead>\n",
       "  <tbody>\n",
       "    <tr>\n",
       "      <th>year</th>\n",
       "      <td>11762.0</td>\n",
       "      <td>2016.983336</td>\n",
       "      <td>0.848669</td>\n",
       "      <td>2016.0</td>\n",
       "      <td>2016.0</td>\n",
       "      <td>2017.0</td>\n",
       "      <td>2018.0</td>\n",
       "      <td>2018.0</td>\n",
       "    </tr>\n",
       "    <tr>\n",
       "      <th>uniqueid</th>\n",
       "      <td>11762.0</td>\n",
       "      <td>3438.185088</td>\n",
       "      <td>2265.873567</td>\n",
       "      <td>2.0</td>\n",
       "      <td>1450.0</td>\n",
       "      <td>3232.0</td>\n",
       "      <td>5209.0</td>\n",
       "      <td>8756.0</td>\n",
       "    </tr>\n",
       "    <tr>\n",
       "      <th>location_type</th>\n",
       "      <td>11762.0</td>\n",
       "      <td>0.396361</td>\n",
       "      <td>0.489162</td>\n",
       "      <td>0.0</td>\n",
       "      <td>0.0</td>\n",
       "      <td>0.0</td>\n",
       "      <td>1.0</td>\n",
       "      <td>1.0</td>\n",
       "    </tr>\n",
       "    <tr>\n",
       "      <th>cellphone_access</th>\n",
       "      <td>11762.0</td>\n",
       "      <td>0.746982</td>\n",
       "      <td>0.434760</td>\n",
       "      <td>0.0</td>\n",
       "      <td>0.0</td>\n",
       "      <td>1.0</td>\n",
       "      <td>1.0</td>\n",
       "      <td>1.0</td>\n",
       "    </tr>\n",
       "    <tr>\n",
       "      <th>household_size</th>\n",
       "      <td>11762.0</td>\n",
       "      <td>3.793913</td>\n",
       "      <td>2.225423</td>\n",
       "      <td>1.0</td>\n",
       "      <td>2.0</td>\n",
       "      <td>3.0</td>\n",
       "      <td>5.0</td>\n",
       "      <td>21.0</td>\n",
       "    </tr>\n",
       "    <tr>\n",
       "      <th>age_of_respondent</th>\n",
       "      <td>11762.0</td>\n",
       "      <td>38.602364</td>\n",
       "      <td>16.334624</td>\n",
       "      <td>16.0</td>\n",
       "      <td>26.0</td>\n",
       "      <td>35.0</td>\n",
       "      <td>48.0</td>\n",
       "      <td>100.0</td>\n",
       "    </tr>\n",
       "    <tr>\n",
       "      <th>gender_of_respondent</th>\n",
       "      <td>11762.0</td>\n",
       "      <td>0.413195</td>\n",
       "      <td>0.492428</td>\n",
       "      <td>0.0</td>\n",
       "      <td>0.0</td>\n",
       "      <td>0.0</td>\n",
       "      <td>1.0</td>\n",
       "      <td>1.0</td>\n",
       "    </tr>\n",
       "    <tr>\n",
       "      <th>bank_account</th>\n",
       "      <td>11762.0</td>\n",
       "      <td>0.143258</td>\n",
       "      <td>0.350351</td>\n",
       "      <td>0.0</td>\n",
       "      <td>0.0</td>\n",
       "      <td>0.0</td>\n",
       "      <td>0.0</td>\n",
       "      <td>1.0</td>\n",
       "    </tr>\n",
       "  </tbody>\n",
       "</table>\n",
       "</div>"
      ],
      "text/plain": [
       "                        count         mean          std     min     25%     50%     75%     max\n",
       "year                  11762.0  2016.983336     0.848669  2016.0  2016.0  2017.0  2018.0  2018.0\n",
       "uniqueid              11762.0  3438.185088  2265.873567     2.0  1450.0  3232.0  5209.0  8756.0\n",
       "location_type         11762.0     0.396361     0.489162     0.0     0.0     0.0     1.0     1.0\n",
       "cellphone_access      11762.0     0.746982     0.434760     0.0     0.0     1.0     1.0     1.0\n",
       "household_size        11762.0     3.793913     2.225423     1.0     2.0     3.0     5.0    21.0\n",
       "age_of_respondent     11762.0    38.602364    16.334624    16.0    26.0    35.0    48.0   100.0\n",
       "gender_of_respondent  11762.0     0.413195     0.492428     0.0     0.0     0.0     1.0     1.0\n",
       "bank_account          11762.0     0.143258     0.350351     0.0     0.0     0.0     0.0     1.0"
      ]
     },
     "execution_count": 11,
     "metadata": {},
     "output_type": "execute_result"
    }
   ],
   "source": [
    "df1.describe().T"
   ]
  },
  {
   "cell_type": "code",
   "execution_count": 12,
   "id": "f1aadae7",
   "metadata": {},
   "outputs": [
    {
     "data": {
      "text/html": [
       "<div>\n",
       "<style scoped>\n",
       "    .dataframe tbody tr th:only-of-type {\n",
       "        vertical-align: middle;\n",
       "    }\n",
       "\n",
       "    .dataframe tbody tr th {\n",
       "        vertical-align: top;\n",
       "    }\n",
       "\n",
       "    .dataframe thead th {\n",
       "        text-align: right;\n",
       "    }\n",
       "</style>\n",
       "<table border=\"1\" class=\"dataframe\">\n",
       "  <thead>\n",
       "    <tr style=\"text-align: right;\">\n",
       "      <th></th>\n",
       "      <th>bank_account</th>\n",
       "      <th>uniqueid</th>\n",
       "    </tr>\n",
       "  </thead>\n",
       "  <tbody>\n",
       "    <tr>\n",
       "      <th>0</th>\n",
       "      <td>0</td>\n",
       "      <td>10077</td>\n",
       "    </tr>\n",
       "    <tr>\n",
       "      <th>1</th>\n",
       "      <td>1</td>\n",
       "      <td>1685</td>\n",
       "    </tr>\n",
       "  </tbody>\n",
       "</table>\n",
       "</div>"
      ],
      "text/plain": [
       "   bank_account  uniqueid\n",
       "0             0     10077\n",
       "1             1      1685"
      ]
     },
     "execution_count": 12,
     "metadata": {},
     "output_type": "execute_result"
    }
   ],
   "source": [
    "df1[['uniqueid','bank_account']].groupby('bank_account').count().reset_index()"
   ]
  },
  {
   "cell_type": "code",
   "execution_count": 13,
   "id": "b3fec4c1",
   "metadata": {},
   "outputs": [
    {
     "data": {
      "text/html": [
       "<div>\n",
       "<style scoped>\n",
       "    .dataframe tbody tr th:only-of-type {\n",
       "        vertical-align: middle;\n",
       "    }\n",
       "\n",
       "    .dataframe tbody tr th {\n",
       "        vertical-align: top;\n",
       "    }\n",
       "\n",
       "    .dataframe thead th {\n",
       "        text-align: right;\n",
       "    }\n",
       "</style>\n",
       "<table border=\"1\" class=\"dataframe\">\n",
       "  <thead>\n",
       "    <tr style=\"text-align: right;\">\n",
       "      <th></th>\n",
       "      <th>gender_of_respondent</th>\n",
       "      <th>bank_account</th>\n",
       "    </tr>\n",
       "  </thead>\n",
       "  <tbody>\n",
       "    <tr>\n",
       "      <th>0</th>\n",
       "      <td>0</td>\n",
       "      <td>6902</td>\n",
       "    </tr>\n",
       "    <tr>\n",
       "      <th>1</th>\n",
       "      <td>1</td>\n",
       "      <td>4860</td>\n",
       "    </tr>\n",
       "  </tbody>\n",
       "</table>\n",
       "</div>"
      ],
      "text/plain": [
       "   gender_of_respondent  bank_account\n",
       "0                     0          6902\n",
       "1                     1          4860"
      ]
     },
     "execution_count": 13,
     "metadata": {},
     "output_type": "execute_result"
    }
   ],
   "source": [
    "df1[['gender_of_respondent', 'bank_account']].groupby('gender_of_respondent').count().reset_index()"
   ]
  },
  {
   "cell_type": "code",
   "execution_count": null,
   "id": "43d1aafa",
   "metadata": {},
   "outputs": [],
   "source": []
  },
  {
   "cell_type": "code",
   "execution_count": 14,
   "id": "8a543ebe",
   "metadata": {
    "scrolled": true
   },
   "outputs": [
    {
     "name": "stderr",
     "output_type": "stream",
     "text": [
      "C:\\Users\\User\\AppData\\Local\\Temp\\ipykernel_11092\\2837848677.py:4: UserWarning: To output multiple subplots, the figure containing the passed axes is being cleared.\n",
      "  with_account.hist(ax = ax, bins = 25);\n"
     ]
    },
    {
     "data": {
      "image/png": "[encoded data removed]",
      "text/plain": [
       "<Figure size 1584x1224 with 9 Axes>"
      ]
     },
     "metadata": {},
     "output_type": "display_data"
    }
   ],
   "source": [
    "with_account = df1[df1['bank_account'] == 1]\n",
    "fig = plt.figure(figsize=(22,17))\n",
    "ax = fig.gca()\n",
    "with_account.hist(ax = ax, bins = 25);"
   ]
  },
  {
   "cell_type": "code",
   "execution_count": 15,
   "id": "16d21285",
   "metadata": {},
   "outputs": [
    {
     "data": {
      "text/html": [
       "<div>\n",
       "<style scoped>\n",
       "    .dataframe tbody tr th:only-of-type {\n",
       "        vertical-align: middle;\n",
       "    }\n",
       "\n",
       "    .dataframe tbody tr th {\n",
       "        vertical-align: top;\n",
       "    }\n",
       "\n",
       "    .dataframe thead th {\n",
       "        text-align: right;\n",
       "    }\n",
       "</style>\n",
       "<table border=\"1\" class=\"dataframe\">\n",
       "  <thead>\n",
       "    <tr style=\"text-align: right;\">\n",
       "      <th></th>\n",
       "      <th>gender_of_respondent</th>\n",
       "      <th>bank_account</th>\n",
       "    </tr>\n",
       "  </thead>\n",
       "  <tbody>\n",
       "    <tr>\n",
       "      <th>0</th>\n",
       "      <td>0</td>\n",
       "      <td>765</td>\n",
       "    </tr>\n",
       "    <tr>\n",
       "      <th>1</th>\n",
       "      <td>1</td>\n",
       "      <td>920</td>\n",
       "    </tr>\n",
       "  </tbody>\n",
       "</table>\n",
       "</div>"
      ],
      "text/plain": [
       "   gender_of_respondent  bank_account\n",
       "0                     0           765\n",
       "1                     1           920"
      ]
     },
     "execution_count": 15,
     "metadata": {},
     "output_type": "execute_result"
    }
   ],
   "source": [
    "with_account[['gender_of_respondent', 'bank_account']].groupby('gender_of_respondent').count().reset_index()"
   ]
  },
  {
   "cell_type": "code",
   "execution_count": 16,
   "id": "735bb403",
   "metadata": {},
   "outputs": [
    {
     "data": {
      "text/html": [
       "<div>\n",
       "<style scoped>\n",
       "    .dataframe tbody tr th:only-of-type {\n",
       "        vertical-align: middle;\n",
       "    }\n",
       "\n",
       "    .dataframe tbody tr th {\n",
       "        vertical-align: top;\n",
       "    }\n",
       "\n",
       "    .dataframe thead th {\n",
       "        text-align: right;\n",
       "    }\n",
       "</style>\n",
       "<table border=\"1\" class=\"dataframe\">\n",
       "  <thead>\n",
       "    <tr style=\"text-align: right;\">\n",
       "      <th></th>\n",
       "      <th>cellphone_access</th>\n",
       "      <th>bank_account</th>\n",
       "    </tr>\n",
       "  </thead>\n",
       "  <tbody>\n",
       "    <tr>\n",
       "      <th>0</th>\n",
       "      <td>0</td>\n",
       "      <td>53</td>\n",
       "    </tr>\n",
       "    <tr>\n",
       "      <th>1</th>\n",
       "      <td>1</td>\n",
       "      <td>1632</td>\n",
       "    </tr>\n",
       "  </tbody>\n",
       "</table>\n",
       "</div>"
      ],
      "text/plain": [
       "   cellphone_access  bank_account\n",
       "0                 0            53\n",
       "1                 1          1632"
      ]
     },
     "execution_count": 16,
     "metadata": {},
     "output_type": "execute_result"
    }
   ],
   "source": [
    "with_account[['cellphone_access', 'bank_account']].groupby('cellphone_access').count().reset_index()"
   ]
  },
  {
   "cell_type": "code",
   "execution_count": 17,
   "id": "cf9cc3f8",
   "metadata": {},
   "outputs": [
    {
     "data": {
      "text/html": [
       "<div>\n",
       "<style scoped>\n",
       "    .dataframe tbody tr th:only-of-type {\n",
       "        vertical-align: middle;\n",
       "    }\n",
       "\n",
       "    .dataframe tbody tr th {\n",
       "        vertical-align: top;\n",
       "    }\n",
       "\n",
       "    .dataframe thead th {\n",
       "        text-align: right;\n",
       "    }\n",
       "</style>\n",
       "<table border=\"1\" class=\"dataframe\">\n",
       "  <thead>\n",
       "    <tr style=\"text-align: right;\">\n",
       "      <th></th>\n",
       "      <th>relationship_with_head</th>\n",
       "      <th>bank_account</th>\n",
       "    </tr>\n",
       "  </thead>\n",
       "  <tbody>\n",
       "    <tr>\n",
       "      <th>0</th>\n",
       "      <td>Child</td>\n",
       "      <td>90</td>\n",
       "    </tr>\n",
       "    <tr>\n",
       "      <th>1</th>\n",
       "      <td>Head of Household</td>\n",
       "      <td>1143</td>\n",
       "    </tr>\n",
       "    <tr>\n",
       "      <th>2</th>\n",
       "      <td>Other non-relatives</td>\n",
       "      <td>12</td>\n",
       "    </tr>\n",
       "    <tr>\n",
       "      <th>3</th>\n",
       "      <td>Other relative</td>\n",
       "      <td>37</td>\n",
       "    </tr>\n",
       "    <tr>\n",
       "      <th>4</th>\n",
       "      <td>Parent</td>\n",
       "      <td>30</td>\n",
       "    </tr>\n",
       "    <tr>\n",
       "      <th>5</th>\n",
       "      <td>Spouse</td>\n",
       "      <td>373</td>\n",
       "    </tr>\n",
       "  </tbody>\n",
       "</table>\n",
       "</div>"
      ],
      "text/plain": [
       "  relationship_with_head  bank_account\n",
       "0                  Child            90\n",
       "1      Head of Household          1143\n",
       "2    Other non-relatives            12\n",
       "3         Other relative            37\n",
       "4                 Parent            30\n",
       "5                 Spouse           373"
      ]
     },
     "execution_count": 17,
     "metadata": {},
     "output_type": "execute_result"
    }
   ],
   "source": [
    "with_account[['relationship_with_head', 'bank_account']].groupby('relationship_with_head').count().reset_index()"
   ]
  },
  {
   "cell_type": "code",
   "execution_count": 18,
   "id": "f770016a",
   "metadata": {},
   "outputs": [
    {
     "data": {
      "text/html": [
       "<div>\n",
       "<style scoped>\n",
       "    .dataframe tbody tr th:only-of-type {\n",
       "        vertical-align: middle;\n",
       "    }\n",
       "\n",
       "    .dataframe tbody tr th {\n",
       "        vertical-align: top;\n",
       "    }\n",
       "\n",
       "    .dataframe thead th {\n",
       "        text-align: right;\n",
       "    }\n",
       "</style>\n",
       "<table border=\"1\" class=\"dataframe\">\n",
       "  <thead>\n",
       "    <tr style=\"text-align: right;\">\n",
       "      <th></th>\n",
       "      <th>job_type</th>\n",
       "      <th>bank_account</th>\n",
       "    </tr>\n",
       "  </thead>\n",
       "  <tbody>\n",
       "    <tr>\n",
       "      <th>0</th>\n",
       "      <td>Dont Know/Refuse to answer</td>\n",
       "      <td>10</td>\n",
       "    </tr>\n",
       "    <tr>\n",
       "      <th>1</th>\n",
       "      <td>Farming and Fishing</td>\n",
       "      <td>345</td>\n",
       "    </tr>\n",
       "    <tr>\n",
       "      <th>2</th>\n",
       "      <td>Formally employed Government</td>\n",
       "      <td>154</td>\n",
       "    </tr>\n",
       "    <tr>\n",
       "      <th>3</th>\n",
       "      <td>Formally employed Private</td>\n",
       "      <td>280</td>\n",
       "    </tr>\n",
       "    <tr>\n",
       "      <th>4</th>\n",
       "      <td>Government Dependent</td>\n",
       "      <td>24</td>\n",
       "    </tr>\n",
       "    <tr>\n",
       "      <th>5</th>\n",
       "      <td>Informally employed</td>\n",
       "      <td>208</td>\n",
       "    </tr>\n",
       "    <tr>\n",
       "      <th>6</th>\n",
       "      <td>No Income</td>\n",
       "      <td>5</td>\n",
       "    </tr>\n",
       "    <tr>\n",
       "      <th>7</th>\n",
       "      <td>Other Income</td>\n",
       "      <td>105</td>\n",
       "    </tr>\n",
       "    <tr>\n",
       "      <th>8</th>\n",
       "      <td>Remittance Dependent</td>\n",
       "      <td>118</td>\n",
       "    </tr>\n",
       "    <tr>\n",
       "      <th>9</th>\n",
       "      <td>Self employed</td>\n",
       "      <td>436</td>\n",
       "    </tr>\n",
       "  </tbody>\n",
       "</table>\n",
       "</div>"
      ],
      "text/plain": [
       "                       job_type  bank_account\n",
       "0    Dont Know/Refuse to answer            10\n",
       "1           Farming and Fishing           345\n",
       "2  Formally employed Government           154\n",
       "3     Formally employed Private           280\n",
       "4          Government Dependent            24\n",
       "5           Informally employed           208\n",
       "6                     No Income             5\n",
       "7                  Other Income           105\n",
       "8          Remittance Dependent           118\n",
       "9                 Self employed           436"
      ]
     },
     "execution_count": 18,
     "metadata": {},
     "output_type": "execute_result"
    }
   ],
   "source": [
    "with_account[['job_type', 'bank_account']].groupby('job_type').count().reset_index()"
   ]
  },
  {
   "cell_type": "markdown",
   "id": "e7f66d38",
   "metadata": {},
   "source": [
    "## 2. Feature Engineering"
   ]
  },
  {
   "cell_type": "code",
   "execution_count": 19,
   "id": "0ef8e10d",
   "metadata": {
    "ExecuteTime": {
     "end_time": "2022-05-28T15:49:06.487597Z",
     "start_time": "2022-05-28T15:49:06.480843Z"
    }
   },
   "outputs": [],
   "source": [
    "df2 = df1.copy()"
   ]
  },
  {
   "cell_type": "markdown",
   "id": "b8673e18",
   "metadata": {},
   "source": [
    "### 2.1. Mapa de Hipóteses"
   ]
  },
  {
   "cell_type": "markdown",
   "id": "c58557e7",
   "metadata": {},
   "source": [
    "### 2.2. Criação de Hipóteses"
   ]
  },
  {
   "cell_type": "markdown",
   "id": "46e033de",
   "metadata": {},
   "source": [
    "## 3. Seleção de Features"
   ]
  },
  {
   "cell_type": "code",
   "execution_count": 20,
   "id": "b60808b2",
   "metadata": {
    "ExecuteTime": {
     "end_time": "2022-05-28T15:49:16.731951Z",
     "start_time": "2022-05-28T15:49:16.724759Z"
    }
   },
   "outputs": [],
   "source": [
    "df3 = df2.copy()"
   ]
  },
  {
   "cell_type": "markdown",
   "id": "9a682c0b",
   "metadata": {},
   "source": [
    "## 4. EDA"
   ]
  },
  {
   "cell_type": "code",
   "execution_count": 21,
   "id": "00784e93",
   "metadata": {
    "ExecuteTime": {
     "end_time": "2022-05-28T15:49:26.562335Z",
     "start_time": "2022-05-28T15:49:26.555672Z"
    }
   },
   "outputs": [],
   "source": [
    "df4 = df3.copy()"
   ]
  },
  {
   "cell_type": "markdown",
   "id": "f809a85c",
   "metadata": {},
   "source": [
    "### 4.1. Univariada"
   ]
  },
  {
   "cell_type": "markdown",
   "id": "8f3427ae",
   "metadata": {},
   "source": [
    "### 4.2. Bivariadas"
   ]
  },
  {
   "cell_type": "markdown",
   "id": "38fc6f63",
   "metadata": {},
   "source": [
    "### 4.3. Multivariadas"
   ]
  },
  {
   "cell_type": "markdown",
   "id": "ef9dd422",
   "metadata": {},
   "source": [
    "## 5. Preparação dos Dados"
   ]
  },
  {
   "cell_type": "code",
   "execution_count": 22,
   "id": "8d0a0f61",
   "metadata": {
    "ExecuteTime": {
     "end_time": "2022-05-28T16:01:26.071677Z",
     "start_time": "2022-05-28T16:01:26.064030Z"
    }
   },
   "outputs": [],
   "source": [
    "df5 = df4.copy()"
   ]
  },
  {
   "cell_type": "markdown",
   "id": "6ea4a32c",
   "metadata": {},
   "source": [
    "### 5.1. Reescala dos Dados"
   ]
  },
  {
   "cell_type": "markdown",
   "id": "ce70d8f1",
   "metadata": {},
   "source": [
    "## 6. Seleção de Features"
   ]
  },
  {
   "cell_type": "code",
   "execution_count": 23,
   "id": "5cbb50da",
   "metadata": {
    "ExecuteTime": {
     "end_time": "2022-05-28T16:01:28.524119Z",
     "start_time": "2022-05-28T16:01:28.517769Z"
    }
   },
   "outputs": [],
   "source": [
    "df6 = df5.copy()"
   ]
  },
  {
   "cell_type": "markdown",
   "id": "9c9d749c",
   "metadata": {},
   "source": [
    "### 6.1. Separação de Treino e Teste"
   ]
  },
  {
   "cell_type": "code",
   "execution_count": 24,
   "id": "68026fbc",
   "metadata": {
    "ExecuteTime": {
     "end_time": "2022-05-28T16:01:37.502162Z",
     "start_time": "2022-05-28T16:01:37.479348Z"
    }
   },
   "outputs": [
    {
     "data": {
      "text/html": [
       "<div>\n",
       "<style scoped>\n",
       "    .dataframe tbody tr th:only-of-type {\n",
       "        vertical-align: middle;\n",
       "    }\n",
       "\n",
       "    .dataframe tbody tr th {\n",
       "        vertical-align: top;\n",
       "    }\n",
       "\n",
       "    .dataframe thead th {\n",
       "        text-align: right;\n",
       "    }\n",
       "</style>\n",
       "<table border=\"1\" class=\"dataframe\">\n",
       "  <thead>\n",
       "    <tr style=\"text-align: right;\">\n",
       "      <th></th>\n",
       "      <th>country</th>\n",
       "      <th>year</th>\n",
       "      <th>uniqueid</th>\n",
       "      <th>location_type</th>\n",
       "      <th>cellphone_access</th>\n",
       "      <th>household_size</th>\n",
       "      <th>age_of_respondent</th>\n",
       "      <th>gender_of_respondent</th>\n",
       "      <th>relationship_with_head</th>\n",
       "      <th>marital_status</th>\n",
       "      <th>education_level</th>\n",
       "      <th>job_type</th>\n",
       "      <th>bank_account</th>\n",
       "    </tr>\n",
       "  </thead>\n",
       "  <tbody>\n",
       "    <tr>\n",
       "      <th>0</th>\n",
       "      <td>Rwanda</td>\n",
       "      <td>2016</td>\n",
       "      <td>4858</td>\n",
       "      <td>0</td>\n",
       "      <td>1</td>\n",
       "      <td>6</td>\n",
       "      <td>45</td>\n",
       "      <td>1</td>\n",
       "      <td>Head of Household</td>\n",
       "      <td>Divorced/Seperated</td>\n",
       "      <td>Primary education</td>\n",
       "      <td>Farming and Fishing</td>\n",
       "      <td>0</td>\n",
       "    </tr>\n",
       "    <tr>\n",
       "      <th>1</th>\n",
       "      <td>Tanzania</td>\n",
       "      <td>2017</td>\n",
       "      <td>3015</td>\n",
       "      <td>1</td>\n",
       "      <td>0</td>\n",
       "      <td>4</td>\n",
       "      <td>33</td>\n",
       "      <td>0</td>\n",
       "      <td>Head of Household</td>\n",
       "      <td>Single/Never Married</td>\n",
       "      <td>Primary education</td>\n",
       "      <td>Self employed</td>\n",
       "      <td>0</td>\n",
       "    </tr>\n",
       "    <tr>\n",
       "      <th>2</th>\n",
       "      <td>Rwanda</td>\n",
       "      <td>2016</td>\n",
       "      <td>103</td>\n",
       "      <td>0</td>\n",
       "      <td>1</td>\n",
       "      <td>7</td>\n",
       "      <td>43</td>\n",
       "      <td>1</td>\n",
       "      <td>Head of Household</td>\n",
       "      <td>Married/Living together</td>\n",
       "      <td>Secondary education</td>\n",
       "      <td>Farming and Fishing</td>\n",
       "      <td>0</td>\n",
       "    </tr>\n",
       "    <tr>\n",
       "      <th>3</th>\n",
       "      <td>Rwanda</td>\n",
       "      <td>2016</td>\n",
       "      <td>4582</td>\n",
       "      <td>0</td>\n",
       "      <td>0</td>\n",
       "      <td>6</td>\n",
       "      <td>35</td>\n",
       "      <td>0</td>\n",
       "      <td>Head of Household</td>\n",
       "      <td>Married/Living together</td>\n",
       "      <td>Primary education</td>\n",
       "      <td>Farming and Fishing</td>\n",
       "      <td>0</td>\n",
       "    </tr>\n",
       "    <tr>\n",
       "      <th>4</th>\n",
       "      <td>Tanzania</td>\n",
       "      <td>2017</td>\n",
       "      <td>2854</td>\n",
       "      <td>1</td>\n",
       "      <td>1</td>\n",
       "      <td>2</td>\n",
       "      <td>30</td>\n",
       "      <td>1</td>\n",
       "      <td>Head of Household</td>\n",
       "      <td>Single/Never Married</td>\n",
       "      <td>Primary education</td>\n",
       "      <td>Informally employed</td>\n",
       "      <td>0</td>\n",
       "    </tr>\n",
       "  </tbody>\n",
       "</table>\n",
       "</div>"
      ],
      "text/plain": [
       "    country  year  uniqueid  location_type  cellphone_access  household_size  age_of_respondent  gender_of_respondent relationship_with_head           marital_status      education_level             job_type  bank_account\n",
       "0    Rwanda  2016      4858              0                 1               6                 45                     1      Head of Household       Divorced/Seperated    Primary education  Farming and Fishing             0\n",
       "1  Tanzania  2017      3015              1                 0               4                 33                     0      Head of Household     Single/Never Married    Primary education        Self employed             0\n",
       "2    Rwanda  2016       103              0                 1               7                 43                     1      Head of Household  Married/Living together  Secondary education  Farming and Fishing             0\n",
       "3    Rwanda  2016      4582              0                 0               6                 35                     0      Head of Household  Married/Living together    Primary education  Farming and Fishing             0\n",
       "4  Tanzania  2017      2854              1                 1               2                 30                     1      Head of Household     Single/Never Married    Primary education  Informally employed             0"
      ]
     },
     "execution_count": 24,
     "metadata": {},
     "output_type": "execute_result"
    }
   ],
   "source": [
    "df6.head()"
   ]
  },
  {
   "cell_type": "code",
   "execution_count": 25,
   "id": "31a51331",
   "metadata": {
    "ExecuteTime": {
     "end_time": "2022-05-28T16:31:11.625670Z",
     "start_time": "2022-05-28T16:31:11.605001Z"
    }
   },
   "outputs": [],
   "source": [
    "X = df6.select_dtypes(include=['int64', 'float64'])\n",
    "y = df6['bank_account'].apply(lambda x: 1 if x == 'Yes' else 0)\n",
    "\n",
    "x_train, x_test, y_train, y_test = ms.train_test_split(X, y, test_size=0.3, random_state=42)"
   ]
  },
  {
   "cell_type": "markdown",
   "id": "7132a5b0",
   "metadata": {},
   "source": [
    "## 7. Construção do Modelo"
   ]
  },
  {
   "cell_type": "markdown",
   "id": "78377f4a",
   "metadata": {
    "ExecuteTime": {
     "end_time": "2022-05-28T16:11:32.634627Z",
     "start_time": "2022-05-28T16:11:32.611107Z"
    }
   },
   "source": [
    "### 7.1. Random Forest Classifier"
   ]
  },
  {
   "cell_type": "code",
   "execution_count": 26,
   "id": "074beb9b",
   "metadata": {
    "ExecuteTime": {
     "end_time": "2022-05-28T16:34:56.085664Z",
     "start_time": "2022-05-28T16:34:55.482612Z"
    }
   },
   "outputs": [
    {
     "name": "stderr",
     "output_type": "stream",
     "text": [
      "C:\\Users\\User\\AppData\\Local\\Programs\\Python\\Python310\\lib\\site-packages\\sklearn\\metrics\\_classification.py:1592: UndefinedMetricWarning: F-score is ill-defined and being set to 0.0 due to no true nor predicted samples. Use `zero_division` parameter to control this behavior.\n",
      "  _warn_prf(average, \"true nor predicted\", \"F-score is\", len(true_sum))\n"
     ]
    },
    {
     "data": {
      "text/plain": [
       "0.0"
      ]
     },
     "execution_count": 26,
     "metadata": {},
     "output_type": "execute_result"
    }
   ],
   "source": [
    "# criar o modelo\n",
    "rfc_model = ensemble.RandomForestClassifier(random_state=42)\n",
    "\n",
    "# treinar o modelo\n",
    "rfc_model.fit(x_train, y_train)\n",
    "\n",
    "# fazer a predição\n",
    "yhat_rfc = rfc_model.predict(x_test)\n",
    "\n",
    "# calcula a performance\n",
    "metrics.f1_score(y_test, yhat_rfc)"
   ]
  },
  {
   "cell_type": "markdown",
   "id": "023f8190",
   "metadata": {},
   "source": [
    "## 8. Avaliação do Modelo"
   ]
  },
  {
   "cell_type": "markdown",
   "id": "987f37f4",
   "metadata": {},
   "source": [
    "## 9. Fine Tunning"
   ]
  },
  {
   "cell_type": "markdown",
   "id": "be53c79e",
   "metadata": {},
   "source": [
    "## 10. Output da Submissão"
   ]
  },
  {
   "cell_type": "code",
   "execution_count": 27,
   "id": "31f79ff2",
   "metadata": {
    "ExecuteTime": {
     "end_time": "2022-05-28T16:39:42.726234Z",
     "start_time": "2022-05-28T16:39:42.714534Z"
    }
   },
   "outputs": [
    {
     "data": {
      "text/html": [
       "<div>\n",
       "<style scoped>\n",
       "    .dataframe tbody tr th:only-of-type {\n",
       "        vertical-align: middle;\n",
       "    }\n",
       "\n",
       "    .dataframe tbody tr th {\n",
       "        vertical-align: top;\n",
       "    }\n",
       "\n",
       "    .dataframe thead th {\n",
       "        text-align: right;\n",
       "    }\n",
       "</style>\n",
       "<table border=\"1\" class=\"dataframe\">\n",
       "  <thead>\n",
       "    <tr style=\"text-align: right;\">\n",
       "      <th></th>\n",
       "      <th>year</th>\n",
       "      <th>uniqueid</th>\n",
       "      <th>location_type</th>\n",
       "      <th>cellphone_access</th>\n",
       "      <th>household_size</th>\n",
       "      <th>age_of_respondent</th>\n",
       "      <th>gender_of_respondent</th>\n",
       "      <th>bank_account</th>\n",
       "    </tr>\n",
       "  </thead>\n",
       "  <tbody>\n",
       "    <tr>\n",
       "      <th>3717</th>\n",
       "      <td>2016</td>\n",
       "      <td>8636</td>\n",
       "      <td>0</td>\n",
       "      <td>1</td>\n",
       "      <td>6</td>\n",
       "      <td>48</td>\n",
       "      <td>0</td>\n",
       "      <td>0</td>\n",
       "    </tr>\n",
       "    <tr>\n",
       "      <th>11036</th>\n",
       "      <td>2016</td>\n",
       "      <td>7483</td>\n",
       "      <td>1</td>\n",
       "      <td>0</td>\n",
       "      <td>3</td>\n",
       "      <td>27</td>\n",
       "      <td>0</td>\n",
       "      <td>0</td>\n",
       "    </tr>\n",
       "    <tr>\n",
       "      <th>2088</th>\n",
       "      <td>2017</td>\n",
       "      <td>4845</td>\n",
       "      <td>1</td>\n",
       "      <td>0</td>\n",
       "      <td>4</td>\n",
       "      <td>32</td>\n",
       "      <td>0</td>\n",
       "      <td>0</td>\n",
       "    </tr>\n",
       "    <tr>\n",
       "      <th>1399</th>\n",
       "      <td>2018</td>\n",
       "      <td>1328</td>\n",
       "      <td>0</td>\n",
       "      <td>0</td>\n",
       "      <td>3</td>\n",
       "      <td>19</td>\n",
       "      <td>0</td>\n",
       "      <td>0</td>\n",
       "    </tr>\n",
       "    <tr>\n",
       "      <th>1178</th>\n",
       "      <td>2017</td>\n",
       "      <td>4578</td>\n",
       "      <td>1</td>\n",
       "      <td>1</td>\n",
       "      <td>2</td>\n",
       "      <td>36</td>\n",
       "      <td>1</td>\n",
       "      <td>0</td>\n",
       "    </tr>\n",
       "  </tbody>\n",
       "</table>\n",
       "</div>"
      ],
      "text/plain": [
       "       year  uniqueid  location_type  cellphone_access  household_size  age_of_respondent  gender_of_respondent  bank_account\n",
       "3717   2016      8636              0                 1               6                 48                     0             0\n",
       "11036  2016      7483              1                 0               3                 27                     0             0\n",
       "2088   2017      4845              1                 0               4                 32                     0             0\n",
       "1399   2018      1328              0                 0               3                 19                     0             0\n",
       "1178   2017      4578              1                 1               2                 36                     1             0"
      ]
     },
     "execution_count": 27,
     "metadata": {},
     "output_type": "execute_result"
    }
   ],
   "source": [
    "x_test.head()"
   ]
  },
  {
   "cell_type": "code",
   "execution_count": 28,
   "id": "998a30b9",
   "metadata": {
    "ExecuteTime": {
     "end_time": "2022-05-28T16:39:57.427594Z",
     "start_time": "2022-05-28T16:39:57.420106Z"
    }
   },
   "outputs": [
    {
     "data": {
      "text/plain": [
       "3717     0\n",
       "11036    0\n",
       "2088     0\n",
       "1399     0\n",
       "1178     0\n",
       "Name: bank_account, dtype: int64"
      ]
     },
     "execution_count": 28,
     "metadata": {},
     "output_type": "execute_result"
    }
   ],
   "source": [
    "y_test[0:5]"
   ]
  }
 ],
 "metadata": {
  "kernelspec": {
   "display_name": "Python 3 (ipykernel)",
   "language": "python",
   "name": "python3"
  },
  "language_info": {
   "codemirror_mode": {
    "name": "ipython",
    "version": 3
   },
   "file_extension": ".py",
   "mimetype": "text/x-python",
   "name": "python",
   "nbconvert_exporter": "python",
   "pygments_lexer": "ipython3",
   "version": "3.10.4"
  }
 },
 "nbformat": 4,
 "nbformat_minor": 5
}
